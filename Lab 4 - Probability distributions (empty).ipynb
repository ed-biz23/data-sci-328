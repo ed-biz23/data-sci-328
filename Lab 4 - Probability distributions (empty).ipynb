{
 "cells": [
  {
   "cell_type": "code",
   "execution_count": 1,
   "metadata": {},
   "outputs": [
    {
     "name": "stdout",
     "output_type": "stream",
     "text": [
      "Requirement already satisfied: numpy in /Users/edwardbiswas/anaconda3/lib/python3.7/site-packages (1.16.4)\r\n"
     ]
    }
   ],
   "source": [
    "# Install the numpy library if needed\n",
    "!pip install --user numpy"
   ]
  },
  {
   "cell_type": "code",
   "execution_count": 2,
   "metadata": {},
   "outputs": [
    {
     "name": "stdout",
     "output_type": "stream",
     "text": [
      "Requirement already satisfied: scipy in /Users/edwardbiswas/anaconda3/lib/python3.7/site-packages (1.3.0)\r\n"
     ]
    }
   ],
   "source": [
    "# Install the scipy library if needed\n",
    "!pip install --user scipy"
   ]
  },
  {
   "cell_type": "code",
   "execution_count": 3,
   "metadata": {},
   "outputs": [],
   "source": [
    "import matplotlib.pyplot as plt\n",
    "import pandas as pd\n",
    "import numpy as np\n",
    "import scipy.stats as stats\n",
    "\n",
    "%matplotlib inline"
   ]
  },
  {
   "cell_type": "markdown",
   "metadata": {},
   "source": [
    "# Lab 4 - Probability distributions: Normal and Exponential\n",
    "\n",
    "Recall that a *probability distribution* is a math function that describes the probabilities of different outcomes.  Sometimes, we want to find the probability distribution that describes the distribution of the data (called the *empirical distribution*).\n",
    "\n",
    "## Normal or Gaussian distribution\n",
    "\n",
    "In MAT 128 we looked at the normal (or Gaussian) distribution, which has the equation:  $${\\displaystyle f(x\\mid \\mu ,\\sigma ^{2})={\\frac {1}{\\sqrt {2\\pi \\sigma ^{2}}}}e^{-{\\frac {(x-\\mu )^{2}}{2\\sigma ^{2}}}}}$$\n",
    "\n",
    "This distribution is a *parametric distribution* because the function depends on two parameters:  the mean $\\mu$ (pronounced \"mu\"), and the standard deviation $\\sigma$ (pronounced \"sigma\").\n",
    "\n",
    "Let's plot the normal distribution.  First define variables for mu and sigma so we can easily change them."
   ]
  },
  {
   "cell_type": "code",
   "execution_count": 4,
   "metadata": {},
   "outputs": [],
   "source": [
    "mu = 0\n",
    "sigma = 1"
   ]
  },
  {
   "cell_type": "markdown",
   "metadata": {},
   "source": [
    "To plot graphs in Python, we actually plot a bunch of points very close together, and thus need to generate the x and y values for these points.  First we generate 100 evenly spaces x values between mu - 3*sigma = -3 and mu+3*sigma = 3."
   ]
  },
  {
   "cell_type": "code",
   "execution_count": 5,
   "metadata": {},
   "outputs": [
    {
     "data": {
      "text/plain": [
       "array([-3.        , -2.93939394, -2.87878788, -2.81818182, -2.75757576,\n",
       "       -2.6969697 , -2.63636364, -2.57575758, -2.51515152, -2.45454545,\n",
       "       -2.39393939, -2.33333333, -2.27272727, -2.21212121, -2.15151515,\n",
       "       -2.09090909, -2.03030303, -1.96969697, -1.90909091, -1.84848485,\n",
       "       -1.78787879, -1.72727273, -1.66666667, -1.60606061, -1.54545455,\n",
       "       -1.48484848, -1.42424242, -1.36363636, -1.3030303 , -1.24242424,\n",
       "       -1.18181818, -1.12121212, -1.06060606, -1.        , -0.93939394,\n",
       "       -0.87878788, -0.81818182, -0.75757576, -0.6969697 , -0.63636364,\n",
       "       -0.57575758, -0.51515152, -0.45454545, -0.39393939, -0.33333333,\n",
       "       -0.27272727, -0.21212121, -0.15151515, -0.09090909, -0.03030303,\n",
       "        0.03030303,  0.09090909,  0.15151515,  0.21212121,  0.27272727,\n",
       "        0.33333333,  0.39393939,  0.45454545,  0.51515152,  0.57575758,\n",
       "        0.63636364,  0.6969697 ,  0.75757576,  0.81818182,  0.87878788,\n",
       "        0.93939394,  1.        ,  1.06060606,  1.12121212,  1.18181818,\n",
       "        1.24242424,  1.3030303 ,  1.36363636,  1.42424242,  1.48484848,\n",
       "        1.54545455,  1.60606061,  1.66666667,  1.72727273,  1.78787879,\n",
       "        1.84848485,  1.90909091,  1.96969697,  2.03030303,  2.09090909,\n",
       "        2.15151515,  2.21212121,  2.27272727,  2.33333333,  2.39393939,\n",
       "        2.45454545,  2.51515152,  2.57575758,  2.63636364,  2.6969697 ,\n",
       "        2.75757576,  2.81818182,  2.87878788,  2.93939394,  3.        ])"
      ]
     },
     "execution_count": 5,
     "metadata": {},
     "output_type": "execute_result"
    }
   ],
   "source": [
    "x = np.linspace(mu - 3*sigma, mu + 3*sigma, 100)\n",
    "x"
   ]
  },
  {
   "cell_type": "markdown",
   "metadata": {},
   "source": [
    "For each x value, we can compute the value of the normal distribution (the y value):"
   ]
  },
  {
   "cell_type": "code",
   "execution_count": 6,
   "metadata": {},
   "outputs": [
    {
     "data": {
      "text/plain": [
       "array([0.00443185, 0.00530579, 0.00632878, 0.00752133, 0.00890582,\n",
       "       0.0105065 , 0.01234943, 0.01446241, 0.01687483, 0.01961746,\n",
       "       0.02272223, 0.02622189, 0.03014961, 0.03453857, 0.03942137,\n",
       "       0.0448295 , 0.05079264, 0.05733801, 0.06448952, 0.07226707,\n",
       "       0.08068571, 0.08975477, 0.09947714, 0.10984842, 0.12085626,\n",
       "       0.13247967, 0.14468855, 0.15744319, 0.17069405, 0.18438164,\n",
       "       0.1984366 , 0.21277993, 0.22732351, 0.24197072, 0.2566174 ,\n",
       "       0.27115285, 0.28546117, 0.29942268, 0.31291556, 0.3258175 ,\n",
       "       0.33800759, 0.34936814, 0.35978656, 0.36915722, 0.37738323,\n",
       "       0.38437808, 0.3900672 , 0.39438923, 0.39729716, 0.39875915,\n",
       "       0.39875915, 0.39729716, 0.39438923, 0.3900672 , 0.38437808,\n",
       "       0.37738323, 0.36915722, 0.35978656, 0.34936814, 0.33800759,\n",
       "       0.3258175 , 0.31291556, 0.29942268, 0.28546117, 0.27115285,\n",
       "       0.2566174 , 0.24197072, 0.22732351, 0.21277993, 0.1984366 ,\n",
       "       0.18438164, 0.17069405, 0.15744319, 0.14468855, 0.13247967,\n",
       "       0.12085626, 0.10984842, 0.09947714, 0.08975477, 0.08068571,\n",
       "       0.07226707, 0.06448952, 0.05733801, 0.05079264, 0.0448295 ,\n",
       "       0.03942137, 0.03453857, 0.03014961, 0.02622189, 0.02272223,\n",
       "       0.01961746, 0.01687483, 0.01446241, 0.01234943, 0.0105065 ,\n",
       "       0.00890582, 0.00752133, 0.00632878, 0.00530579, 0.00443185])"
      ]
     },
     "execution_count": 6,
     "metadata": {},
     "output_type": "execute_result"
    }
   ],
   "source": [
    "y = stats.norm.pdf(x, mu, sigma)\n",
    "y"
   ]
  },
  {
   "cell_type": "markdown",
   "metadata": {},
   "source": [
    "Note:  pdf standard for *probability density function* which is what a continuous probability distribution is called\n",
    "\n",
    "Now make a line plot of these x and y values:"
   ]
  },
  {
   "cell_type": "code",
   "execution_count": 8,
   "metadata": {},
   "outputs": [
    {
     "data": {
      "text/plain": [
       "[<matplotlib.lines.Line2D at 0x1a18ae8e80>]"
      ]
     },
     "execution_count": 8,
     "metadata": {},
     "output_type": "execute_result"
    },
    {
     "data": {
      "image/png": "[encoded data removed]",
      "text/plain": [
       "<Figure size 432x288 with 1 Axes>"
      ]
     },
     "metadata": {
      "needs_background": "light"
     },
     "output_type": "display_data"
    }
   ],
   "source": [
    "plt.plot(x,y)"
   ]
  },
  {
   "cell_type": "markdown",
   "metadata": {},
   "source": [
    "Because the x values were so close together, we can't tell that it is made up of a bunch of straight lines.\n",
    "\n",
    "In MAT 128 we sampled values from the normal distribution using the numpy library:\n",
    "We can sample 1000 values from this normal distribution (as done in MAT 128):"
   ]
  },
  {
   "cell_type": "code",
   "execution_count": 9,
   "metadata": {},
   "outputs": [
    {
     "data": {
      "text/plain": [
       "array([-9.11914970e-01,  1.69035988e+00, -5.46121730e-01,  1.14521931e+00,\n",
       "       -1.90165679e-01, -1.53856656e-01,  1.56714987e-02, -9.47382045e-02,\n",
       "        2.16961969e+00,  1.77603074e+00, -4.14486624e-01,  1.37737057e+00,\n",
       "        7.78210344e-01,  9.35456149e-01,  1.48713887e+00,  1.21947005e+00,\n",
       "       -7.18418632e-01, -6.13880147e-01, -1.04923636e+00,  4.10270285e-01,\n",
       "       -1.94560398e-01, -1.29061478e-01, -2.96007096e-01, -1.31179011e+00,\n",
       "       -2.51904295e-01, -9.47133072e-01,  3.41255241e-01, -1.13816574e+00,\n",
       "       -9.05461372e-01,  1.44010862e+00,  1.09683563e+00,  1.07420013e+00,\n",
       "       -2.12201329e-01, -6.12037215e-01, -8.35697730e-02, -1.32859928e-02,\n",
       "        2.55454184e-01, -2.17687119e+00, -4.27067115e-01, -6.46316556e-01,\n",
       "        1.62140744e-01,  1.02053863e+00,  1.09136270e+00,  2.15988953e+00,\n",
       "        7.70852789e-01, -1.06796374e+00,  1.98448340e+00, -9.15937322e-01,\n",
       "       -3.76835179e-01,  5.71969848e-01, -9.00659770e-01, -8.98888089e-01,\n",
       "       -1.92243578e+00,  1.61312377e-01,  3.07796157e-01,  4.98273333e-01,\n",
       "       -2.21360795e+00, -1.75087488e-01, -1.31836978e+00,  6.31531717e-01,\n",
       "        3.45817999e-01,  2.81063602e-01, -2.16597079e+00,  5.68733573e-01,\n",
       "       -1.90360531e-01, -2.77051312e-01,  2.20610864e-01, -4.21125069e-01,\n",
       "        7.99893848e-01, -4.78059187e-01,  2.27069261e-01,  6.44105952e-01,\n",
       "       -6.64701870e-01,  2.92979024e-01,  5.99642878e-01, -1.70700871e-01,\n",
       "       -6.99274046e-01, -8.00443423e-01, -4.68451180e-01, -1.09247400e+00,\n",
       "        1.43749599e+00, -2.49394350e-01, -5.73073175e-01,  2.92605319e+00,\n",
       "        1.44390903e-01, -1.32873486e+00, -2.20119141e-01,  1.13103563e+00,\n",
       "       -6.82926036e-02, -2.81635323e-01,  9.44795064e-01, -6.35656911e-01,\n",
       "        8.05927506e-02, -8.29525399e-01,  7.58799272e-01,  6.13878772e-01,\n",
       "        7.19995699e-01, -6.44157179e-01, -1.82178795e+00,  8.83120657e-02,\n",
       "        1.37653782e+00,  1.45470524e-01, -1.03912169e+00, -1.87882076e-01,\n",
       "        1.69040078e+00,  1.77210528e+00, -5.46379201e-01,  3.47151676e-01,\n",
       "       -1.28568495e+00,  3.23869563e-01,  6.52436930e-01,  6.33091600e-01,\n",
       "       -6.06664603e-02, -1.36985925e+00, -3.66213084e-01, -1.11850806e+00,\n",
       "        2.65852926e-01,  9.23635238e-01, -8.79460651e-01, -5.96868579e-01,\n",
       "        1.81918550e+00, -1.51031973e+00, -1.25310373e+00,  8.62649979e-01,\n",
       "       -3.58453465e-01,  1.25529775e+00,  2.76175644e-01, -1.26746243e+00,\n",
       "        4.10026160e-01, -6.96712115e-01, -3.34779228e-01, -1.49460929e-01,\n",
       "        2.81853778e-01, -1.21138891e+00, -3.05698734e+00, -4.51701181e-01,\n",
       "       -8.14757077e-01, -7.72882118e-01, -7.89483568e-01,  1.63507646e+00,\n",
       "        5.97146360e-01,  7.34341206e-01, -7.88470031e-01, -5.02762485e-01,\n",
       "        3.03735171e-01,  1.43014373e+00, -1.03050753e+00, -3.02744955e-02,\n",
       "       -3.55344921e-01,  9.84762598e-01,  1.91455998e-01, -1.85282894e+00,\n",
       "       -1.45056530e+00, -1.96535530e+00, -3.18196092e-01,  4.79979338e-01,\n",
       "        6.04529520e-01,  1.56480597e+00, -1.58215297e+00, -1.04748815e-01,\n",
       "        1.23691230e+00,  1.17409301e+00, -2.98653274e-01, -1.70850965e-01,\n",
       "       -1.03334750e+00,  1.06967965e-01,  2.10655209e+00,  1.34111936e+00,\n",
       "       -1.13814687e+00,  2.00460711e-01, -1.89114814e-01, -5.13797000e-01,\n",
       "       -1.34612314e+00,  6.23431151e-03, -1.07478243e+00, -6.47146165e-01,\n",
       "        1.65061458e+00,  9.53148829e-01,  1.68195719e+00, -5.01430645e-01,\n",
       "       -2.36056212e-02, -2.40419688e-01,  1.97088633e+00, -1.36930146e+00,\n",
       "       -5.34175409e-01,  5.23848113e-01, -6.17190127e-01, -8.14624345e-01,\n",
       "       -8.77081996e-01,  3.26282943e-01,  1.55240729e+00, -1.83728482e+00,\n",
       "       -1.50299295e-01, -1.68370277e+00,  2.78921614e-01, -8.12740868e-01,\n",
       "        4.99155452e-01,  3.74163704e-01, -1.65823436e-01,  4.94290793e-01,\n",
       "        1.10401857e+00,  5.66272031e-01, -1.14179496e-01,  3.33114190e-01,\n",
       "        1.15014222e-01,  1.62533770e+00, -2.64638852e-01, -9.99648288e-01,\n",
       "        4.17688156e-01, -3.83656436e-01, -6.75611182e-01, -3.96381792e-01,\n",
       "        1.80257240e+00, -3.01386796e-01, -1.76172045e-01, -6.38777532e-01,\n",
       "       -1.16571066e+00, -3.71786456e-01, -5.94573020e-01, -5.89076716e-01,\n",
       "        5.95758991e-01,  4.25610773e-01,  1.09721047e+00,  6.78702428e-01,\n",
       "       -6.10078623e-01, -1.00137407e+00, -2.09826270e+00,  5.84159263e-01,\n",
       "        8.80853178e-02,  2.72263442e-01,  7.72128533e-02,  1.84558916e+00,\n",
       "        1.19239875e+00, -6.94263879e-02,  7.21286467e-01, -3.32600934e-01,\n",
       "        3.89658707e-01,  2.23510579e-01, -1.97691371e+00, -1.65817169e+00,\n",
       "        3.39910025e-01,  2.85092549e-01,  1.97412828e-01,  4.60731046e-01,\n",
       "       -1.17844445e-01, -3.36025980e-01,  1.55424975e+00,  6.44386916e-01,\n",
       "       -2.21023920e+00,  1.94523236e+00, -4.96925734e-01, -4.30443763e-01,\n",
       "       -2.87036637e-01, -8.21920595e-01,  7.05417232e-01,  8.80274353e-01,\n",
       "        1.09390684e+00, -6.17579143e-01, -1.18945845e+00, -6.17857394e-01,\n",
       "        6.08494586e-01,  8.04275797e-01,  3.50490436e-01, -7.63254013e-01,\n",
       "        8.87214039e-01, -1.19126646e+00, -4.81171336e-01,  7.18584498e-01,\n",
       "        2.28998369e-01, -9.24172655e-02,  4.65980261e-01,  1.19246022e+00,\n",
       "        1.96379825e+00,  1.19821950e+00, -8.96839429e-02, -1.31548506e-01,\n",
       "        1.35680830e+00, -8.52537787e-01, -1.13129933e+00, -1.01161116e+00,\n",
       "        4.89395140e-01,  5.50001466e-03, -2.02425756e+00,  2.34749303e+00,\n",
       "        6.52664453e-01, -6.67170683e-01,  1.49355650e-01, -4.72051239e-01,\n",
       "        8.07712870e-01, -4.08160840e-01,  2.05363536e+00,  1.04550266e+00,\n",
       "       -9.93266870e-01,  2.57461132e-01, -4.75277086e-01, -7.93869730e-01,\n",
       "        8.65420101e-01, -8.24659503e-01, -1.52385103e-01,  2.26612637e+00,\n",
       "       -5.85994504e-02,  1.62909721e+00,  3.05262531e-01,  1.34825473e+00,\n",
       "        7.32871402e-01, -6.51109115e-01,  7.31614367e-01, -5.79107788e-01,\n",
       "       -1.54680120e+00,  6.21763629e-02, -1.00669212e+00,  1.37022532e-01,\n",
       "        1.09897113e+00,  1.57117477e+00, -8.53657215e-01,  9.11433539e-01,\n",
       "        8.39008614e-01,  3.61958869e-01,  3.27216206e-01, -1.78187383e-01,\n",
       "        1.14526627e+00,  4.17572403e-01, -5.17821310e-01,  1.41345865e+00,\n",
       "        8.67513775e-02,  1.02283856e+00,  4.65508374e-01,  5.40221672e-01,\n",
       "       -6.45394959e-01,  4.10645300e-01,  5.74381772e-01, -5.29695041e-01,\n",
       "       -3.60846143e-01,  1.20203755e+00,  7.38913187e-01, -4.56852098e-01,\n",
       "        2.09213656e-01,  9.63713568e-01,  7.54304165e-01, -1.02613751e+00,\n",
       "        2.07728028e+00,  1.28711282e+00,  3.36625442e-01, -1.04198737e+00,\n",
       "        2.07467919e+00,  1.38187937e+00,  2.02468330e-01, -5.69263174e-01,\n",
       "        5.40013593e-02,  1.76894832e+00,  1.25426979e-01,  3.89687929e-01,\n",
       "        1.74517672e+00,  2.04668721e-02,  5.82160122e-01, -1.49968089e-01,\n",
       "        1.57054538e+00,  1.03852750e+00,  4.26799388e-01, -6.63438681e-01,\n",
       "        1.12396407e+00, -2.91294402e-01,  2.15355231e-01,  1.48055044e-01,\n",
       "       -4.35669641e-01,  2.09375889e-01,  1.08200777e+00,  3.98903332e-01,\n",
       "        4.55130714e-02, -2.07477233e+00,  1.29234562e+00,  1.50310344e+00,\n",
       "       -7.33739754e-01,  4.56525199e-01,  1.71559594e+00, -3.00566915e-01,\n",
       "       -2.37819936e+00,  1.60452257e-02, -5.48047508e-01, -1.47250514e+00,\n",
       "       -2.04530262e-03,  2.68949448e-02,  3.94852639e-01,  5.61490528e-02,\n",
       "        1.12250526e+00,  1.20305530e+00,  4.05381398e-01,  7.18764922e-01,\n",
       "        1.95744132e+00,  1.05741994e+00,  1.03465721e+00, -4.03568094e-01,\n",
       "       -1.45950761e-01,  1.14790579e+00, -1.18642143e+00, -3.07688968e-01,\n",
       "       -1.15613974e+00,  1.76966931e+00, -9.63425331e-01, -1.37311273e+00,\n",
       "        2.90289012e-01,  1.67052410e+00, -3.91844862e-01,  1.61574245e+00,\n",
       "        1.13712741e+00,  7.00648484e-02, -3.02933798e-01,  3.67663519e-01,\n",
       "        1.20867468e-01, -5.22244061e-01, -6.65337989e-01,  1.45557409e+00,\n",
       "        7.26663466e-01,  1.29777142e+00,  2.76069303e-01,  7.77369593e-01,\n",
       "        1.05508675e+00,  1.39752405e+00,  4.50875610e-01, -1.07227669e+00,\n",
       "        2.03105125e+00, -2.08166018e+00, -1.29898580e+00,  2.22870979e+00,\n",
       "       -2.39801857e+00, -2.46049986e+00, -1.17617392e+00, -2.67534134e-02,\n",
       "       -1.36076526e+00, -4.30755566e-01,  1.94959888e+00,  2.22933382e-01,\n",
       "       -1.25164244e+00,  5.39613661e-02,  1.01106487e+00, -1.43881284e+00,\n",
       "       -1.61495442e+00, -2.64404104e-01, -8.01686047e-01, -8.33061979e-01,\n",
       "       -1.28454698e+00, -3.05434797e+00,  2.06929176e-01, -9.37493117e-01,\n",
       "       -9.65160818e-01,  1.47251118e+00,  2.15935339e+00,  5.83220877e-01,\n",
       "        1.80688357e-01, -4.84685441e-01, -9.40247609e-01,  6.00476939e-01,\n",
       "       -1.06895414e+00,  1.91654343e+00,  4.54987406e-01, -8.38390275e-02,\n",
       "       -1.01090940e+00,  7.51846963e-01, -1.26957349e+00,  1.09546202e+00,\n",
       "        1.93431089e-03, -5.44237968e-01, -8.05715979e-01, -1.56195394e+00,\n",
       "       -6.22403352e-01, -7.24676296e-01, -1.01671676e+00,  9.42537979e-01,\n",
       "        1.48539030e+00, -3.85203727e-01,  8.94541655e-01,  6.94586028e-01,\n",
       "       -1.96971452e+00, -4.83488032e-01,  7.80375513e-01,  8.10949160e-01,\n",
       "        4.33179330e-01, -4.45914885e-01,  9.32150790e-01,  2.89077051e-01,\n",
       "        7.75432868e-01, -6.79933718e-01,  1.39606005e+00, -1.41185179e+00,\n",
       "       -6.74598968e-01, -1.67022288e+00,  3.41079829e-01, -4.15976419e-01,\n",
       "        1.69777115e+00,  1.10649040e+00, -5.57478948e-01,  8.49663131e-01,\n",
       "       -1.16959418e+00,  1.21871072e-01,  1.97195013e-03,  3.88675890e-01,\n",
       "        6.86513065e-01, -1.82364088e-02, -1.10679136e+00, -2.59054151e-01,\n",
       "        1.11208973e+00,  2.69467626e+00, -7.61738734e-02, -2.89922573e-01,\n",
       "       -1.72681221e+00, -2.05162515e+00,  1.23081953e+00,  3.29162958e-01,\n",
       "        1.13820846e+00, -8.61641663e-01, -4.95331438e-01, -2.53684279e-01,\n",
       "        3.26734309e-01, -1.39320639e-02, -1.25755997e+00,  1.04966043e+00,\n",
       "        5.32227259e-01, -1.35266073e+00, -2.78818479e-01, -7.79373199e-01,\n",
       "        5.32808635e-01, -6.49792877e-01, -3.48235319e-01, -5.79303854e-01,\n",
       "       -1.14266143e+00,  1.00305294e+00,  1.85156136e+00,  1.70489558e+00,\n",
       "       -5.07069633e-01, -2.92168402e-02, -6.08085842e-01, -8.16859642e-01,\n",
       "       -2.08159163e-01,  4.31491619e-01,  2.57908749e-01,  4.38889165e-01,\n",
       "       -4.45130542e-01,  4.86706183e-01,  1.44733151e+00,  6.10026451e-01,\n",
       "        3.63264682e-02,  8.23193789e-01,  5.51903989e-02,  6.74131057e-01,\n",
       "        5.39902850e-01, -8.77681942e-01,  4.23091078e-01,  1.87799094e+00,\n",
       "       -1.11492472e+00,  9.34623456e-02,  4.86226428e-01, -6.29247992e-01,\n",
       "       -6.33011965e-01, -7.31357638e-01,  1.84434375e+00,  1.28716784e+00,\n",
       "       -1.96043178e+00, -2.92467285e-01,  2.30847569e+00, -1.06863874e+00,\n",
       "        5.50677843e-01,  5.09714119e-01,  1.53980355e+00, -1.04154290e+00,\n",
       "        1.95700293e-01, -7.48628401e-01,  1.29453895e+00, -3.04770923e-03,\n",
       "       -7.28379214e-01, -2.96709893e-01, -4.06075555e-01, -4.20871787e-01,\n",
       "       -1.98292207e+00, -1.04552398e-01, -1.35291916e+00, -3.87254141e-01,\n",
       "        4.80750887e-01,  1.72113660e+00,  1.36788726e-01,  5.16679512e-01,\n",
       "       -1.81257129e-01, -7.26572090e-01,  1.38094297e+00,  7.01067347e-01,\n",
       "        5.82873143e-01,  1.07456104e-01, -4.98121843e-01,  7.73599549e-02,\n",
       "       -7.85186176e-01, -8.35644476e-01, -2.50531890e-01,  3.27402499e-01,\n",
       "        1.21582939e+00, -5.61825493e-01, -1.98892116e-01, -2.48504391e+00,\n",
       "       -2.52365210e-01,  6.60526256e-01,  1.62635994e+00, -1.84506024e-01,\n",
       "        1.96373982e+00, -2.67282470e-01, -1.09828252e+00, -3.90068205e-01,\n",
       "       -1.06333291e+00,  6.89949757e-02,  1.38815310e+00,  2.36939975e-01,\n",
       "        1.57177155e+00,  8.17820490e-01,  1.17742081e-01,  3.39584556e-02,\n",
       "        9.78887473e-01,  4.37024007e-01,  3.52233987e-01, -7.48143203e-02,\n",
       "        3.04350058e+00, -7.43563842e-01, -8.69733011e-01,  3.50267486e-01,\n",
       "       -1.00978670e+00,  7.36521706e-02, -9.11051595e-01, -7.52886848e-01,\n",
       "        2.87208231e-01,  1.04531823e-01,  4.11967879e-01, -1.27381537e+00,\n",
       "        3.28993306e-02,  1.58111810e+00,  8.26714935e-01, -1.72893589e+00,\n",
       "        4.80490841e-01,  3.92534962e-02, -5.73622076e-01,  8.72394972e-01,\n",
       "        6.58803249e-01, -1.19897492e+00,  1.90005653e-01, -1.25597386e+00,\n",
       "        2.23081794e-01, -6.51652526e-01,  6.91341611e-01,  1.87132632e+00,\n",
       "       -1.00836771e+00,  1.07310657e+00,  5.14318460e-02,  1.07063551e-01,\n",
       "        2.36124513e-01,  1.35356845e+00,  7.16103141e-01, -2.42719112e-01,\n",
       "        2.26193514e+00, -8.25221585e-01, -4.81376953e-01, -2.99104646e-01,\n",
       "        3.80718927e-01,  2.45079674e-01, -2.34385965e-01, -8.75297134e-01,\n",
       "        1.13224366e-01, -1.01619079e+00, -1.13733305e+00, -9.58650341e-01,\n",
       "        7.04346892e-01,  4.35940827e-01, -3.89920893e-01,  3.10120720e-01,\n",
       "       -1.77215428e+00, -6.11574421e-01, -1.52373488e+00, -8.64240579e-01,\n",
       "       -7.39293683e-01,  8.23621812e-01, -1.01132902e+00, -1.11892422e+00,\n",
       "       -1.04810922e+00, -6.67751083e-01,  1.46369616e-01, -8.65824528e-01,\n",
       "       -3.29145857e-01, -2.12192051e+00, -1.34272096e+00,  1.51823177e+00,\n",
       "        1.47900768e+00, -3.78515483e-01, -2.16847806e-01,  1.06413489e+00,\n",
       "       -1.25803684e+00,  1.74369843e-01,  8.85076022e-01, -1.52488749e+00,\n",
       "        1.18197033e-01, -3.99525564e-01, -2.74547540e-01,  2.21719297e-01,\n",
       "        2.58381785e+00, -3.41547398e-01,  1.13770518e+00, -3.66395346e-01,\n",
       "       -3.22159324e-01, -1.03565784e+00,  7.26768533e-01,  1.35048576e+00,\n",
       "        3.18634539e-01,  9.31116202e-02, -1.98534892e+00, -2.15270219e+00,\n",
       "       -3.97991229e-01,  4.86092318e-03, -8.10468484e-01, -9.02508331e-01,\n",
       "       -6.83420279e-01,  1.64121618e-01,  2.56982683e-01,  1.28334124e+00,\n",
       "       -1.28697474e-01,  1.30012688e+00, -1.23313979e+00, -1.50028896e-01,\n",
       "        6.70628241e-01,  1.38478512e+00,  3.97774706e-01,  2.21507795e-01,\n",
       "       -1.33363855e+00,  8.84427624e-01, -3.42949989e-01, -1.06926245e+00,\n",
       "        1.12020707e+00, -5.64251725e-01,  1.10374504e+00, -7.42134503e-01,\n",
       "        5.57450314e-01, -5.07635914e-01, -1.11122784e+00,  1.46574537e-01,\n",
       "        2.01985259e-01, -4.01886518e-01,  5.93248798e-01, -1.15813157e-01,\n",
       "       -5.78166690e-01,  1.98368006e-01,  5.53061888e-01, -7.28055947e-01,\n",
       "        9.06862596e-01,  2.15498898e+00,  7.82007266e-01, -2.33042191e-01,\n",
       "       -1.23147705e+00,  8.39522548e-01,  4.21524702e-01, -5.89129092e-01,\n",
       "        5.01341473e-01,  1.22840834e+00,  3.17857010e-01, -9.20373188e-02,\n",
       "       -1.23966433e+00, -7.33507327e-02, -9.96419401e-01,  2.28508325e-01,\n",
       "       -1.99073672e+00,  2.60356494e-01, -2.27978141e-01, -2.22811685e+00,\n",
       "        8.78487065e-01,  2.09238218e+00,  7.61162392e-01, -6.10725804e-01,\n",
       "        1.04195731e+00,  1.80751460e+00, -1.16883291e+00,  1.01957185e+00,\n",
       "       -1.33916652e+00,  1.13346926e+00, -1.84052412e+00,  7.86748309e-01,\n",
       "       -3.95719591e-01, -1.37347492e+00, -2.81727870e+00, -1.70702895e+00,\n",
       "        2.16355963e-02,  8.94789974e-01,  1.60426014e+00, -1.52019256e+00,\n",
       "        1.24573813e+00,  3.11971942e-01, -1.68418096e-02, -3.75085203e-01,\n",
       "        3.68356499e-01, -1.14553933e+00, -6.13722870e-01,  1.47127111e-01,\n",
       "       -1.86628720e+00, -1.05684349e+00,  1.50756393e+00,  9.88857427e-01,\n",
       "        1.95060393e-01,  4.44456234e-01,  1.48274250e+00, -9.43494749e-01,\n",
       "       -1.40570804e+00, -1.27030932e+00, -1.85540413e-01,  2.04438189e+00,\n",
       "       -6.59356124e-01,  1.67432959e+00,  1.20918133e+00, -3.16814730e-01,\n",
       "       -1.19286285e+00, -4.51815915e-01,  1.43236179e+00,  1.28934021e+00,\n",
       "       -1.11473173e+00, -7.31605139e-01,  3.67184506e-01, -1.62607789e-01,\n",
       "        4.34632444e-02,  7.28054816e-01, -2.92034408e-01, -4.80940581e-01,\n",
       "        1.05629240e+00, -3.71452798e-02, -1.08767832e+00,  2.65335582e+00,\n",
       "       -1.07546356e+00,  1.42827730e+00, -9.44897585e-01,  1.92282679e+00,\n",
       "       -1.29572267e+00, -6.65488033e-01,  8.37036574e-01,  8.69923342e-01,\n",
       "        2.79669214e+00,  1.10134159e-02,  4.93737520e-01,  1.86906370e+00,\n",
       "        1.77990375e-01, -7.18436912e-01,  3.13340687e-02,  2.92788437e-01,\n",
       "        1.80882291e-01, -3.40748544e-01, -2.27907519e-01,  6.42855665e-01,\n",
       "        3.37224842e-01, -2.63432899e-01,  7.19065624e-01, -9.12749598e-01,\n",
       "       -3.40380212e-01,  7.27043840e-01,  2.64501311e-01, -1.52790455e-01,\n",
       "        2.72310110e+00,  7.89105095e-01, -6.27414240e-01,  3.02289670e-01,\n",
       "        9.13842703e-01,  3.73809324e-01,  4.40519091e-01,  9.87454572e-01,\n",
       "       -4.97686329e-01, -3.04176583e-01,  2.24854225e-01,  2.05971606e+00,\n",
       "        1.03864669e+00,  6.41199293e-01,  1.06083246e+00, -4.49311001e-01,\n",
       "       -1.40617925e+00, -1.69189315e+00,  3.79939337e-01,  7.99745647e-01,\n",
       "       -6.21827157e-01, -8.10396285e-01,  5.82326047e-01,  5.13429444e-01,\n",
       "        9.29475851e-01, -3.33651215e-01,  3.34158482e-01,  2.08103250e+00,\n",
       "       -1.86642158e+00, -7.54147762e-01, -8.16386737e-02, -5.68569774e-01,\n",
       "       -9.52189297e-01, -2.45220159e-01,  9.53192049e-01, -7.75383410e-01,\n",
       "        3.63671878e-01,  5.86013515e-01, -1.03011406e+00,  2.63493359e-01,\n",
       "        1.77030208e+00,  1.14951747e+00,  1.25878147e+00, -5.48673462e-01,\n",
       "        2.96973884e+00,  3.13231974e-01,  3.44942004e-01,  7.46832144e-01,\n",
       "       -4.98337941e-01, -1.63105829e+00, -8.58883732e-01,  1.32888246e+00,\n",
       "       -1.53158948e+00, -4.59386570e-01, -4.65882925e-01,  7.96178121e-01,\n",
       "       -2.13238046e+00,  1.67696251e+00,  7.51008617e-01,  1.03415427e+00,\n",
       "       -1.12562048e+00,  4.38857706e-01, -2.63231810e-02, -2.86384359e+00,\n",
       "        9.74032213e-01,  4.02621557e-01, -1.38007024e+00, -1.64719184e-01,\n",
       "        3.33702737e-01, -2.18869992e-01,  8.54768400e-01, -1.81575665e-01,\n",
       "        8.38664543e-01,  1.82471993e-01,  1.25500150e+00, -1.06358950e-01,\n",
       "       -3.30833416e-01,  1.71332825e+00,  1.14026403e+00, -1.42948679e+00,\n",
       "       -7.88826055e-01,  1.28132134e+00, -8.09505918e-02, -6.96936013e-01,\n",
       "       -8.31649352e-01,  1.33421034e+00,  1.07826433e+00, -2.74225480e+00,\n",
       "        1.59319735e-02,  1.54423273e+00, -1.07166800e-01,  1.81846625e+00,\n",
       "        2.41828998e-01, -6.72349770e-01, -7.08130458e-01,  1.14681173e+00,\n",
       "       -1.40425677e+00,  1.18797007e+00,  5.34613631e-01,  1.69280664e-01,\n",
       "        1.94755962e-01,  5.08726463e-02,  1.89455093e-01, -9.23304518e-01,\n",
       "        5.07316532e-01,  1.09852503e-01, -6.56122248e-01,  9.57160558e-01,\n",
       "       -2.61362063e-01, -3.65647182e-01,  1.54051915e+00, -6.83730890e-01,\n",
       "        6.16617353e-01, -5.79349685e-01,  1.48357162e-01, -1.49291663e-01,\n",
       "        7.68299664e-01, -2.53776500e-01, -1.77031136e+00,  1.04469489e+00,\n",
       "       -1.01413330e+00, -1.38335428e-01,  8.17688148e-01,  7.93056324e-02,\n",
       "        6.53220052e-01,  1.07775166e+00,  4.82798235e-01, -6.93248002e-01,\n",
       "       -3.10205231e-02, -1.32205605e+00, -2.14185902e+00,  5.66461345e-01,\n",
       "        4.75971678e-01,  3.00095315e-01,  1.48595655e+00,  9.75546828e-01,\n",
       "        7.29561491e-01,  1.47789084e-01, -1.16184688e+00,  9.16958542e-02,\n",
       "        1.49964607e+00,  6.71677587e-01, -1.22261652e+00, -1.27202114e-01,\n",
       "       -5.78357405e-01,  1.31055828e+00, -4.20736960e-02,  7.37066626e-01])"
      ]
     },
     "execution_count": 9,
     "metadata": {},
     "output_type": "execute_result"
    }
   ],
   "source": [
    "sample = np.random.normal(loc = mu, scale = sigma, size = 1000)\n",
    "sample"
   ]
  },
  {
   "cell_type": "markdown",
   "metadata": {},
   "source": [
    "Plot a histogram of the sample.  Remember you will first have to make it into a Pandas Series:  `pd.Series(sample)` \n",
    "\n",
    "How does the histogram compare to the normal probability distribution?"
   ]
  },
  {
   "cell_type": "code",
   "execution_count": 17,
   "metadata": {},
   "outputs": [
    {
     "data": {
      "text/plain": [
       "<matplotlib.axes._subplots.AxesSubplot at 0x1a18dec4a8>"
      ]
     },
     "execution_count": 17,
     "metadata": {},
     "output_type": "execute_result"
    },
    {
     "data": {
      "image/png": "[encoded data removed]",
      "text/plain": [
       "<Figure size 432x288 with 1 Axes>"
      ]
     },
     "metadata": {
      "needs_background": "light"
     },
     "output_type": "display_data"
    }
   ],
   "source": [
    "pd.Series(sample).hist(bins=30)"
   ]
  },
  {
   "cell_type": "markdown",
   "metadata": {},
   "source": [
    "To really compare the probability distribution with the histogram, we can plot the two in the same plot, using the `density` option to change the y axis of the histogram to the same scale as the probability distribution."
   ]
  },
  {
   "cell_type": "code",
   "execution_count": 19,
   "metadata": {},
   "outputs": [
    {
     "data": {
      "text/plain": [
       "[<matplotlib.lines.Line2D at 0x1a18fef7b8>]"
      ]
     },
     "execution_count": 19,
     "metadata": {},
     "output_type": "execute_result"
    },
    {
     "data": {
      "image/png": "[encoded data removed]",
      "text/plain": [
       "<Figure size 432x288 with 1 Axes>"
      ]
     },
     "metadata": {
      "needs_background": "light"
     },
     "output_type": "display_data"
    }
   ],
   "source": [
    "pd.Series(sample).hist(bins=30, density=True)\n",
    "plt.plot(x, y)"
   ]
  },
  {
   "cell_type": "markdown",
   "metadata": {},
   "source": [
    "### Normally distributed data\n",
    "\n",
    "Let's look at some normally distributed data.  Download the text file `babyboom.dat.txt`.  It contains data about 44 babies that were born on December 18, 1997 at the Mater Mothers' Hospital in Brisbane, Australia.  \n",
    "\n",
    "Data Columns:\n",
    "   - Time of birth recorded on the 24-hour clock\n",
    "   - Sex of the child (1 = girl, 2 = boy)\n",
    "   - Birth weight in grams\n",
    "   - Number of minutes after midnight of each birth\n",
    "\n",
    "Data set from:  https://raw.githubusercontent.com/cs109/2015lab3/master/babyboom.dat.txt\n",
    "Original references:\n",
    "Steele, S. (December 21, 1997), \"Babies by the Dozen for Christmas: 24-Hour Baby Boom,\" The Sunday Mail (Brisbane), p. 7\n",
    "\n",
    "Open the dataset in a text editor.  How are the columns separated?   Are there any columns names?\n",
    "\n",
    "Despite these issues we can still use `pd.read_csv()`:"
   ]
  },
  {
   "cell_type": "code",
   "execution_count": 20,
   "metadata": {},
   "outputs": [],
   "source": [
    "babies = pd.read_csv(\"babyboom.dat.txt\", header=None, sep='\\s+', names=['24hrtime','sex','weight','minutes'])"
   ]
  },
  {
   "cell_type": "markdown",
   "metadata": {},
   "source": [
    "The parameter `header=None` tells `read_csv()` that there is no header row with columns names, and instead we specify the column names with the parameter `names=['24hrtime','sex','weight','minutes']`.  \n",
    "\n",
    "The parameter `sep='\\s+'` tells `read_csv()` that the columns are separated by white space (space, tab, etc.) instead of a comma."
   ]
  },
  {
   "cell_type": "code",
   "execution_count": 21,
   "metadata": {},
   "outputs": [
    {
     "data": {
      "text/html": [
       "<div>\n",
       "<style scoped>\n",
       "    .dataframe tbody tr th:only-of-type {\n",
       "        vertical-align: middle;\n",
       "    }\n",
       "\n",
       "    .dataframe tbody tr th {\n",
       "        vertical-align: top;\n",
       "    }\n",
       "\n",
       "    .dataframe thead th {\n",
       "        text-align: right;\n",
       "    }\n",
       "</style>\n",
       "<table border=\"1\" class=\"dataframe\">\n",
       "  <thead>\n",
       "    <tr style=\"text-align: right;\">\n",
       "      <th></th>\n",
       "      <th>24hrtime</th>\n",
       "      <th>sex</th>\n",
       "      <th>weight</th>\n",
       "      <th>minutes</th>\n",
       "    </tr>\n",
       "  </thead>\n",
       "  <tbody>\n",
       "    <tr>\n",
       "      <th>0</th>\n",
       "      <td>5</td>\n",
       "      <td>1</td>\n",
       "      <td>3837</td>\n",
       "      <td>5</td>\n",
       "    </tr>\n",
       "    <tr>\n",
       "      <th>1</th>\n",
       "      <td>104</td>\n",
       "      <td>1</td>\n",
       "      <td>3334</td>\n",
       "      <td>64</td>\n",
       "    </tr>\n",
       "    <tr>\n",
       "      <th>2</th>\n",
       "      <td>118</td>\n",
       "      <td>2</td>\n",
       "      <td>3554</td>\n",
       "      <td>78</td>\n",
       "    </tr>\n",
       "    <tr>\n",
       "      <th>3</th>\n",
       "      <td>155</td>\n",
       "      <td>2</td>\n",
       "      <td>3838</td>\n",
       "      <td>115</td>\n",
       "    </tr>\n",
       "    <tr>\n",
       "      <th>4</th>\n",
       "      <td>257</td>\n",
       "      <td>2</td>\n",
       "      <td>3625</td>\n",
       "      <td>177</td>\n",
       "    </tr>\n",
       "  </tbody>\n",
       "</table>\n",
       "</div>"
      ],
      "text/plain": [
       "   24hrtime  sex  weight  minutes\n",
       "0         5    1    3837        5\n",
       "1       104    1    3334       64\n",
       "2       118    2    3554       78\n",
       "3       155    2    3838      115\n",
       "4       257    2    3625      177"
      ]
     },
     "execution_count": 21,
     "metadata": {},
     "output_type": "execute_result"
    }
   ],
   "source": [
    "babies.head()"
   ]
  },
  {
   "cell_type": "markdown",
   "metadata": {},
   "source": [
    "Which column might be normally distributed?\n",
    "\n",
    "Let's plot a histogram of the weights:"
   ]
  },
  {
   "cell_type": "code",
   "execution_count": 34,
   "metadata": {},
   "outputs": [
    {
     "data": {
      "text/plain": [
       "<matplotlib.axes._subplots.AxesSubplot at 0x1a19b7d240>"
      ]
     },
     "execution_count": 34,
     "metadata": {},
     "output_type": "execute_result"
    },
    {
     "data": {
      "image/png": "[encoded data removed]",
      "text/plain": [
       "<Figure size 432x288 with 1 Axes>"
      ]
     },
     "metadata": {
      "needs_background": "light"
     },
     "output_type": "display_data"
    }
   ],
   "source": [
    "babies['weight'].hist()"
   ]
  },
  {
   "cell_type": "markdown",
   "metadata": {},
   "source": [
    "To compare to a normal distribution, we should compute the mean and standard deviation of the weights:"
   ]
  },
  {
   "cell_type": "code",
   "execution_count": 38,
   "metadata": {},
   "outputs": [],
   "source": [
    "mu_weights = babies['weight'].mean()\n",
    "sigma_weights = babies['weight'].std()"
   ]
  },
  {
   "cell_type": "markdown",
   "metadata": {},
   "source": [
    "Can you plot the normal distribution with this mean and standard deviation on top of your histogram?  Remember to change the y axis to `density`."
   ]
  },
  {
   "cell_type": "code",
   "execution_count": 39,
   "metadata": {},
   "outputs": [
    {
     "data": {
      "text/plain": [
       "[<matplotlib.lines.Line2D at 0x1a19d0a1d0>]"
      ]
     },
     "execution_count": 39,
     "metadata": {},
     "output_type": "execute_result"
    },
    {
     "data": {
      "image/png": "[encoded data removed]",
      "text/plain": [
       "<Figure size 432x288 with 1 Axes>"
      ]
     },
     "metadata": {
      "needs_background": "light"
     },
     "output_type": "display_data"
    }
   ],
   "source": [
    "x = np.linspace(mu_weights - 3*sigma_weights, mu_weights + 3*sigma_weights, 100)\n",
    "y = stats.norm.pdf(x, mu_weights, sigma_weights)\n",
    "babies['weight'].hist(density=True)\n",
    "plt.plot(x, y)"
   ]
  },
  {
   "cell_type": "markdown",
   "metadata": {},
   "source": [
    "Do you think the weights are normally distributed?\n",
    "\n",
    "## Exponential distribution\n",
    "\n",
    "Let's look at one more distribution.  The exponential distribution is used to model the time between events that happen independently.  Here, we will use it to model the time between the babies' births.\n",
    "\n",
    "The function for the exponential distribution is: $$\n",
    "f(x;\\lambda) = \\begin{cases}\n",
    "\\lambda e^{-\\lambda x} \\quad \\text{if } x \\ge 0, \\\\\n",
    "0 \\quad \\quad \\text{if } x < 0.\n",
    "\\end{cases}\n",
    "$$\n",
    "\n",
    "The exponential distribution is also a parametric distribution.  How many parameters does it have and what are they?\n",
    "\n",
    "$\\lambda$ (\"lambda\") is called the *rate parameter*, and is estimated as $\\frac{1}{\\text{mean of data}}$. \n",
    "\n",
    "\n",
    "Let's plot the explonential function.  First create a set of `x` values between -2 and 5."
   ]
  },
  {
   "cell_type": "code",
   "execution_count": 40,
   "metadata": {},
   "outputs": [
    {
     "data": {
      "text/plain": [
       "array([-2.        , -1.92929293, -1.85858586, -1.78787879, -1.71717172,\n",
       "       -1.64646465, -1.57575758, -1.50505051, -1.43434343, -1.36363636,\n",
       "       -1.29292929, -1.22222222, -1.15151515, -1.08080808, -1.01010101,\n",
       "       -0.93939394, -0.86868687, -0.7979798 , -0.72727273, -0.65656566,\n",
       "       -0.58585859, -0.51515152, -0.44444444, -0.37373737, -0.3030303 ,\n",
       "       -0.23232323, -0.16161616, -0.09090909, -0.02020202,  0.05050505,\n",
       "        0.12121212,  0.19191919,  0.26262626,  0.33333333,  0.4040404 ,\n",
       "        0.47474747,  0.54545455,  0.61616162,  0.68686869,  0.75757576,\n",
       "        0.82828283,  0.8989899 ,  0.96969697,  1.04040404,  1.11111111,\n",
       "        1.18181818,  1.25252525,  1.32323232,  1.39393939,  1.46464646,\n",
       "        1.53535354,  1.60606061,  1.67676768,  1.74747475,  1.81818182,\n",
       "        1.88888889,  1.95959596,  2.03030303,  2.1010101 ,  2.17171717,\n",
       "        2.24242424,  2.31313131,  2.38383838,  2.45454545,  2.52525253,\n",
       "        2.5959596 ,  2.66666667,  2.73737374,  2.80808081,  2.87878788,\n",
       "        2.94949495,  3.02020202,  3.09090909,  3.16161616,  3.23232323,\n",
       "        3.3030303 ,  3.37373737,  3.44444444,  3.51515152,  3.58585859,\n",
       "        3.65656566,  3.72727273,  3.7979798 ,  3.86868687,  3.93939394,\n",
       "        4.01010101,  4.08080808,  4.15151515,  4.22222222,  4.29292929,\n",
       "        4.36363636,  4.43434343,  4.50505051,  4.57575758,  4.64646465,\n",
       "        4.71717172,  4.78787879,  4.85858586,  4.92929293,  5.        ])"
      ]
     },
     "execution_count": 40,
     "metadata": {},
     "output_type": "execute_result"
    }
   ],
   "source": [
    "x = np.linspace(-2, 5, 100)\n",
    "x\n"
   ]
  },
  {
   "cell_type": "markdown",
   "metadata": {},
   "source": [
    "Next calculate the `y` values when lambda is 1.  Note that since `lambda` is a reserved word in Python, we can't use it as our variable name and will use `lambda_` instead."
   ]
  },
  {
   "cell_type": "code",
   "execution_count": 41,
   "metadata": {},
   "outputs": [
    {
     "data": {
      "text/plain": [
       "array([0.        , 0.        , 0.        , 0.        , 0.        ,\n",
       "       0.        , 0.        , 0.        , 0.        , 0.        ,\n",
       "       0.        , 0.        , 0.        , 0.        , 0.        ,\n",
       "       0.        , 0.        , 0.        , 0.        , 0.        ,\n",
       "       0.        , 0.        , 0.        , 0.        , 0.        ,\n",
       "       0.        , 0.        , 0.        , 0.        , 0.95074913,\n",
       "       0.88584603, 0.82537356, 0.76902926, 0.71653131, 0.66761715,\n",
       "       0.62204212, 0.57957828, 0.54001324, 0.50314912, 0.46880154,\n",
       "       0.4367987 , 0.40698054, 0.37919793, 0.3533119 , 0.32919299,\n",
       "       0.30672056, 0.28578221, 0.26627323, 0.24809603, 0.2311597 ,\n",
       "       0.21537953, 0.2006766 , 0.18697737, 0.17421332, 0.16232061,\n",
       "       0.15123976, 0.14091534, 0.13129573, 0.1223328 , 0.11398172,\n",
       "       0.10620074, 0.09895092, 0.09219601, 0.08590223, 0.0800381 ,\n",
       "       0.07457428, 0.06948345, 0.06474015, 0.06032065, 0.05620285,\n",
       "       0.05236615, 0.04879136, 0.04546061, 0.04235723, 0.0394657 ,\n",
       "       0.03677157, 0.03426135, 0.03192249, 0.0297433 , 0.02771286,\n",
       "       0.02582104, 0.02405836, 0.02241601, 0.02088578, 0.01946001,\n",
       "       0.01813156, 0.01689381, 0.01574055, 0.01466602, 0.01366484,\n",
       "       0.01273201, 0.01186285, 0.01105303, 0.01029849, 0.00959547,\n",
       "       0.00894043, 0.00833011, 0.00776145, 0.00723161, 0.00673795])"
      ]
     },
     "execution_count": 41,
     "metadata": {},
     "output_type": "execute_result"
    }
   ],
   "source": [
    "lambda_ = 1\n",
    "y = stats.expon.pdf(x, scale = 1/lambda_)\n",
    "y"
   ]
  },
  {
   "cell_type": "markdown",
   "metadata": {},
   "source": [
    "Plot the x and y values:"
   ]
  },
  {
   "cell_type": "code",
   "execution_count": 42,
   "metadata": {},
   "outputs": [
    {
     "data": {
      "text/plain": [
       "[<matplotlib.lines.Line2D at 0x1a19e7e9e8>]"
      ]
     },
     "execution_count": 42,
     "metadata": {},
     "output_type": "execute_result"
    },
    {
     "data": {
      "image/png": "[encoded data removed]",
      "text/plain": [
       "<Figure size 432x288 with 1 Axes>"
      ]
     },
     "metadata": {
      "needs_background": "light"
     },
     "output_type": "display_data"
    }
   ],
   "source": [
    "plt.plot(x, y)"
   ]
  },
  {
   "cell_type": "markdown",
   "metadata": {},
   "source": [
    "### Sampling from the Exponential Distribution\n",
    "\n",
    "Sample 1000 values from the exponential distribution with $\\lambda = 1$, using the command:"
   ]
  },
  {
   "cell_type": "code",
   "execution_count": null,
   "metadata": {},
   "outputs": [],
   "source": [
    "sample = np.random.exponential(scale = 1/lambda_, size = 1000)"
   ]
  },
  {
   "cell_type": "markdown",
   "metadata": {},
   "source": [
    "Plot a histogram of the sample to see its distribution: "
   ]
  },
  {
   "cell_type": "code",
   "execution_count": 43,
   "metadata": {},
   "outputs": [
    {
     "data": {
      "text/plain": [
       "<matplotlib.axes._subplots.AxesSubplot at 0x1a19f21dd8>"
      ]
     },
     "execution_count": 43,
     "metadata": {},
     "output_type": "execute_result"
    },
    {
     "data": {
      "image/png": "[encoded data removed]",
      "text/plain": [
       "<Figure size 432x288 with 1 Axes>"
      ]
     },
     "metadata": {
      "needs_background": "light"
     },
     "output_type": "display_data"
    }
   ],
   "source": [
    "pd.Series(sample).hist()"
   ]
  },
  {
   "cell_type": "markdown",
   "metadata": {},
   "source": [
    "How does the histogram compare to the theoretical distribution (the probability density function or pdf)?\n",
    "\n",
    "### Exponentially distributed data\n",
    "\n",
    "The time between births might be exponentially distributed, but we just have the number of minutes after midnight each baby was born.  So we need to calculate the difference between the birth times.  Luckily this type of calculation is done frequently in data science and there is already a function for it."
   ]
  },
  {
   "cell_type": "code",
   "execution_count": 45,
   "metadata": {},
   "outputs": [
    {
     "data": {
      "text/plain": [
       "0       NaN\n",
       "1      59.0\n",
       "2      14.0\n",
       "3      37.0\n",
       "4      62.0\n",
       "5      68.0\n",
       "6       2.0\n",
       "7      15.0\n",
       "8       9.0\n",
       "9     157.0\n",
       "10     27.0\n",
       "11     37.0\n",
       "12      2.0\n",
       "13     55.0\n",
       "14     86.0\n",
       "15     14.0\n",
       "16      4.0\n",
       "17     40.0\n",
       "18     36.0\n",
       "19     47.0\n",
       "20      9.0\n",
       "21     61.0\n",
       "22      1.0\n",
       "23     26.0\n",
       "24     13.0\n",
       "25     28.0\n",
       "26     77.0\n",
       "27     26.0\n",
       "28     45.0\n",
       "29     25.0\n",
       "30     18.0\n",
       "31     29.0\n",
       "32     15.0\n",
       "33     38.0\n",
       "34      2.0\n",
       "35      2.0\n",
       "36     19.0\n",
       "37     27.0\n",
       "38     14.0\n",
       "39     13.0\n",
       "40     19.0\n",
       "41     54.0\n",
       "42     70.0\n",
       "43     28.0\n",
       "Name: minutes, dtype: float64"
      ]
     },
     "execution_count": 45,
     "metadata": {},
     "output_type": "execute_result"
    }
   ],
   "source": [
    "mins_btw_births = babies[\"minutes\"].diff()\n",
    "mins_btw_births"
   ]
  },
  {
   "cell_type": "markdown",
   "metadata": {},
   "source": [
    "Plot a histogram of the number of minutes between births."
   ]
  },
  {
   "cell_type": "code",
   "execution_count": 54,
   "metadata": {},
   "outputs": [
    {
     "data": {
      "text/plain": [
       "<matplotlib.axes._subplots.AxesSubplot at 0x1a1b1f0cf8>"
      ]
     },
     "execution_count": 54,
     "metadata": {},
     "output_type": "execute_result"
    },
    {
     "data": {
      "image/png": "[encoded data removed]",
      "text/plain": [
       "<Figure size 432x288 with 1 Axes>"
      ]
     },
     "metadata": {
      "needs_background": "light"
     },
     "output_type": "display_data"
    }
   ],
   "source": [
    "mins_btw_births.hist()"
   ]
  },
  {
   "cell_type": "markdown",
   "metadata": {},
   "source": [
    "Do you think the minutes between births has an exponential distribution?  Let's plot the pdf for the exponential function on top of the histogram to compare.  \n",
    "\n",
    "First, estimate $\\lambda$ by computing $\\frac{1}{\\text{mean time between births}}$:"
   ]
  },
  {
   "cell_type": "code",
   "execution_count": 67,
   "metadata": {},
   "outputs": [],
   "source": [
    "x = np.linspace(0, 160, 100)\n",
    "lambda_ = mins_btw_births.mean()\n",
    "y = stats.expon.pdf(x, scale = lambda_)"
   ]
  },
  {
   "cell_type": "markdown",
   "metadata": {},
   "source": [
    "Next plot the pdf of the exponential function with that $\\lambda$ on top of your histogram (using the `density = True` parameter):"
   ]
  },
  {
   "cell_type": "code",
   "execution_count": 68,
   "metadata": {},
   "outputs": [
    {
     "data": {
      "text/plain": [
       "[<matplotlib.lines.Line2D at 0x1a1b87a7b8>]"
      ]
     },
     "execution_count": 68,
     "metadata": {},
     "output_type": "execute_result"
    },
    {
     "data": {
      "image/png": "[encoded data removed]",
      "text/plain": [
       "<Figure size 432x288 with 1 Axes>"
      ]
     },
     "metadata": {
      "needs_background": "light"
     },
     "output_type": "display_data"
    }
   ],
   "source": [
    "mins_btw_births.hist(density=True)\n",
    "plt.plot(x, y)"
   ]
  },
  {
   "cell_type": "markdown",
   "metadata": {},
   "source": [
    "Do you think the time between baby births follows an exponential distribution?\n",
    "\n",
    "The `scale` parameter is $1/\\lambda$ but since $\\lambda = \\frac{1}{\\text{mean time between births}}$ we could have just used the mean time between births as the scale."
   ]
  },
  {
   "cell_type": "markdown",
   "metadata": {},
   "source": [
    "### Challenges:\n",
    "- What happens if you plot the normal distribution only using 10 evenly spaces x values?\n",
    "- You can also sample from the normal distribution using the scipy library:  `sample = stats.norm.rvs(loc=mu, scale=sigma, size=1000)`. Try it.\n",
    "- Consider the green taxi trip dataset:  "
   ]
  },
  {
   "cell_type": "code",
   "execution_count": null,
   "metadata": {},
   "outputs": [],
   "source": []
  }
 ],
 "metadata": {
  "kernelspec": {
   "display_name": "Python 3",
   "language": "python",
   "name": "python3"
  },
  "language_info": {
   "codemirror_mode": {
    "name": "ipython",
    "version": 3
   },
   "file_extension": ".py",
   "mimetype": "text/x-python",
   "name": "python",
   "nbconvert_exporter": "python",
   "pygments_lexer": "ipython3",
   "version": "3.7.3"
  }
 },
 "nbformat": 4,
 "nbformat_minor": 2
}
