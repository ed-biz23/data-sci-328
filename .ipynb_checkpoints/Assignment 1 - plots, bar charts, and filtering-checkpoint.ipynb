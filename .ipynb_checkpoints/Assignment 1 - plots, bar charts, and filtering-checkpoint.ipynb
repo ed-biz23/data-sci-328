{
 "cells": [
  {
   "cell_type": "markdown",
   "metadata": {},
   "source": [
    "# Assignment 1: plots, bar charts, and filtering\n",
    "\n",
    "This assignment uses a dataset of all NYC restaurant inspection results from Jan. 1, 2019 - Aug. 30, 2019.  Download the file from Blackboard.  The original, unfiltered dataset is at [https://data.cityofnewyork.us/Health/DOHMH-New-York-City-Restaurant-Inspection-Results/43nn-pn8j](https://data.cityofnewyork.us/Health/DOHMH-New-York-City-Restaurant-Inspection-Results/43nn-pn8j).\n",
    "\n",
    "Information about how restaurants are inspected and graded in NYC is here: https://www1.nyc.gov/assets/doh/downloads/pdf/rii/how-we-score-grade.pdf(https://www1.nyc.gov/assets/doh/downloads/pdf/rii/how-we-score-grade.pdf)\n",
    "\n",
    "There are a lot of columns in this dataset.  To show them all when displaying the dataset, use the following code beforehand (once per notebook):\n",
    "`pd.set_option('display.max_columns', None)`\n",
    "\n",
    "All plots should have an appropriate title and axes labels.\n",
    "\n",
    "1.  Plot a histogram to visualize the distribution of the inspection scores.  You should experiment with the number of bins to find a visualization that shows all major features of the distribution.  What do you notice about the distribution, and how do you think that fits with how restaurants are inspected?\n",
    "\n",
    "2.  Plot a bar chart of the distribution of boroughs.  In which boroughs are the most/least restaurant inspections?\n",
    "\n",
    "3.  Find the mean score for inspections made in January and the mean score for inspections made in July.  From these computations, does the mean score seem to depend on the month?  Why do you think this might be?\n",
    "\n",
    "4.  Make a bar chart of the top 15 cuisine types in the dataset.\n",
    "\n",
    "5.  How many different cuisine types are there in the dataset?  And what is the most common street?"
   ]
  },
  {
   "cell_type": "markdown",
   "metadata": {},
   "source": [
    "# Edward Biswas"
   ]
  },
  {
   "cell_type": "code",
   "execution_count": 43,
   "metadata": {},
   "outputs": [],
   "source": [
    "import matplotlib\n",
    "import matplotlib.pyplot as plt\n",
    "import pandas as pd\n",
    "import seaborn as sns\n",
    "%matplotlib inline\n",
    "\n",
    "pd.set_option('display.max_columns', None)"
   ]
  },
  {
   "cell_type": "code",
   "execution_count": 44,
   "metadata": {},
   "outputs": [],
   "source": [
    "restaurants = pd.read_csv('DOHMH_New_York_City_Restaurant_Inspection_Results.csv')"
   ]
  },
  {
   "cell_type": "code",
   "execution_count": 45,
   "metadata": {},
   "outputs": [
    {
     "data": {
      "text/plain": [
       "CAMIS                      int64\n",
       "DBA                       object\n",
       "BORO                      object\n",
       "BUILDING                  object\n",
       "STREET                    object\n",
       "ZIPCODE                  float64\n",
       "PHONE                     object\n",
       "CUISINE DESCRIPTION       object\n",
       "INSPECTION DATE           object\n",
       "ACTION                    object\n",
       "VIOLATION CODE            object\n",
       "VIOLATION DESCRIPTION     object\n",
       "CRITICAL FLAG             object\n",
       "SCORE                    float64\n",
       "GRADE                     object\n",
       "GRADE DATE                object\n",
       "RECORD DATE               object\n",
       "INSPECTION TYPE           object\n",
       "Latitude                 float64\n",
       "Longitude                float64\n",
       "Community Board          float64\n",
       "Council District         float64\n",
       "Census Tract             float64\n",
       "BIN                      float64\n",
       "BBL                      float64\n",
       "NTA                       object\n",
       "dtype: object"
      ]
     },
     "execution_count": 45,
     "metadata": {},
     "output_type": "execute_result"
    }
   ],
   "source": [
    "restaurants.dtypes"
   ]
  },
  {
   "cell_type": "code",
   "execution_count": 46,
   "metadata": {},
   "outputs": [
    {
     "data": {
      "text/html": [
       "<div>\n",
       "<style scoped>\n",
       "    .dataframe tbody tr th:only-of-type {\n",
       "        vertical-align: middle;\n",
       "    }\n",
       "\n",
       "    .dataframe tbody tr th {\n",
       "        vertical-align: top;\n",
       "    }\n",
       "\n",
       "    .dataframe thead th {\n",
       "        text-align: right;\n",
       "    }\n",
       "</style>\n",
       "<table border=\"1\" class=\"dataframe\">\n",
       "  <thead>\n",
       "    <tr style=\"text-align: right;\">\n",
       "      <th></th>\n",
       "      <th>CAMIS</th>\n",
       "      <th>ZIPCODE</th>\n",
       "      <th>SCORE</th>\n",
       "      <th>Latitude</th>\n",
       "      <th>Longitude</th>\n",
       "      <th>Community Board</th>\n",
       "      <th>Council District</th>\n",
       "      <th>Census Tract</th>\n",
       "      <th>BIN</th>\n",
       "      <th>BBL</th>\n",
       "    </tr>\n",
       "  </thead>\n",
       "  <tbody>\n",
       "    <tr>\n",
       "      <th>count</th>\n",
       "      <td>1.103640e+05</td>\n",
       "      <td>108920.000000</td>\n",
       "      <td>106853.000000</td>\n",
       "      <td>110260.000000</td>\n",
       "      <td>110260.000000</td>\n",
       "      <td>108816.000000</td>\n",
       "      <td>108816.000000</td>\n",
       "      <td>108816.000000</td>\n",
       "      <td>1.083150e+05</td>\n",
       "      <td>1.102600e+05</td>\n",
       "    </tr>\n",
       "    <tr>\n",
       "      <th>mean</th>\n",
       "      <td>4.663234e+07</td>\n",
       "      <td>10696.305013</td>\n",
       "      <td>22.297249</td>\n",
       "      <td>40.195320</td>\n",
       "      <td>-72.972523</td>\n",
       "      <td>251.406576</td>\n",
       "      <td>20.246094</td>\n",
       "      <td>29612.160261</td>\n",
       "      <td>2.540325e+06</td>\n",
       "      <td>2.434134e+09</td>\n",
       "    </tr>\n",
       "    <tr>\n",
       "      <th>std</th>\n",
       "      <td>4.318050e+06</td>\n",
       "      <td>596.189676</td>\n",
       "      <td>16.588463</td>\n",
       "      <td>4.630846</td>\n",
       "      <td>8.406504</td>\n",
       "      <td>129.875046</td>\n",
       "      <td>15.674501</td>\n",
       "      <td>31065.666987</td>\n",
       "      <td>1.342813e+06</td>\n",
       "      <td>1.334352e+09</td>\n",
       "    </tr>\n",
       "    <tr>\n",
       "      <th>min</th>\n",
       "      <td>3.007544e+07</td>\n",
       "      <td>10000.000000</td>\n",
       "      <td>-1.000000</td>\n",
       "      <td>0.000000</td>\n",
       "      <td>-74.248434</td>\n",
       "      <td>101.000000</td>\n",
       "      <td>1.000000</td>\n",
       "      <td>100.000000</td>\n",
       "      <td>1.000000e+06</td>\n",
       "      <td>1.000000e+00</td>\n",
       "    </tr>\n",
       "    <tr>\n",
       "      <th>25%</th>\n",
       "      <td>4.147968e+07</td>\n",
       "      <td>10022.000000</td>\n",
       "      <td>11.000000</td>\n",
       "      <td>40.686060</td>\n",
       "      <td>-73.988944</td>\n",
       "      <td>106.000000</td>\n",
       "      <td>4.000000</td>\n",
       "      <td>8000.000000</td>\n",
       "      <td>1.045866e+06</td>\n",
       "      <td>1.010540e+09</td>\n",
       "    </tr>\n",
       "    <tr>\n",
       "      <th>50%</th>\n",
       "      <td>5.001811e+07</td>\n",
       "      <td>10474.000000</td>\n",
       "      <td>18.000000</td>\n",
       "      <td>40.732013</td>\n",
       "      <td>-73.956292</td>\n",
       "      <td>301.000000</td>\n",
       "      <td>20.000000</td>\n",
       "      <td>17010.000000</td>\n",
       "      <td>3.014447e+06</td>\n",
       "      <td>3.004410e+09</td>\n",
       "    </tr>\n",
       "    <tr>\n",
       "      <th>75%</th>\n",
       "      <td>5.007025e+07</td>\n",
       "      <td>11231.000000</td>\n",
       "      <td>28.000000</td>\n",
       "      <td>40.761831</td>\n",
       "      <td>-73.896083</td>\n",
       "      <td>401.000000</td>\n",
       "      <td>34.000000</td>\n",
       "      <td>42100.000000</td>\n",
       "      <td>4.005324e+06</td>\n",
       "      <td>4.004358e+09</td>\n",
       "    </tr>\n",
       "    <tr>\n",
       "      <th>max</th>\n",
       "      <td>5.009750e+07</td>\n",
       "      <td>12345.000000</td>\n",
       "      <td>166.000000</td>\n",
       "      <td>40.907329</td>\n",
       "      <td>0.000000</td>\n",
       "      <td>595.000000</td>\n",
       "      <td>51.000000</td>\n",
       "      <td>162100.000000</td>\n",
       "      <td>5.799501e+06</td>\n",
       "      <td>5.270001e+09</td>\n",
       "    </tr>\n",
       "  </tbody>\n",
       "</table>\n",
       "</div>"
      ],
      "text/plain": [
       "              CAMIS        ZIPCODE          SCORE       Latitude  \\\n",
       "count  1.103640e+05  108920.000000  106853.000000  110260.000000   \n",
       "mean   4.663234e+07   10696.305013      22.297249      40.195320   \n",
       "std    4.318050e+06     596.189676      16.588463       4.630846   \n",
       "min    3.007544e+07   10000.000000      -1.000000       0.000000   \n",
       "25%    4.147968e+07   10022.000000      11.000000      40.686060   \n",
       "50%    5.001811e+07   10474.000000      18.000000      40.732013   \n",
       "75%    5.007025e+07   11231.000000      28.000000      40.761831   \n",
       "max    5.009750e+07   12345.000000     166.000000      40.907329   \n",
       "\n",
       "           Longitude  Community Board  Council District   Census Tract  \\\n",
       "count  110260.000000    108816.000000     108816.000000  108816.000000   \n",
       "mean      -72.972523       251.406576         20.246094   29612.160261   \n",
       "std         8.406504       129.875046         15.674501   31065.666987   \n",
       "min       -74.248434       101.000000          1.000000     100.000000   \n",
       "25%       -73.988944       106.000000          4.000000    8000.000000   \n",
       "50%       -73.956292       301.000000         20.000000   17010.000000   \n",
       "75%       -73.896083       401.000000         34.000000   42100.000000   \n",
       "max         0.000000       595.000000         51.000000  162100.000000   \n",
       "\n",
       "                BIN           BBL  \n",
       "count  1.083150e+05  1.102600e+05  \n",
       "mean   2.540325e+06  2.434134e+09  \n",
       "std    1.342813e+06  1.334352e+09  \n",
       "min    1.000000e+06  1.000000e+00  \n",
       "25%    1.045866e+06  1.010540e+09  \n",
       "50%    3.014447e+06  3.004410e+09  \n",
       "75%    4.005324e+06  4.004358e+09  \n",
       "max    5.799501e+06  5.270001e+09  "
      ]
     },
     "execution_count": 46,
     "metadata": {},
     "output_type": "execute_result"
    }
   ],
   "source": [
    "restaurants.describe()"
   ]
  },
  {
   "cell_type": "markdown",
   "metadata": {},
   "source": [
    "Plot a histogram to visualize the distribution of the inspection scores."
   ]
  },
  {
   "cell_type": "code",
   "execution_count": 47,
   "metadata": {},
   "outputs": [
    {
     "data": {
      "text/plain": [
       "<matplotlib.axes._subplots.AxesSubplot at 0x1a827a6f98>"
      ]
     },
     "execution_count": 47,
     "metadata": {},
     "output_type": "execute_result"
    },
    {
     "data": {
      "image/png": "[encoded data removed]",
      "text/plain": [
       "<Figure size 432x288 with 1 Axes>"
      ]
     },
     "metadata": {
      "needs_background": "light"
     },
     "output_type": "display_data"
    }
   ],
   "source": [
    "restaurants['SCORE'].hist()"
   ]
  },
  {
   "cell_type": "markdown",
   "metadata": {},
   "source": [
    "You should experiment with the number of bins to find a visualization that shows all major features of the distribution."
   ]
  },
  {
   "cell_type": "code",
   "execution_count": 48,
   "metadata": {},
   "outputs": [
    {
     "data": {
      "text/plain": [
       "<matplotlib.axes._subplots.AxesSubplot at 0x1a82708b38>"
      ]
     },
     "execution_count": 48,
     "metadata": {},
     "output_type": "execute_result"
    },
    {
     "data": {
      "image/png": "[encoded data removed]",
      "text/plain": [
       "<Figure size 432x288 with 1 Axes>"
      ]
     },
     "metadata": {
      "needs_background": "light"
     },
     "output_type": "display_data"
    }
   ],
   "source": [
    "restaurants['SCORE'].hist(bins=75)"
   ]
  },
  {
   "cell_type": "markdown",
   "metadata": {},
   "source": [
    "What do you notice about the distribution, and how do you think that fits with how restaurants are inspected?"
   ]
  },
  {
   "cell_type": "markdown",
   "metadata": {},
   "source": [
    "* The distribution shows majority of restaruants in NYC earned less than 50 on their inspected score. Restaruants with lower score recieve higher letter Grade, which means those restaruants meet the NYC health inspection requirements."
   ]
  },
  {
   "cell_type": "markdown",
   "metadata": {},
   "source": [
    "Plot a bar chart of the distribution of boroughs."
   ]
  },
  {
   "cell_type": "code",
   "execution_count": 50,
   "metadata": {},
   "outputs": [
    {
     "data": {
      "text/html": [
       "<div>\n",
       "<style scoped>\n",
       "    .dataframe tbody tr th:only-of-type {\n",
       "        vertical-align: middle;\n",
       "    }\n",
       "\n",
       "    .dataframe tbody tr th {\n",
       "        vertical-align: top;\n",
       "    }\n",
       "\n",
       "    .dataframe thead th {\n",
       "        text-align: right;\n",
       "    }\n",
       "</style>\n",
       "<table border=\"1\" class=\"dataframe\">\n",
       "  <thead>\n",
       "    <tr style=\"text-align: right;\">\n",
       "      <th></th>\n",
       "      <th>DBA</th>\n",
       "      <th>BORO</th>\n",
       "      <th>BUILDING</th>\n",
       "      <th>STREET</th>\n",
       "      <th>PHONE</th>\n",
       "      <th>CUISINE DESCRIPTION</th>\n",
       "      <th>INSPECTION DATE</th>\n",
       "      <th>ACTION</th>\n",
       "      <th>VIOLATION CODE</th>\n",
       "      <th>VIOLATION DESCRIPTION</th>\n",
       "      <th>CRITICAL FLAG</th>\n",
       "      <th>GRADE</th>\n",
       "      <th>GRADE DATE</th>\n",
       "      <th>RECORD DATE</th>\n",
       "      <th>INSPECTION TYPE</th>\n",
       "      <th>NTA</th>\n",
       "    </tr>\n",
       "  </thead>\n",
       "  <tbody>\n",
       "    <tr>\n",
       "      <th>count</th>\n",
       "      <td>110364</td>\n",
       "      <td>110364</td>\n",
       "      <td>110315</td>\n",
       "      <td>110364</td>\n",
       "      <td>110363</td>\n",
       "      <td>110364</td>\n",
       "      <td>110364</td>\n",
       "      <td>110364</td>\n",
       "      <td>109465</td>\n",
       "      <td>107996</td>\n",
       "      <td>107996</td>\n",
       "      <td>57134</td>\n",
       "      <td>55214</td>\n",
       "      <td>110364</td>\n",
       "      <td>110364</td>\n",
       "      <td>108816</td>\n",
       "    </tr>\n",
       "    <tr>\n",
       "      <th>unique</th>\n",
       "      <td>17130</td>\n",
       "      <td>6</td>\n",
       "      <td>6498</td>\n",
       "      <td>2927</td>\n",
       "      <td>20042</td>\n",
       "      <td>84</td>\n",
       "      <td>215</td>\n",
       "      <td>5</td>\n",
       "      <td>91</td>\n",
       "      <td>79</td>\n",
       "      <td>2</td>\n",
       "      <td>6</td>\n",
       "      <td>209</td>\n",
       "      <td>1</td>\n",
       "      <td>27</td>\n",
       "      <td>193</td>\n",
       "    </tr>\n",
       "    <tr>\n",
       "      <th>top</th>\n",
       "      <td>DUNKIN'</td>\n",
       "      <td>Manhattan</td>\n",
       "      <td>1</td>\n",
       "      <td>BROADWAY</td>\n",
       "      <td>9177437388</td>\n",
       "      <td>American</td>\n",
       "      <td>06/27/2019</td>\n",
       "      <td>Violations were cited in the following area(s).</td>\n",
       "      <td>10F</td>\n",
       "      <td>Non-food contact surface improperly constructe...</td>\n",
       "      <td>Y</td>\n",
       "      <td>A</td>\n",
       "      <td>06/13/2019</td>\n",
       "      <td>08/30/2019</td>\n",
       "      <td>Cycle Inspection / Initial Inspection</td>\n",
       "      <td>MN17</td>\n",
       "    </tr>\n",
       "    <tr>\n",
       "      <th>freq</th>\n",
       "      <td>923</td>\n",
       "      <td>41873</td>\n",
       "      <td>611</td>\n",
       "      <td>3805</td>\n",
       "      <td>86</td>\n",
       "      <td>21688</td>\n",
       "      <td>907</td>\n",
       "      <td>103692</td>\n",
       "      <td>15724</td>\n",
       "      <td>15724</td>\n",
       "      <td>60494</td>\n",
       "      <td>41662</td>\n",
       "      <td>537</td>\n",
       "      <td>110364</td>\n",
       "      <td>64829</td>\n",
       "      <td>6063</td>\n",
       "    </tr>\n",
       "  </tbody>\n",
       "</table>\n",
       "</div>"
      ],
      "text/plain": [
       "            DBA       BORO BUILDING    STREET       PHONE CUISINE DESCRIPTION  \\\n",
       "count    110364     110364   110315    110364      110363              110364   \n",
       "unique    17130          6     6498      2927       20042                  84   \n",
       "top     DUNKIN'  Manhattan        1  BROADWAY  9177437388            American   \n",
       "freq        923      41873      611      3805          86               21688   \n",
       "\n",
       "       INSPECTION DATE                                           ACTION  \\\n",
       "count           110364                                           110364   \n",
       "unique             215                                                5   \n",
       "top         06/27/2019  Violations were cited in the following area(s).   \n",
       "freq               907                                           103692   \n",
       "\n",
       "       VIOLATION CODE                              VIOLATION DESCRIPTION  \\\n",
       "count          109465                                             107996   \n",
       "unique             91                                                 79   \n",
       "top               10F  Non-food contact surface improperly constructe...   \n",
       "freq            15724                                              15724   \n",
       "\n",
       "       CRITICAL FLAG  GRADE  GRADE DATE RECORD DATE  \\\n",
       "count         107996  57134       55214      110364   \n",
       "unique             2      6         209           1   \n",
       "top                Y      A  06/13/2019  08/30/2019   \n",
       "freq           60494  41662         537      110364   \n",
       "\n",
       "                              INSPECTION TYPE     NTA  \n",
       "count                                  110364  108816  \n",
       "unique                                     27     193  \n",
       "top     Cycle Inspection / Initial Inspection    MN17  \n",
       "freq                                    64829    6063  "
      ]
     },
     "execution_count": 50,
     "metadata": {},
     "output_type": "execute_result"
    }
   ],
   "source": [
    "restaurants.describe(include = [\"O\"])"
   ]
  },
  {
   "cell_type": "code",
   "execution_count": 51,
   "metadata": {},
   "outputs": [
    {
     "data": {
      "text/plain": [
       "Manhattan        41873\n",
       "Brooklyn         28542\n",
       "Queens           26216\n",
       "Bronx            10291\n",
       "Staten Island     3430\n",
       "0                   12\n",
       "Name: BORO, dtype: int64"
      ]
     },
     "execution_count": 51,
     "metadata": {},
     "output_type": "execute_result"
    }
   ],
   "source": [
    "borough_counts = restaurants['BORO'].value_counts()\n",
    "borough_counts"
   ]
  },
  {
   "cell_type": "code",
   "execution_count": 52,
   "metadata": {},
   "outputs": [
    {
     "data": {
      "text/plain": [
       "<matplotlib.axes._subplots.AxesSubplot at 0x1a81d2b390>"
      ]
     },
     "execution_count": 52,
     "metadata": {},
     "output_type": "execute_result"
    },
    {
     "data": {
      "image/png": "[encoded data removed]",
      "text/plain": [
       "<Figure size 432x288 with 1 Axes>"
      ]
     },
     "metadata": {
      "needs_background": "light"
     },
     "output_type": "display_data"
    }
   ],
   "source": [
    "borough_counts.plot.bar()"
   ]
  },
  {
   "cell_type": "markdown",
   "metadata": {},
   "source": [
    " In which boroughs are the most/least restaurant inspections?"
   ]
  },
  {
   "cell_type": "markdown",
   "metadata": {},
   "source": [
    "* Most: Manhattan, Lest: Staten Island"
   ]
  },
  {
   "cell_type": "markdown",
   "metadata": {},
   "source": [
    "Find the mean score for inspections made in January and the mean score for inspections made in July."
   ]
  },
  {
   "cell_type": "code",
   "execution_count": 53,
   "metadata": {},
   "outputs": [],
   "source": [
    "restaurants['INSPECTION DATE'] = pd.to_datetime(restaurants['INSPECTION DATE'])"
   ]
  },
  {
   "cell_type": "code",
   "execution_count": 54,
   "metadata": {},
   "outputs": [],
   "source": [
    "jan_filter = restaurants['INSPECTION DATE'].dt.month == 1\n",
    "jul_filter = restaurants['INSPECTION DATE'].dt.month == 7"
   ]
  },
  {
   "cell_type": "code",
   "execution_count": 87,
   "metadata": {},
   "outputs": [
    {
     "data": {
      "text/plain": [
       "20.332909899283187"
      ]
     },
     "execution_count": 87,
     "metadata": {},
     "output_type": "execute_result"
    }
   ],
   "source": [
    "restaurants[jan_filter]['SCORE'].mean()"
   ]
  },
  {
   "cell_type": "code",
   "execution_count": 86,
   "metadata": {},
   "outputs": [
    {
     "data": {
      "text/plain": [
       "26.203096228602604"
      ]
     },
     "execution_count": 86,
     "metadata": {},
     "output_type": "execute_result"
    }
   ],
   "source": [
    "restaurants[jul_filter]['SCORE'].mean()"
   ]
  },
  {
   "cell_type": "markdown",
   "metadata": {},
   "source": [
    "From these computations, does the mean score seem to depend on the month? Why do you think this might be?"
   ]
  },
  {
   "cell_type": "markdown",
   "metadata": {},
   "source": [
    "* Yes, because during the summer time restaurants are seems to be more busy and unorganized, which can cause them to be less cleaner than winter."
   ]
  },
  {
   "cell_type": "markdown",
   "metadata": {},
   "source": [
    "Make a bar chart of the top 15 cuisine types in the dataset."
   ]
  },
  {
   "cell_type": "code",
   "execution_count": 73,
   "metadata": {},
   "outputs": [
    {
     "data": {
      "text/plain": [
       "<matplotlib.axes._subplots.AxesSubplot at 0x1a8029a320>"
      ]
     },
     "execution_count": 73,
     "metadata": {},
     "output_type": "execute_result"
    },
    {
     "data": {
      "image/png": "[encoded data removed]",
      "text/plain": [
       "<Figure size 432x288 with 1 Axes>"
      ]
     },
     "metadata": {
      "needs_background": "light"
     },
     "output_type": "display_data"
    }
   ],
   "source": [
    "cuisine_counts = restaurants['CUISINE DESCRIPTION'].value_counts()\n",
    "cuisine_counts.head(15).plot.bar()"
   ]
  },
  {
   "cell_type": "markdown",
   "metadata": {},
   "source": [
    "How many different cuisine types are there in the dataset?"
   ]
  },
  {
   "cell_type": "code",
   "execution_count": 74,
   "metadata": {},
   "outputs": [
    {
     "data": {
      "text/plain": [
       "84"
      ]
     },
     "execution_count": 74,
     "metadata": {},
     "output_type": "execute_result"
    }
   ],
   "source": [
    "len(cuisine_counts)"
   ]
  },
  {
   "cell_type": "markdown",
   "metadata": {},
   "source": [
    "What is the most common street?"
   ]
  },
  {
   "cell_type": "code",
   "execution_count": 85,
   "metadata": {},
   "outputs": [
    {
     "data": {
      "text/plain": [
       "BROADWAY    3805\n",
       "Name: STREET, dtype: int64"
      ]
     },
     "execution_count": 85,
     "metadata": {},
     "output_type": "execute_result"
    }
   ],
   "source": [
    "street_counts = restaurants['STREET'].value_counts()\n",
    "street_counts.head(1)"
   ]
  }
 ],
 "metadata": {
  "kernelspec": {
   "display_name": "Python 3",
   "language": "python",
   "name": "python3"
  },
  "language_info": {
   "codemirror_mode": {
    "name": "ipython",
    "version": 3
   },
   "file_extension": ".py",
   "mimetype": "text/x-python",
   "name": "python",
   "nbconvert_exporter": "python",
   "pygments_lexer": "ipython3",
   "version": "3.7.3"
  }
 },
 "nbformat": 4,
 "nbformat_minor": 2
}
