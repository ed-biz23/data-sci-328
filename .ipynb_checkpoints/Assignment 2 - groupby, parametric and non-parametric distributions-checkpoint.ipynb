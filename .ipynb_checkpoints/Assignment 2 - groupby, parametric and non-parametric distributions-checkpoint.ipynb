{
 "cells": [
  {
   "cell_type": "markdown",
   "metadata": {},
   "source": [
    "# Assignment 2 - groupby, parametric and non-parametric distributions\n",
    "\n",
    "This assignment uses the 2018 Green Taxi Trip data filtered to only include trips from Sept. 24, 2018.  Download the file from Blackboard.  The original unfiltered dataset is available at [https://data.cityofnewyork.us/Transportation/2018-Green-Taxi-Trip-Data/w7fs-fd9i](https://data.cityofnewyork.us/Transportation/2018-Green-Taxi-Trip-Data/w7fs-fd9i).\n",
    "\n",
    "Note:  To convert the `lpep_pickup_datetime` column to a `datetime` object, add the parameter `parse_dates = [\"lpep_pickup_datetime\"]` to `read_csv()`.  \n",
    "ex. `taxi = pd.read_csv(\"taxi.csv\", parse_dates = [\"lpep_pickup_datetime\"])`\n",
    "Unfortunately I don't know why we have to use a different method for dates here, but the one used in the Labs does not work.\n",
    "\n",
    "All plots should have an appropriate title and axis labels.\n",
    "\n",
    "1. What is the mean trip distance for each possible number of passengers?  For what number of passengers is the mean trip distance the longest? \n",
    "2. What is the median trip distance for each hour (0 - 23)?  For what time of day is the median trip distance longest?  Why do you think that might be?  (There is no right or wrong answer to this last question.)\n",
    "3. Plot a Seaborn relplot of the relationship between trip distance and total amount paid, with the point colored by the toll amount.  What do you notice about the relationship between trip distance and total amount paid?  Is there any relationship between the amount of tolls paid and the trip distance and/or total amount paid?\n",
    "4.  For this question, only consider taxi trips of 30 miles or less.  Fit an exponential distribution to the trip distance data.  What is lambda?  Plot this exponential distribution over a histogram of the trip distance data.  Do you think the exponential distribution is a good model or estimate of the actual trip distance data?\n",
    "<details> <summary>Hint:</summary>\n",
    "There are several steps to this question:\n",
    "- create a new data only containing taxi trips 30 miles or less\n",
    "- estimate lambda using the mean trip distance\n",
    "- compute x and y coordinates for the exponential distribution using the estimated lambda (or just the mean directly)\n",
    "- plot the exponential distribution over the histogram of the trip distances\n",
    "</details>\n",
    "5.  a.  Using the full taxi dataset, take 1000 samples with replacement and compute the mean trip distance of each sample.\n",
    "\n",
    "    b.  Plot a histogram of this sampling distrbution of sample means.  What shape does it have?  \n",
    "\n",
    "    c.  Estimate the normal distribution that fits (best matches) the sample means, and plot the histogram again with a line showing this normal distribution.  Do you think this histogram was sampled from this normal distribution?\n",
    "\n",
    "    d.  According to the Central Limit Theorem, the sampling distribution of the sample means should be a normal distribution with mean equal to the mean of the population and standard deviation equal to the standard deviation of the population divided by the square root of the size of the samples.  Since our data set is very large, we will assume the mean and standard deviation of the population are the same as the mean and standard deviation of the sample (our taxi data).  Redraw the histogram and normal distribution from step c, adding a line for the normal distribution predicted by the Central Limit Theorem.  How close is the normal distribution predicted by the Central Limit Theorem to the normal distribution we estimated (fit) in step c?\n",
    "6. a. Compute the 95% confidence interval for the mean trip distance for trips with only 1 passenger.\n",
    "\n",
    "    b. Compute the 95% confidence interval for the mean trip distance for trips with only 2 passengers.\n",
    "    \n",
    "    c.  Can we conclude that the mean trip distance is different when there is 1 passenger compared to when there are 2 passengers?  Why or why not?"
   ]
  },
  {
   "cell_type": "code",
   "execution_count": 1,
   "metadata": {},
   "outputs": [],
   "source": [
    "import matplotlib\n",
    "import matplotlib.pyplot as plt\n",
    "import pandas as pd\n",
    "import seaborn as sns\n",
    "%matplotlib inline\n",
    "\n",
    "pd.set_option('display.max_columns', None)"
   ]
  },
  {
   "cell_type": "code",
   "execution_count": null,
   "metadata": {},
   "outputs": [],
   "source": [
    "taxi = pd.read_csv(\"taxi.csv\", parse_dates = [\"lpep_pickup_datetime\"])"
   ]
  },
  {
   "cell_type": "code",
   "execution_count": null,
   "metadata": {},
   "outputs": [],
   "source": []
  }
 ],
 "metadata": {
  "kernelspec": {
   "display_name": "Python 3",
   "language": "python",
   "name": "python3"
  },
  "language_info": {
   "codemirror_mode": {
    "name": "ipython",
    "version": 3
   },
   "file_extension": ".py",
   "mimetype": "text/x-python",
   "name": "python",
   "nbconvert_exporter": "python",
   "pygments_lexer": "ipython3",
   "version": "3.7.3"
  }
 },
 "nbformat": 4,
 "nbformat_minor": 2
}
