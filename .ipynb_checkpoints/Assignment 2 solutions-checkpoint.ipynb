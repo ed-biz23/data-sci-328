{
 "cells": [
  {
   "cell_type": "markdown",
   "metadata": {},
   "source": [
    "# Assignment 2 - groupby, parametric and non-parametric distributions\n",
    "\n",
    "This assignment uses the 2018 Green Taxi Trip data filtered to only include trips from Sept. 24, 2018.  Download the file from Blackboard.  The original unfiltered dataset is available at [https://data.cityofnewyork.us/Transportation/2018-Green-Taxi-Trip-Data/w7fs-fd9i](https://data.cityofnewyork.us/Transportation/2018-Green-Taxi-Trip-Data/w7fs-fd9i).\n",
    "\n",
    "Note:  To convert the `lpep_pickup_datetime` column to a `datetime` object, add the parameter `parse_dates = [\"lpep_pickup_datetime\"]` to `read_csv()`.  \n",
    "ex. `taxi = pd.read_csv(\"taxi.csv\", parse_dates = [\"lpep_pickup_datetime\"])`\n",
    "Unfortunately I don't know why we have to use a different method for dates here, but the one used in the Labs does not work.\n",
    "\n",
    "All plots should have an appropriate title and axis labels.\n",
    "\n",
    "1. What is the mean trip distance for each possible number of passengers?  For what number of passengers is the mean trip distance the longest? \n",
    "2. What is the median trip distance for each hour (0 - 23)?  For what time of day is the median trip distance longest?  Why do you think that might be?  (There is no right or wrong answer to this last question.)\n",
    "3. Plot a Seaborn relplot of the relationship between trip distance and total amount paid, with the point colored by the toll amount.  What do you notice about the relationship between trip distance and total amount paid?  Is there any relationship between the amount of tolls paid and the trip distance and/or total amount paid?\n",
    "4.  For this question, only consider taxi trips of 30 miles or less.  Fit an exponential distribution to the trip distance data.  What is lambda?  Plot this exponential distribution over a histogram of the trip distance data.  Do you think the exponential distribution is a good model or estimate of the actual trip distance data?\n",
    "<details> <summary>Hint:</summary>\n",
    "There are several steps to this question:\n",
    "- create a new data only containing taxi trips 30 miles or less\n",
    "- estimate lambda using the mean trip distance\n",
    "- compute x and y coordinates for the exponential distribution using the estimated lambda (or just the mean directly)\n",
    "- plot the exponential distribution over the histogram of the trip distances\n",
    "</details>\n",
    "5.  a.  Using the full taxi dataset, take 1000 samples with replacement and compute the mean trip distance of each sample.\n",
    "\n",
    "    b.  Plot a histogram of this sampling distrbution of sample means.  What shape does it have?  \n",
    "\n",
    "    c.  Estimate the normal distribution that fits (best matches) the sample means, and plot the histogram again with a line showing this normal distribution.  Do you think this histogram was sampled from this normal distribution?\n",
    "\n",
    "    d.  According to the Central Limit Theorem, the sampling distribution of the sample means should be a normal distribution with mean equal to the mean of the population and standard deviation equal to the standard deviation of the population divided by the square root of the size of the samples.  Since our data set is very large, we will assume the mean and standard deviation of the population are the same as the mean and standard deviation of the sample (our taxi data).  Redraw the histogram and normal distribution from step c, adding a line for the normal distribution predicted by the Central Limit Theorem.  How close is the normal distribution predicted by the Central Limit Theorem to the normal distribution we estimated (fit) in step c?\n",
    "6. a. Compute the 95% confidence interval for the mean trip distance for trips with only 1 passenger.\n",
    "\n",
    "    b. Compute the 95% confidence interval for the mean trip distance for trips with only 2 passengers.\n",
    "    \n",
    "    c.  Can we conclude that the mean trip distance is different when there is 1 passenger compared to when there are 2 passengers?  Why or why not?"
   ]
  },
  {
   "cell_type": "code",
   "execution_count": 79,
   "metadata": {
    "collapsed": true
   },
   "outputs": [],
   "source": [
    "import matplotlib.pyplot as plt\n",
    "import pandas as pd\n",
    "import seaborn as sns\n",
    "import numpy as np\n",
    "import scipy.stats as stats\n",
    "%matplotlib inline"
   ]
  },
  {
   "cell_type": "code",
   "execution_count": 128,
   "metadata": {},
   "outputs": [
    {
     "data": {
      "text/html": [
       "<div>\n",
       "<style scoped>\n",
       "    .dataframe tbody tr th:only-of-type {\n",
       "        vertical-align: middle;\n",
       "    }\n",
       "\n",
       "    .dataframe tbody tr th {\n",
       "        vertical-align: top;\n",
       "    }\n",
       "\n",
       "    .dataframe thead th {\n",
       "        text-align: right;\n",
       "    }\n",
       "</style>\n",
       "<table border=\"1\" class=\"dataframe\">\n",
       "  <thead>\n",
       "    <tr style=\"text-align: right;\">\n",
       "      <th></th>\n",
       "      <th>VendorID</th>\n",
       "      <th>lpep_pickup_datetime</th>\n",
       "      <th>lpep_dropoff_datetime</th>\n",
       "      <th>store_and_fwd_flag</th>\n",
       "      <th>RatecodeID</th>\n",
       "      <th>PULocationID</th>\n",
       "      <th>DOLocationID</th>\n",
       "      <th>passenger_count</th>\n",
       "      <th>trip_distance</th>\n",
       "      <th>fare_amount</th>\n",
       "      <th>extra</th>\n",
       "      <th>mta_tax</th>\n",
       "      <th>tip_amount</th>\n",
       "      <th>tolls_amount</th>\n",
       "      <th>ehail_fee</th>\n",
       "      <th>improvement_surcharge</th>\n",
       "      <th>total_amount</th>\n",
       "      <th>payment_type</th>\n",
       "      <th>trip_type</th>\n",
       "    </tr>\n",
       "  </thead>\n",
       "  <tbody>\n",
       "    <tr>\n",
       "      <th>0</th>\n",
       "      <td>2</td>\n",
       "      <td>2018-09-24 00:00:03</td>\n",
       "      <td>09/24/2018 12:12:18 AM</td>\n",
       "      <td>N</td>\n",
       "      <td>1</td>\n",
       "      <td>83</td>\n",
       "      <td>56</td>\n",
       "      <td>2</td>\n",
       "      <td>2.38</td>\n",
       "      <td>10.5</td>\n",
       "      <td>0.5</td>\n",
       "      <td>0.5</td>\n",
       "      <td>0.00</td>\n",
       "      <td>0.0</td>\n",
       "      <td>NaN</td>\n",
       "      <td>0.3</td>\n",
       "      <td>11.80</td>\n",
       "      <td>1</td>\n",
       "      <td>1</td>\n",
       "    </tr>\n",
       "    <tr>\n",
       "      <th>1</th>\n",
       "      <td>2</td>\n",
       "      <td>2018-09-24 00:00:11</td>\n",
       "      <td>09/24/2018 12:04:28 AM</td>\n",
       "      <td>N</td>\n",
       "      <td>1</td>\n",
       "      <td>7</td>\n",
       "      <td>179</td>\n",
       "      <td>1</td>\n",
       "      <td>0.97</td>\n",
       "      <td>5.0</td>\n",
       "      <td>0.5</td>\n",
       "      <td>0.5</td>\n",
       "      <td>1.26</td>\n",
       "      <td>0.0</td>\n",
       "      <td>NaN</td>\n",
       "      <td>0.3</td>\n",
       "      <td>7.56</td>\n",
       "      <td>1</td>\n",
       "      <td>1</td>\n",
       "    </tr>\n",
       "    <tr>\n",
       "      <th>2</th>\n",
       "      <td>2</td>\n",
       "      <td>2018-09-24 00:00:15</td>\n",
       "      <td>09/24/2018 12:06:38 AM</td>\n",
       "      <td>N</td>\n",
       "      <td>1</td>\n",
       "      <td>260</td>\n",
       "      <td>129</td>\n",
       "      <td>1</td>\n",
       "      <td>1.21</td>\n",
       "      <td>6.5</td>\n",
       "      <td>0.5</td>\n",
       "      <td>0.5</td>\n",
       "      <td>0.00</td>\n",
       "      <td>0.0</td>\n",
       "      <td>NaN</td>\n",
       "      <td>0.3</td>\n",
       "      <td>7.80</td>\n",
       "      <td>2</td>\n",
       "      <td>1</td>\n",
       "    </tr>\n",
       "    <tr>\n",
       "      <th>3</th>\n",
       "      <td>2</td>\n",
       "      <td>2018-09-24 00:00:19</td>\n",
       "      <td>09/24/2018 12:06:18 AM</td>\n",
       "      <td>N</td>\n",
       "      <td>1</td>\n",
       "      <td>7</td>\n",
       "      <td>223</td>\n",
       "      <td>1</td>\n",
       "      <td>1.34</td>\n",
       "      <td>6.5</td>\n",
       "      <td>0.5</td>\n",
       "      <td>0.5</td>\n",
       "      <td>0.00</td>\n",
       "      <td>0.0</td>\n",
       "      <td>NaN</td>\n",
       "      <td>0.3</td>\n",
       "      <td>7.80</td>\n",
       "      <td>2</td>\n",
       "      <td>1</td>\n",
       "    </tr>\n",
       "    <tr>\n",
       "      <th>4</th>\n",
       "      <td>2</td>\n",
       "      <td>2018-09-24 00:00:20</td>\n",
       "      <td>09/24/2018 12:10:45 AM</td>\n",
       "      <td>N</td>\n",
       "      <td>1</td>\n",
       "      <td>66</td>\n",
       "      <td>97</td>\n",
       "      <td>5</td>\n",
       "      <td>2.14</td>\n",
       "      <td>9.5</td>\n",
       "      <td>0.5</td>\n",
       "      <td>0.5</td>\n",
       "      <td>2.16</td>\n",
       "      <td>0.0</td>\n",
       "      <td>NaN</td>\n",
       "      <td>0.3</td>\n",
       "      <td>12.96</td>\n",
       "      <td>1</td>\n",
       "      <td>1</td>\n",
       "    </tr>\n",
       "  </tbody>\n",
       "</table>\n",
       "</div>"
      ],
      "text/plain": [
       "   VendorID lpep_pickup_datetime   lpep_dropoff_datetime store_and_fwd_flag  \\\n",
       "0         2  2018-09-24 00:00:03  09/24/2018 12:12:18 AM                  N   \n",
       "1         2  2018-09-24 00:00:11  09/24/2018 12:04:28 AM                  N   \n",
       "2         2  2018-09-24 00:00:15  09/24/2018 12:06:38 AM                  N   \n",
       "3         2  2018-09-24 00:00:19  09/24/2018 12:06:18 AM                  N   \n",
       "4         2  2018-09-24 00:00:20  09/24/2018 12:10:45 AM                  N   \n",
       "\n",
       "   RatecodeID  PULocationID  DOLocationID  passenger_count  trip_distance  \\\n",
       "0           1            83            56                2           2.38   \n",
       "1           1             7           179                1           0.97   \n",
       "2           1           260           129                1           1.21   \n",
       "3           1             7           223                1           1.34   \n",
       "4           1            66            97                5           2.14   \n",
       "\n",
       "   fare_amount  extra  mta_tax  tip_amount  tolls_amount  ehail_fee  \\\n",
       "0         10.5    0.5      0.5        0.00           0.0        NaN   \n",
       "1          5.0    0.5      0.5        1.26           0.0        NaN   \n",
       "2          6.5    0.5      0.5        0.00           0.0        NaN   \n",
       "3          6.5    0.5      0.5        0.00           0.0        NaN   \n",
       "4          9.5    0.5      0.5        2.16           0.0        NaN   \n",
       "\n",
       "   improvement_surcharge  total_amount  payment_type  trip_type  \n",
       "0                    0.3         11.80             1          1  \n",
       "1                    0.3          7.56             1          1  \n",
       "2                    0.3          7.80             2          1  \n",
       "3                    0.3          7.80             2          1  \n",
       "4                    0.3         12.96             1          1  "
      ]
     },
     "execution_count": 128,
     "metadata": {},
     "output_type": "execute_result"
    }
   ],
   "source": [
    "taxi = pd.read_csv(\"../data/Sept24_2018_Green_Taxi_Trip_Data.csv\", parse_dates = [\"lpep_pickup_datetime\"])\n",
    "taxi.head()"
   ]
  },
  {
   "cell_type": "markdown",
   "metadata": {},
   "source": [
    "### Question 1\n",
    "What is the mean trip distance for each possible number of passengers?  For what number of passengers is the mean trip distance the longest? "
   ]
  },
  {
   "cell_type": "code",
   "execution_count": 129,
   "metadata": {},
   "outputs": [
    {
     "data": {
      "text/plain": [
       "passenger_count\n",
       "0    3.168824\n",
       "1    3.440191\n",
       "2    3.326956\n",
       "3    3.502949\n",
       "4    2.319286\n",
       "5    3.375298\n",
       "6    3.501667\n",
       "8    1.370000\n",
       "9    0.220000\n",
       "Name: trip_distance, dtype: float64"
      ]
     },
     "execution_count": 129,
     "metadata": {},
     "output_type": "execute_result"
    }
   ],
   "source": [
    "taxi.groupby(\"passenger_count\").mean()[\"trip_distance\"]"
   ]
  },
  {
   "cell_type": "markdown",
   "metadata": {},
   "source": [
    "The mean trip distance is longest for 3 passengers.\n",
    "\n",
    "### Question 2\n",
    "What is the median trip distance for each hour (0 - 23)?  For what time of day is the median trip distance longest?  Why do you think that might be?  (There is no right or wrong answer to this last question.)"
   ]
  },
  {
   "cell_type": "code",
   "execution_count": 130,
   "metadata": {},
   "outputs": [
    {
     "data": {
      "text/plain": [
       "lpep_pickup_datetime\n",
       "0     1.830\n",
       "1     1.610\n",
       "2     1.865\n",
       "3     1.800\n",
       "4     3.060\n",
       "5     4.540\n",
       "6     4.260\n",
       "7     2.440\n",
       "8     2.060\n",
       "9     2.030\n",
       "10    2.140\n",
       "11    2.075\n",
       "12    2.170\n",
       "13    2.200\n",
       "14    2.040\n",
       "15    1.880\n",
       "16    2.040\n",
       "17    1.800\n",
       "18    1.710\n",
       "19    1.600\n",
       "20    1.640\n",
       "21    1.785\n",
       "22    1.840\n",
       "23    1.950\n",
       "Name: trip_distance, dtype: float64"
      ]
     },
     "execution_count": 130,
     "metadata": {},
     "output_type": "execute_result"
    }
   ],
   "source": [
    "taxi.groupby(taxi[\"lpep_pickup_datetime\"].dt.hour).median()[\"trip_distance\"]"
   ]
  },
  {
   "cell_type": "markdown",
   "metadata": {},
   "source": [
    "The median trip distance is longest in the early morning hours (4 - 6am).  Sept. 24, 2018 was a Monday, so it's unlikely to be people coming home from a late night out.  Perhaps a lot of (business) people are taking taxis to the airport for early morning flights.  Or perhaps people are willing to take longer trips at this time because the subways are still on the night schedule, and thus slower, but they are trying to get somewhere quickkly.\n",
    "\n",
    "### Question 3\n",
    "Plot a Seaborn relplot of the relationship between trip distance and total amount paid, with the point colored by the toll amount.  What do you notice about the relationship between trip distance and total amount paid?  Is there any relationship between the amount of tolls paid and the trip distance and/or total amount paid?"
   ]
  },
  {
   "cell_type": "code",
   "execution_count": 133,
   "metadata": {},
   "outputs": [
    {
     "data": {
      "text/plain": [
       "Text(36.105,0.5,'Total amount of trip ($)')"
      ]
     },
     "execution_count": 133,
     "metadata": {},
     "output_type": "execute_result"
    },
    {
     "data": {
      "image/png": "[encoded data removed]",
      "text/plain": [
       "<matplotlib.figure.Figure at 0x1a2ab84978>"
      ]
     },
     "metadata": {},
     "output_type": "display_data"
    }
   ],
   "source": [
    "sns.relplot(x = \"trip_distance\",y = \"total_amount\",hue = \"tolls_amount\",data = taxi)\n",
    "plt.title(\"Relationship between trip distance and trip cost\")\n",
    "plt.xlabel(\"Trip distance (miles)\")\n",
    "plt.ylabel(\"Total amount of trip ($)\")"
   ]
  },
  {
   "cell_type": "markdown",
   "metadata": {},
   "source": [
    "There appears to be a linear relationship (total amount increases as trip distance increases) between the trip distance and the total amount paid, as expected.  Non-zero toll amounts seem to correspond to more expensive trips for a particular distance, also as expected (since the toll cost is added in).\n",
    "\n",
    "### Question 4\n",
    "For this question, only consider taxi trips of 30 miles or less.  Fit an exponential distribution to the trip distance data.  What is lambda?  Plot this exponential distribution over a histogram of the trip distance data.  Do you think the exponential distribution is a good model or estimate of the actual trip distance data?"
   ]
  },
  {
   "cell_type": "code",
   "execution_count": 145,
   "metadata": {
    "collapsed": true
   },
   "outputs": [],
   "source": [
    "short_filter = taxi[\"trip_distance\"] <= 30\n",
    "taxi_short = taxi[short_filter]"
   ]
  },
  {
   "cell_type": "code",
   "execution_count": 146,
   "metadata": {
    "collapsed": true
   },
   "outputs": [],
   "source": [
    "taxi_short_mean_dist = taxi_short[\"trip_distance\"].mean()"
   ]
  },
  {
   "cell_type": "code",
   "execution_count": 147,
   "metadata": {},
   "outputs": [
    {
     "data": {
      "text/plain": [
       "0.29378268692994486"
      ]
     },
     "execution_count": 147,
     "metadata": {},
     "output_type": "execute_result"
    }
   ],
   "source": [
    "# lambda\n",
    "1/taxi_short_mean_dist"
   ]
  },
  {
   "cell_type": "code",
   "execution_count": 148,
   "metadata": {},
   "outputs": [],
   "source": [
    "x_short = np.linspace(0,30,300)\n",
    "y_short = stats.expon.pdf(x,scale = taxi_short_mean_dist)"
   ]
  },
  {
   "cell_type": "code",
   "execution_count": 150,
   "metadata": {},
   "outputs": [
    {
     "data": {
      "text/plain": [
       "Text(0,0.5,'Density')"
      ]
     },
     "execution_count": 150,
     "metadata": {},
     "output_type": "execute_result"
    },
    {
     "data": {
      "image/png": "[encoded data removed]",
      "text/plain": [
       "<matplotlib.figure.Figure at 0x1a29fd2be0>"
      ]
     },
     "metadata": {},
     "output_type": "display_data"
    }
   ],
   "source": [
    "taxi_short[\"trip_distance\"].hist(bins = 40, density = True)\n",
    "plt.plot(x_short,y_short)\n",
    "plt.title(\"Exponential distribution fitted to trip distances\")\n",
    "plt.xlabel(\"Trip distance (miles)\")\n",
    "plt.ylabel(\"Density\")"
   ]
  },
  {
   "cell_type": "markdown",
   "metadata": {},
   "source": [
    "Lambda is 0.29.  The exponential distribution seems to fit the trip distance data reasonably well.  However, because there are fewer very short trips, the exponential function is a little shallower than the data.\n",
    "\n",
    "### Question 5\n",
    "a.  Using the full taxi dataset, take 1000 samples with replacement and compute the mean trip distance of each sample.\n",
    "\n",
    "b.  Plot a histogram of this sampling distrbution of sample means.  What shape does it have?  \n",
    "\n",
    "c.  Estimate the normal distribution that fits (best matches) the sample means, and plot the histogram again with a line showing this normal distribution.  Do you think this histogram was sampled from this normal distribution?\n",
    "\n",
    "d.  According to the Central Limit Theorem, the sampling distribution of the sample means should be a normal distribution with mean equal to the mean of the population and standard deviation equal to the standard deviation of the population divided by the square root of the size of the samples.  Since our data set is very large, we will assume the mean and standard deviation of the population are the same as the mean and standard deviation of the sample (our taxi data).  Redraw the histogram and normal distribution from step c, adding a line for the normal distribution predicted by the Central Limit Theorem.  How close is the normal distribution predicted by the Central Limit Theorem to the normal distribution we estimated (fit) in step c?\n",
    "\n",
    "#### 5a"
   ]
  },
  {
   "cell_type": "code",
   "execution_count": 154,
   "metadata": {},
   "outputs": [
    {
     "data": {
      "text/plain": [
       "(20687, 19)"
      ]
     },
     "execution_count": 154,
     "metadata": {},
     "output_type": "execute_result"
    }
   ],
   "source": [
    "taxi.shape"
   ]
  },
  {
   "cell_type": "code",
   "execution_count": 155,
   "metadata": {
    "collapsed": true
   },
   "outputs": [],
   "source": [
    "# create an empty list\n",
    "sample_means = []\n",
    "# loop to create 1000 samples\n",
    "for i in range(1000):\n",
    "    # sample once from the trip distance column with replacement\n",
    "    sample = taxi[\"trip_distance\"].sample(20687, replace = True)\n",
    "    # compute the mean of the new sample\n",
    "    sample_mean = sample.mean()\n",
    "    # add the mean to the list\n",
    "    sample_means.append(sample_mean)"
   ]
  },
  {
   "cell_type": "markdown",
   "metadata": {},
   "source": [
    "#### 5b"
   ]
  },
  {
   "cell_type": "code",
   "execution_count": 158,
   "metadata": {},
   "outputs": [
    {
     "data": {
      "text/plain": [
       "Text(0,0.5,'Density')"
      ]
     },
     "execution_count": 158,
     "metadata": {},
     "output_type": "execute_result"
    },
    {
     "data": {
      "image/png": "[encoded data removed]",
      "text/plain": [
       "<matplotlib.figure.Figure at 0x1a2a3076a0>"
      ]
     },
     "metadata": {},
     "output_type": "display_data"
    }
   ],
   "source": [
    "means = pd.Series(sample_means)\n",
    "means.hist(bins = 40, density = True)\n",
    "plt.title(\"Sampling distribution of the sample mean trip distance\")\n",
    "plt.xlabel(\"Sample mean trip distance (miles)\")\n",
    "plt.ylabel(\"Density\")"
   ]
  },
  {
   "cell_type": "markdown",
   "metadata": {},
   "source": [
    "This histogram appears to have a normal distribution.\n",
    "\n",
    "#### 5c"
   ]
  },
  {
   "cell_type": "code",
   "execution_count": 166,
   "metadata": {},
   "outputs": [],
   "source": [
    "# Get the mean and standard deviation of the sample means\n",
    "mu = means.mean()\n",
    "sigma = means.std()"
   ]
  },
  {
   "cell_type": "code",
   "execution_count": 169,
   "metadata": {},
   "outputs": [
    {
     "data": {
      "text/plain": [
       "Text(0,0.5,'Density')"
      ]
     },
     "execution_count": 169,
     "metadata": {},
     "output_type": "execute_result"
    },
    {
     "data": {
      "image/png": "[encoded data removed]",
      "text/plain": [
       "<matplotlib.figure.Figure at 0x1a2a47dcf8>"
      ]
     },
     "metadata": {},
     "output_type": "display_data"
    }
   ],
   "source": [
    "x = np.linspace(mu - 3*sigma, mu+3*sigma,100)\n",
    "y = stats.norm.pdf(x, mu, sigma)\n",
    "means.hist(bins = 40, density = True)\n",
    "plt.plot(x,y)\n",
    "plt.title(\"Sampling distribution of the sample mean trip distance\")\n",
    "plt.xlabel(\"Sample mean trip distance (miles)\")\n",
    "plt.ylabel(\"Density\")"
   ]
  },
  {
   "cell_type": "markdown",
   "metadata": {},
   "source": [
    "Yes, this histogram could have been sampled from this normal distribution.\n",
    "\n",
    "#### 5d"
   ]
  },
  {
   "cell_type": "code",
   "execution_count": 170,
   "metadata": {},
   "outputs": [],
   "source": [
    "# Compute the mean and standard deviation predicted by the Central Limit Theorem\n",
    "mu_pop = taxi[\"trip_distance\"].mean()\n",
    "sigma_pop = taxi[\"trip_distance\"].std()\n",
    "# taxi.shape[0] gets the first number returned by shape, or the number of rows in taxi\n",
    "sigma_clt = sigma_pop/np.sqrt(taxi.shape[0])"
   ]
  },
  {
   "cell_type": "code",
   "execution_count": 174,
   "metadata": {},
   "outputs": [
    {
     "data": {
      "text/plain": [
       "Text(0,0.5,'Density')"
      ]
     },
     "execution_count": 174,
     "metadata": {},
     "output_type": "execute_result"
    },
    {
     "data": {
      "image/png": "[encoded data removed]",
      "text/plain": [
       "<matplotlib.figure.Figure at 0x1a2ab1c5f8>"
      ]
     },
     "metadata": {},
     "output_type": "display_data"
    }
   ],
   "source": [
    "x_clt = np.linspace(mu_pop - 3*sigma_clt, mu_pop+3*sigma_clt,100)\n",
    "y_clt = stats.norm.pdf(x_clt, mu_pop, sigma_clt)\n",
    "\n",
    "means.hist(bins = 40, density = True)\n",
    "plt.plot(x,y)\n",
    "plt.plot(x_clt,y_clt)\n",
    "plt.title(\"Sampling distribution of the sample mean trip distance\")\n",
    "plt.xlabel(\"Sample mean trip distance (miles)\")\n",
    "plt.ylabel(\"Density\")"
   ]
  },
  {
   "cell_type": "markdown",
   "metadata": {},
   "source": [
    "The normal distribution predicted by the Central Limit Theorem is extremely close to the normal distribution fitted to the sample means.  It is shifted to the left very slightly, but appears to have the same standard deviation.\n",
    "\n",
    "### Question 6\n",
    "a. Compute the 95% confidence interval for the mean trip distance for trips with only 1 passenger.\n",
    "\n",
    "b. Compute the 95% confidence interval for the mean trip distance for trips with only 2 passengers.\n",
    "\n",
    "c.  Can we conclude that the mean trip distance is different when there is 1 passenger compared to when there are 2 passengers?  Why or why not?\n",
    "\n",
    "#### 6a"
   ]
  },
  {
   "cell_type": "code",
   "execution_count": 178,
   "metadata": {},
   "outputs": [
    {
     "data": {
      "text/plain": [
       "(17720, 19)"
      ]
     },
     "execution_count": 178,
     "metadata": {},
     "output_type": "execute_result"
    }
   ],
   "source": [
    "# Create a new dataset with only trips with 1 passenger.\n",
    "taxi_1pass = taxi[taxi[\"passenger_count\"] == 1]\n",
    "taxi_1pass.shape"
   ]
  },
  {
   "cell_type": "code",
   "execution_count": 179,
   "metadata": {
    "collapsed": true
   },
   "outputs": [],
   "source": [
    "# create an empty list\n",
    "sample_means_1pass = []\n",
    "# loop to create 500 samples\n",
    "for i in range(500):\n",
    "    # sample once from the trip distance column with replacement\n",
    "    sample = taxi_1pass[\"trip_distance\"].sample(17720, replace = True)\n",
    "    # compute the mean of the new sample\n",
    "    sample_mean = sample.mean()\n",
    "    # add the mean to the list\n",
    "    sample_means_1pass.append(sample_mean)"
   ]
  },
  {
   "cell_type": "code",
   "execution_count": 180,
   "metadata": {},
   "outputs": [
    {
     "data": {
      "text/plain": [
       "3.3801737866817154"
      ]
     },
     "execution_count": 180,
     "metadata": {},
     "output_type": "execute_result"
    }
   ],
   "source": [
    "# compute the bottom number of the 95% confidence interval\n",
    "pd.Series(sample_means_1pass).quantile(0.025)"
   ]
  },
  {
   "cell_type": "code",
   "execution_count": 183,
   "metadata": {},
   "outputs": [
    {
     "data": {
      "text/plain": [
       "3.506344328442438"
      ]
     },
     "execution_count": 183,
     "metadata": {},
     "output_type": "execute_result"
    }
   ],
   "source": [
    "# compute the top number of the 95% confidence interval\n",
    "pd.Series(sample_means_1pass).quantile(0.975)"
   ]
  },
  {
   "cell_type": "markdown",
   "metadata": {},
   "source": [
    "The 95% confidence interval for the mean trip distance for trips with only 1 passenger is approximately [3.4, 3.5].\n",
    "\n",
    "#### 6b"
   ]
  },
  {
   "cell_type": "code",
   "execution_count": 184,
   "metadata": {},
   "outputs": [
    {
     "data": {
      "text/plain": [
       "(1498, 19)"
      ]
     },
     "execution_count": 184,
     "metadata": {},
     "output_type": "execute_result"
    }
   ],
   "source": [
    "# Create a new dataset with only trips with 2 passengers.\n",
    "taxi_2pass = taxi[taxi[\"passenger_count\"] == 2]\n",
    "taxi_2pass.shape"
   ]
  },
  {
   "cell_type": "code",
   "execution_count": 185,
   "metadata": {
    "collapsed": true
   },
   "outputs": [],
   "source": [
    "# create an empty list\n",
    "sample_means_2pass = []\n",
    "# loop to create 500 samples\n",
    "for i in range(500):\n",
    "    # sample once from the trip distance column with replacement\n",
    "    sample = taxi_2pass[\"trip_distance\"].sample(1498, replace = True)\n",
    "    # compute the mean of the new sample\n",
    "    sample_mean = sample.mean()\n",
    "    # add the mean to the list\n",
    "    sample_means_2pass.append(sample_mean)"
   ]
  },
  {
   "cell_type": "code",
   "execution_count": 186,
   "metadata": {},
   "outputs": [
    {
     "data": {
      "text/plain": [
       "3.1356323431241675"
      ]
     },
     "execution_count": 186,
     "metadata": {},
     "output_type": "execute_result"
    }
   ],
   "source": [
    "# compute the bottom number of the 95% confidence interval\n",
    "pd.Series(sample_means_2pass).quantile(0.025)"
   ]
  },
  {
   "cell_type": "code",
   "execution_count": 187,
   "metadata": {},
   "outputs": [
    {
     "data": {
      "text/plain": [
       "3.5244826435246965"
      ]
     },
     "execution_count": 187,
     "metadata": {},
     "output_type": "execute_result"
    }
   ],
   "source": [
    "# compute the top number of the 95% confidence interval\n",
    "pd.Series(sample_means_2pass).quantile(0.975)"
   ]
  },
  {
   "cell_type": "markdown",
   "metadata": {},
   "source": [
    "The 95% confidence interval for the mean trip distance for trips with exactly 2 passengers is approximately [3.1, 3.5].  \n",
    "#### 6c\n",
    "The 95% confidence interval for the mean trip distance for 2 passengers actually contains the 95% confidence interval for the mena trip distance for 1 passenger, so we cannot conclude the two means are different."
   ]
  }
 ],
 "metadata": {
  "kernelspec": {
   "display_name": "Python 3",
   "language": "python",
   "name": "python3"
  },
  "language_info": {
   "codemirror_mode": {
    "name": "ipython",
    "version": 3
   },
   "file_extension": ".py",
   "mimetype": "text/x-python",
   "name": "python",
   "nbconvert_exporter": "python",
   "pygments_lexer": "ipython3",
   "version": "3.7.3"
  }
 },
 "nbformat": 4,
 "nbformat_minor": 2
}
