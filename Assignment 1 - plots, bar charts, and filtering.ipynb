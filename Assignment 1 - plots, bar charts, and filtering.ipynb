{
 "cells": [
  {
   "cell_type": "markdown",
   "metadata": {},
   "source": [
    "# Assignment 1: plots, bar charts, and filtering\n",
    "\n",
    "This assignment uses a dataset of all NYC restaurant inspection results from Jan. 1, 2019 - Aug. 30, 2019.  Download the file from Blackboard.  The original, unfiltered dataset is at [https://data.cityofnewyork.us/Health/DOHMH-New-York-City-Restaurant-Inspection-Results/43nn-pn8j](https://data.cityofnewyork.us/Health/DOHMH-New-York-City-Restaurant-Inspection-Results/43nn-pn8j).\n",
    "\n",
    "Information about how restaurants are inspected and graded in NYC is here: https://www1.nyc.gov/assets/doh/downloads/pdf/rii/how-we-score-grade.pdf(https://www1.nyc.gov/assets/doh/downloads/pdf/rii/how-we-score-grade.pdf)\n",
    "\n",
    "There are a lot of columns in this dataset.  To show them all when displaying the dataset, use the following code beforehand (once per notebook):\n",
    "`pd.set_option('display.max_columns', None)`\n",
    "\n",
    "All plots should have an appropriate title and axes labels.\n",
    "\n",
    "1.  Plot a histogram to visualize the distribution of the inspection scores.  You should experiment with the number of bins to find a visualization that shows all major features of the distribution.  What do you notice about the distribution, and how do you think that fits with how restaurants are inspected?\n",
    "\n",
    "2.  Plot a bar chart of the distribution of boroughs.  In which boroughs are the most/least restaurant inspections?\n",
    "\n",
    "3.  Find the mean score for inspections made in January and the mean score for inspections made in July.  From these computations, does the mean score seem to depend on the month?  Why do you think this might be?\n",
    "\n",
    "4.  Make a bar chart of the top 15 cuisine types in the dataset.\n",
    "\n",
    "5.  How many different cuisine types are there in the dataset?  And what is the most common street?"
   ]
  },
  {
   "cell_type": "markdown",
   "metadata": {},
   "source": [
    "# Edward Biswas"
   ]
  },
  {
   "cell_type": "code",
   "execution_count": 2,
   "metadata": {},
   "outputs": [],
   "source": [
    "import matplotlib\n",
    "import matplotlib.pyplot as plt\n",
    "import pandas as pd\n",
    "import seaborn as sns\n",
    "%matplotlib inline\n",
    "\n",
    "pd.set_option('display.max_columns', None)"
   ]
  },
  {
   "cell_type": "code",
   "execution_count": 3,
   "metadata": {},
   "outputs": [],
   "source": [
    "restaurants = pd.read_csv('DOHMH_New_York_City_Restaurant_Inspection_Results.csv')"
   ]
  },
  {
   "cell_type": "code",
   "execution_count": 4,
   "metadata": {},
   "outputs": [
    {
     "data": {
      "text/plain": [
       "CAMIS                      int64\n",
       "DBA                       object\n",
       "BORO                      object\n",
       "BUILDING                  object\n",
       "STREET                    object\n",
       "ZIPCODE                  float64\n",
       "PHONE                     object\n",
       "CUISINE DESCRIPTION       object\n",
       "INSPECTION DATE           object\n",
       "ACTION                    object\n",
       "VIOLATION CODE            object\n",
       "VIOLATION DESCRIPTION     object\n",
       "CRITICAL FLAG             object\n",
       "SCORE                    float64\n",
       "GRADE                     object\n",
       "GRADE DATE                object\n",
       "RECORD DATE               object\n",
       "INSPECTION TYPE           object\n",
       "Latitude                 float64\n",
       "Longitude                float64\n",
       "Community Board          float64\n",
       "Council District         float64\n",
       "Census Tract             float64\n",
       "BIN                      float64\n",
       "BBL                      float64\n",
       "NTA                       object\n",
       "dtype: object"
      ]
     },
     "execution_count": 4,
     "metadata": {},
     "output_type": "execute_result"
    }
   ],
   "source": [
    "restaurants.dtypes"
   ]
  },
  {
   "cell_type": "code",
   "execution_count": 5,
   "metadata": {},
   "outputs": [
    {
     "data": {
      "text/html": [
       "<div>\n",
       "<style scoped>\n",
       "    .dataframe tbody tr th:only-of-type {\n",
       "        vertical-align: middle;\n",
       "    }\n",
       "\n",
       "    .dataframe tbody tr th {\n",
       "        vertical-align: top;\n",
       "    }\n",
       "\n",
       "    .dataframe thead th {\n",
       "        text-align: right;\n",
       "    }\n",
       "</style>\n",
       "<table border=\"1\" class=\"dataframe\">\n",
       "  <thead>\n",
       "    <tr style=\"text-align: right;\">\n",
       "      <th></th>\n",
       "      <th>CAMIS</th>\n",
       "      <th>DBA</th>\n",
       "      <th>BORO</th>\n",
       "      <th>BUILDING</th>\n",
       "      <th>STREET</th>\n",
       "      <th>ZIPCODE</th>\n",
       "      <th>PHONE</th>\n",
       "      <th>CUISINE DESCRIPTION</th>\n",
       "      <th>INSPECTION DATE</th>\n",
       "      <th>ACTION</th>\n",
       "      <th>VIOLATION CODE</th>\n",
       "      <th>VIOLATION DESCRIPTION</th>\n",
       "      <th>CRITICAL FLAG</th>\n",
       "      <th>SCORE</th>\n",
       "      <th>GRADE</th>\n",
       "      <th>GRADE DATE</th>\n",
       "      <th>RECORD DATE</th>\n",
       "      <th>INSPECTION TYPE</th>\n",
       "      <th>Latitude</th>\n",
       "      <th>Longitude</th>\n",
       "      <th>Community Board</th>\n",
       "      <th>Council District</th>\n",
       "      <th>Census Tract</th>\n",
       "      <th>BIN</th>\n",
       "      <th>BBL</th>\n",
       "      <th>NTA</th>\n",
       "    </tr>\n",
       "  </thead>\n",
       "  <tbody>\n",
       "    <tr>\n",
       "      <th>0</th>\n",
       "      <td>50074557</td>\n",
       "      <td>FISH VILLAGE</td>\n",
       "      <td>Queens</td>\n",
       "      <td>2007</td>\n",
       "      <td>127TH ST</td>\n",
       "      <td>11356.0</td>\n",
       "      <td>6468307299</td>\n",
       "      <td>Chinese</td>\n",
       "      <td>01/02/2019</td>\n",
       "      <td>Violations were cited in the following area(s).</td>\n",
       "      <td>08C</td>\n",
       "      <td>Pesticide use not in accordance with label or ...</td>\n",
       "      <td>N</td>\n",
       "      <td>22.0</td>\n",
       "      <td>NaN</td>\n",
       "      <td>NaN</td>\n",
       "      <td>08/30/2019</td>\n",
       "      <td>Cycle Inspection / Initial Inspection</td>\n",
       "      <td>40.781449</td>\n",
       "      <td>-73.841413</td>\n",
       "      <td>407.0</td>\n",
       "      <td>19.0</td>\n",
       "      <td>91900.0</td>\n",
       "      <td>4099328.0</td>\n",
       "      <td>4.041720e+09</td>\n",
       "      <td>QN23</td>\n",
       "    </tr>\n",
       "    <tr>\n",
       "      <th>1</th>\n",
       "      <td>50086382</td>\n",
       "      <td>IL POSTO</td>\n",
       "      <td>Brooklyn</td>\n",
       "      <td>7409</td>\n",
       "      <td>AVENUE U</td>\n",
       "      <td>11234.0</td>\n",
       "      <td>7182414317</td>\n",
       "      <td>Italian</td>\n",
       "      <td>01/02/2019</td>\n",
       "      <td>Violations were cited in the following area(s).</td>\n",
       "      <td>08A</td>\n",
       "      <td>Facility not vermin proof. Harborage or condit...</td>\n",
       "      <td>N</td>\n",
       "      <td>29.0</td>\n",
       "      <td>NaN</td>\n",
       "      <td>NaN</td>\n",
       "      <td>08/30/2019</td>\n",
       "      <td>Pre-permit (Operational) / Initial Inspection</td>\n",
       "      <td>40.621321</td>\n",
       "      <td>-73.905154</td>\n",
       "      <td>318.0</td>\n",
       "      <td>46.0</td>\n",
       "      <td>69602.0</td>\n",
       "      <td>3237484.0</td>\n",
       "      <td>3.084150e+09</td>\n",
       "      <td>BK45</td>\n",
       "    </tr>\n",
       "    <tr>\n",
       "      <th>2</th>\n",
       "      <td>41258823</td>\n",
       "      <td>LITTLE CAESARS</td>\n",
       "      <td>Bronx</td>\n",
       "      <td>1888</td>\n",
       "      <td>WESTCHESTER AVENUE</td>\n",
       "      <td>10472.0</td>\n",
       "      <td>3476571722</td>\n",
       "      <td>Pizza</td>\n",
       "      <td>01/02/2019</td>\n",
       "      <td>Violations were cited in the following area(s).</td>\n",
       "      <td>10F</td>\n",
       "      <td>Non-food contact surface improperly constructe...</td>\n",
       "      <td>N</td>\n",
       "      <td>4.0</td>\n",
       "      <td>A</td>\n",
       "      <td>01/02/2019</td>\n",
       "      <td>08/30/2019</td>\n",
       "      <td>Cycle Inspection / Re-inspection</td>\n",
       "      <td>40.832928</td>\n",
       "      <td>-73.861964</td>\n",
       "      <td>209.0</td>\n",
       "      <td>18.0</td>\n",
       "      <td>7200.0</td>\n",
       "      <td>NaN</td>\n",
       "      <td>2.000000e+00</td>\n",
       "      <td>BX55</td>\n",
       "    </tr>\n",
       "    <tr>\n",
       "      <th>3</th>\n",
       "      <td>50002053</td>\n",
       "      <td>THE LOCAL</td>\n",
       "      <td>Queens</td>\n",
       "      <td>13-02</td>\n",
       "      <td>44TH AVENUE</td>\n",
       "      <td>11101.0</td>\n",
       "      <td>3477385251</td>\n",
       "      <td>American</td>\n",
       "      <td>01/02/2019</td>\n",
       "      <td>Violations were cited in the following area(s).</td>\n",
       "      <td>06D</td>\n",
       "      <td>Food contact surface not properly washed, rins...</td>\n",
       "      <td>Y</td>\n",
       "      <td>7.0</td>\n",
       "      <td>A</td>\n",
       "      <td>01/02/2019</td>\n",
       "      <td>08/30/2019</td>\n",
       "      <td>Cycle Inspection / Initial Inspection</td>\n",
       "      <td>40.749644</td>\n",
       "      <td>-73.947487</td>\n",
       "      <td>402.0</td>\n",
       "      <td>26.0</td>\n",
       "      <td>1900.0</td>\n",
       "      <td>4005221.0</td>\n",
       "      <td>4.004460e+09</td>\n",
       "      <td>QN31</td>\n",
       "    </tr>\n",
       "    <tr>\n",
       "      <th>4</th>\n",
       "      <td>50055374</td>\n",
       "      <td>FLORA BAR</td>\n",
       "      <td>Manhattan</td>\n",
       "      <td>945</td>\n",
       "      <td>MADISON AVE</td>\n",
       "      <td>10021.0</td>\n",
       "      <td>6317038780</td>\n",
       "      <td>American</td>\n",
       "      <td>01/02/2019</td>\n",
       "      <td>Violations were cited in the following area(s).</td>\n",
       "      <td>04N</td>\n",
       "      <td>Filth flies or food/refuse/sewage-associated (...</td>\n",
       "      <td>Y</td>\n",
       "      <td>11.0</td>\n",
       "      <td>A</td>\n",
       "      <td>01/02/2019</td>\n",
       "      <td>08/30/2019</td>\n",
       "      <td>Cycle Inspection / Re-inspection</td>\n",
       "      <td>40.773450</td>\n",
       "      <td>-73.964199</td>\n",
       "      <td>108.0</td>\n",
       "      <td>4.0</td>\n",
       "      <td>13000.0</td>\n",
       "      <td>1041666.0</td>\n",
       "      <td>1.013890e+09</td>\n",
       "      <td>MN40</td>\n",
       "    </tr>\n",
       "  </tbody>\n",
       "</table>\n",
       "</div>"
      ],
      "text/plain": [
       "      CAMIS             DBA       BORO BUILDING              STREET  ZIPCODE  \\\n",
       "0  50074557    FISH VILLAGE     Queens     2007            127TH ST  11356.0   \n",
       "1  50086382        IL POSTO   Brooklyn     7409            AVENUE U  11234.0   \n",
       "2  41258823  LITTLE CAESARS      Bronx     1888  WESTCHESTER AVENUE  10472.0   \n",
       "3  50002053       THE LOCAL     Queens    13-02         44TH AVENUE  11101.0   \n",
       "4  50055374       FLORA BAR  Manhattan      945         MADISON AVE  10021.0   \n",
       "\n",
       "        PHONE CUISINE DESCRIPTION INSPECTION DATE  \\\n",
       "0  6468307299             Chinese      01/02/2019   \n",
       "1  7182414317             Italian      01/02/2019   \n",
       "2  3476571722               Pizza      01/02/2019   \n",
       "3  3477385251            American      01/02/2019   \n",
       "4  6317038780            American      01/02/2019   \n",
       "\n",
       "                                            ACTION VIOLATION CODE  \\\n",
       "0  Violations were cited in the following area(s).            08C   \n",
       "1  Violations were cited in the following area(s).            08A   \n",
       "2  Violations were cited in the following area(s).            10F   \n",
       "3  Violations were cited in the following area(s).            06D   \n",
       "4  Violations were cited in the following area(s).            04N   \n",
       "\n",
       "                               VIOLATION DESCRIPTION CRITICAL FLAG  SCORE  \\\n",
       "0  Pesticide use not in accordance with label or ...             N   22.0   \n",
       "1  Facility not vermin proof. Harborage or condit...             N   29.0   \n",
       "2  Non-food contact surface improperly constructe...             N    4.0   \n",
       "3  Food contact surface not properly washed, rins...             Y    7.0   \n",
       "4  Filth flies or food/refuse/sewage-associated (...             Y   11.0   \n",
       "\n",
       "  GRADE  GRADE DATE RECORD DATE  \\\n",
       "0   NaN         NaN  08/30/2019   \n",
       "1   NaN         NaN  08/30/2019   \n",
       "2     A  01/02/2019  08/30/2019   \n",
       "3     A  01/02/2019  08/30/2019   \n",
       "4     A  01/02/2019  08/30/2019   \n",
       "\n",
       "                                 INSPECTION TYPE   Latitude  Longitude  \\\n",
       "0          Cycle Inspection / Initial Inspection  40.781449 -73.841413   \n",
       "1  Pre-permit (Operational) / Initial Inspection  40.621321 -73.905154   \n",
       "2               Cycle Inspection / Re-inspection  40.832928 -73.861964   \n",
       "3          Cycle Inspection / Initial Inspection  40.749644 -73.947487   \n",
       "4               Cycle Inspection / Re-inspection  40.773450 -73.964199   \n",
       "\n",
       "   Community Board  Council District  Census Tract        BIN           BBL  \\\n",
       "0            407.0              19.0       91900.0  4099328.0  4.041720e+09   \n",
       "1            318.0              46.0       69602.0  3237484.0  3.084150e+09   \n",
       "2            209.0              18.0        7200.0        NaN  2.000000e+00   \n",
       "3            402.0              26.0        1900.0  4005221.0  4.004460e+09   \n",
       "4            108.0               4.0       13000.0  1041666.0  1.013890e+09   \n",
       "\n",
       "    NTA  \n",
       "0  QN23  \n",
       "1  BK45  \n",
       "2  BX55  \n",
       "3  QN31  \n",
       "4  MN40  "
      ]
     },
     "execution_count": 5,
     "metadata": {},
     "output_type": "execute_result"
    }
   ],
   "source": [
    "restaurants.head()"
   ]
  },
  {
   "cell_type": "markdown",
   "metadata": {},
   "source": [
    "Plot a histogram to visualize the distribution of the inspection scores."
   ]
  },
  {
   "cell_type": "code",
   "execution_count": 6,
   "metadata": {},
   "outputs": [
    {
     "data": {
      "text/plain": [
       "<matplotlib.axes._subplots.AxesSubplot at 0x10f1db7b8>"
      ]
     },
     "execution_count": 6,
     "metadata": {},
     "output_type": "execute_result"
    },
    {
     "data": {
      "image/png": "[encoded data removed]",
      "text/plain": [
       "<Figure size 432x288 with 1 Axes>"
      ]
     },
     "metadata": {
      "needs_background": "light"
     },
     "output_type": "display_data"
    }
   ],
   "source": [
    "restaurants['SCORE'].hist()"
   ]
  },
  {
   "cell_type": "markdown",
   "metadata": {},
   "source": [
    "You should experiment with the number of bins to find a visualization that shows all major features of the distribution."
   ]
  },
  {
   "cell_type": "code",
   "execution_count": 9,
   "metadata": {},
   "outputs": [
    {
     "data": {
      "text/plain": [
       "Text(0, 0.5, '# of restaurants')"
      ]
     },
     "execution_count": 9,
     "metadata": {},
     "output_type": "execute_result"
    },
    {
     "data": {
      "image/png": "[encoded data removed]",
      "text/plain": [
       "<Figure size 432x288 with 1 Axes>"
      ]
     },
     "metadata": {
      "needs_background": "light"
     },
     "output_type": "display_data"
    }
   ],
   "source": [
    "restaurants['SCORE'].hist(bins=30)\n",
    "plt.title(\"Distribution of restaurant inspection scores\")\n",
    "plt.xlabel(\"Score\")\n",
    "plt.ylabel(\"# of restaurants\")"
   ]
  },
  {
   "cell_type": "markdown",
   "metadata": {},
   "source": [
    "What do you notice about the distribution, and how do you think that fits with how restaurants are inspected?"
   ]
  },
  {
   "cell_type": "markdown",
   "metadata": {},
   "source": [
    "* The distribution shows majority of restaruants in NYC earned less than 50 on their inspected score. Restaruants with lower score recieve higher letter Grade, which means those restaruants meet the NYC health inspection requirements."
   ]
  },
  {
   "cell_type": "markdown",
   "metadata": {},
   "source": [
    "Plot a bar chart of the distribution of boroughs."
   ]
  },
  {
   "cell_type": "code",
   "execution_count": 10,
   "metadata": {},
   "outputs": [
    {
     "data": {
      "text/html": [
       "<div>\n",
       "<style scoped>\n",
       "    .dataframe tbody tr th:only-of-type {\n",
       "        vertical-align: middle;\n",
       "    }\n",
       "\n",
       "    .dataframe tbody tr th {\n",
       "        vertical-align: top;\n",
       "    }\n",
       "\n",
       "    .dataframe thead th {\n",
       "        text-align: right;\n",
       "    }\n",
       "</style>\n",
       "<table border=\"1\" class=\"dataframe\">\n",
       "  <thead>\n",
       "    <tr style=\"text-align: right;\">\n",
       "      <th></th>\n",
       "      <th>DBA</th>\n",
       "      <th>BORO</th>\n",
       "      <th>BUILDING</th>\n",
       "      <th>STREET</th>\n",
       "      <th>PHONE</th>\n",
       "      <th>CUISINE DESCRIPTION</th>\n",
       "      <th>INSPECTION DATE</th>\n",
       "      <th>ACTION</th>\n",
       "      <th>VIOLATION CODE</th>\n",
       "      <th>VIOLATION DESCRIPTION</th>\n",
       "      <th>CRITICAL FLAG</th>\n",
       "      <th>GRADE</th>\n",
       "      <th>GRADE DATE</th>\n",
       "      <th>RECORD DATE</th>\n",
       "      <th>INSPECTION TYPE</th>\n",
       "      <th>NTA</th>\n",
       "    </tr>\n",
       "  </thead>\n",
       "  <tbody>\n",
       "    <tr>\n",
       "      <th>count</th>\n",
       "      <td>110364</td>\n",
       "      <td>110364</td>\n",
       "      <td>110315</td>\n",
       "      <td>110364</td>\n",
       "      <td>110363</td>\n",
       "      <td>110364</td>\n",
       "      <td>110364</td>\n",
       "      <td>110364</td>\n",
       "      <td>109465</td>\n",
       "      <td>107996</td>\n",
       "      <td>107996</td>\n",
       "      <td>57134</td>\n",
       "      <td>55214</td>\n",
       "      <td>110364</td>\n",
       "      <td>110364</td>\n",
       "      <td>108816</td>\n",
       "    </tr>\n",
       "    <tr>\n",
       "      <th>unique</th>\n",
       "      <td>17130</td>\n",
       "      <td>6</td>\n",
       "      <td>6498</td>\n",
       "      <td>2927</td>\n",
       "      <td>20042</td>\n",
       "      <td>84</td>\n",
       "      <td>215</td>\n",
       "      <td>5</td>\n",
       "      <td>91</td>\n",
       "      <td>79</td>\n",
       "      <td>2</td>\n",
       "      <td>6</td>\n",
       "      <td>209</td>\n",
       "      <td>1</td>\n",
       "      <td>27</td>\n",
       "      <td>193</td>\n",
       "    </tr>\n",
       "    <tr>\n",
       "      <th>top</th>\n",
       "      <td>DUNKIN'</td>\n",
       "      <td>Manhattan</td>\n",
       "      <td>1</td>\n",
       "      <td>BROADWAY</td>\n",
       "      <td>9177437388</td>\n",
       "      <td>American</td>\n",
       "      <td>06/27/2019</td>\n",
       "      <td>Violations were cited in the following area(s).</td>\n",
       "      <td>10F</td>\n",
       "      <td>Non-food contact surface improperly constructe...</td>\n",
       "      <td>Y</td>\n",
       "      <td>A</td>\n",
       "      <td>06/13/2019</td>\n",
       "      <td>08/30/2019</td>\n",
       "      <td>Cycle Inspection / Initial Inspection</td>\n",
       "      <td>MN17</td>\n",
       "    </tr>\n",
       "    <tr>\n",
       "      <th>freq</th>\n",
       "      <td>923</td>\n",
       "      <td>41873</td>\n",
       "      <td>611</td>\n",
       "      <td>3805</td>\n",
       "      <td>86</td>\n",
       "      <td>21688</td>\n",
       "      <td>907</td>\n",
       "      <td>103692</td>\n",
       "      <td>15724</td>\n",
       "      <td>15724</td>\n",
       "      <td>60494</td>\n",
       "      <td>41662</td>\n",
       "      <td>537</td>\n",
       "      <td>110364</td>\n",
       "      <td>64829</td>\n",
       "      <td>6063</td>\n",
       "    </tr>\n",
       "  </tbody>\n",
       "</table>\n",
       "</div>"
      ],
      "text/plain": [
       "            DBA       BORO BUILDING    STREET       PHONE CUISINE DESCRIPTION  \\\n",
       "count    110364     110364   110315    110364      110363              110364   \n",
       "unique    17130          6     6498      2927       20042                  84   \n",
       "top     DUNKIN'  Manhattan        1  BROADWAY  9177437388            American   \n",
       "freq        923      41873      611      3805          86               21688   \n",
       "\n",
       "       INSPECTION DATE                                           ACTION  \\\n",
       "count           110364                                           110364   \n",
       "unique             215                                                5   \n",
       "top         06/27/2019  Violations were cited in the following area(s).   \n",
       "freq               907                                           103692   \n",
       "\n",
       "       VIOLATION CODE                              VIOLATION DESCRIPTION  \\\n",
       "count          109465                                             107996   \n",
       "unique             91                                                 79   \n",
       "top               10F  Non-food contact surface improperly constructe...   \n",
       "freq            15724                                              15724   \n",
       "\n",
       "       CRITICAL FLAG  GRADE  GRADE DATE RECORD DATE  \\\n",
       "count         107996  57134       55214      110364   \n",
       "unique             2      6         209           1   \n",
       "top                Y      A  06/13/2019  08/30/2019   \n",
       "freq           60494  41662         537      110364   \n",
       "\n",
       "                              INSPECTION TYPE     NTA  \n",
       "count                                  110364  108816  \n",
       "unique                                     27     193  \n",
       "top     Cycle Inspection / Initial Inspection    MN17  \n",
       "freq                                    64829    6063  "
      ]
     },
     "execution_count": 10,
     "metadata": {},
     "output_type": "execute_result"
    }
   ],
   "source": [
    "restaurants.describe(include = [\"O\"])"
   ]
  },
  {
   "cell_type": "code",
   "execution_count": 12,
   "metadata": {},
   "outputs": [
    {
     "data": {
      "text/plain": [
       "Manhattan        41873\n",
       "Brooklyn         28542\n",
       "Queens           26216\n",
       "Bronx            10291\n",
       "Staten Island     3430\n",
       "0                   12\n",
       "Name: BORO, dtype: int64"
      ]
     },
     "execution_count": 12,
     "metadata": {},
     "output_type": "execute_result"
    }
   ],
   "source": [
    "borough_counts = restaurants['BORO'].value_counts()\n",
    "borough_counts"
   ]
  },
  {
   "cell_type": "code",
   "execution_count": 13,
   "metadata": {},
   "outputs": [
    {
     "data": {
      "text/plain": [
       "Text(0, 0.5, '# of inspections')"
      ]
     },
     "execution_count": 13,
     "metadata": {},
     "output_type": "execute_result"
    },
    {
     "data": {
      "image/png": "[encoded data removed]",
      "text/plain": [
       "<Figure size 432x288 with 1 Axes>"
      ]
     },
     "metadata": {
      "needs_background": "light"
     },
     "output_type": "display_data"
    }
   ],
   "source": [
    "borough_counts.plot.bar()\n",
    "plt.title(\"Borough restaurant inspections\")\n",
    "plt.xlabel(\"Borough\")\n",
    "plt.ylabel(\"# of inspections\")"
   ]
  },
  {
   "cell_type": "markdown",
   "metadata": {},
   "source": [
    " In which boroughs are the most/least restaurant inspections?"
   ]
  },
  {
   "cell_type": "markdown",
   "metadata": {},
   "source": [
    "* Most: Manhattan, Lest: Staten Island"
   ]
  },
  {
   "cell_type": "markdown",
   "metadata": {},
   "source": [
    "Find the mean score for inspections made in January and the mean score for inspections made in July."
   ]
  },
  {
   "cell_type": "code",
   "execution_count": 14,
   "metadata": {},
   "outputs": [],
   "source": [
    "restaurants['INSPECTION DATE'] = pd.to_datetime(restaurants['INSPECTION DATE'])"
   ]
  },
  {
   "cell_type": "code",
   "execution_count": 15,
   "metadata": {},
   "outputs": [],
   "source": [
    "jan_filter = restaurants['INSPECTION DATE'].dt.month == 1\n",
    "jul_filter = restaurants['INSPECTION DATE'].dt.month == 7"
   ]
  },
  {
   "cell_type": "code",
   "execution_count": 16,
   "metadata": {},
   "outputs": [
    {
     "data": {
      "text/plain": [
       "20.332909899283187"
      ]
     },
     "execution_count": 16,
     "metadata": {},
     "output_type": "execute_result"
    }
   ],
   "source": [
    "restaurants[jan_filter]['SCORE'].mean()"
   ]
  },
  {
   "cell_type": "code",
   "execution_count": 17,
   "metadata": {},
   "outputs": [
    {
     "data": {
      "text/plain": [
       "26.203096228602604"
      ]
     },
     "execution_count": 17,
     "metadata": {},
     "output_type": "execute_result"
    }
   ],
   "source": [
    "restaurants[jul_filter]['SCORE'].mean()"
   ]
  },
  {
   "cell_type": "markdown",
   "metadata": {},
   "source": [
    "From these computations, does the mean score seem to depend on the month? Why do you think this might be?"
   ]
  },
  {
   "cell_type": "markdown",
   "metadata": {},
   "source": [
    "* Yes, because during the summer time restaurants are seems to be more busy and unorganized, which can cause them to be less cleaner than winter."
   ]
  },
  {
   "cell_type": "markdown",
   "metadata": {},
   "source": [
    "Make a bar chart of the top 15 cuisine types in the dataset."
   ]
  },
  {
   "cell_type": "code",
   "execution_count": 19,
   "metadata": {},
   "outputs": [
    {
     "data": {
      "text/plain": [
       "Text(0, 0.5, '# of inspections')"
      ]
     },
     "execution_count": 19,
     "metadata": {},
     "output_type": "execute_result"
    },
    {
     "data": {
      "image/png": "[encoded data removed]",
      "text/plain": [
       "<Figure size 432x288 with 1 Axes>"
      ]
     },
     "metadata": {
      "needs_background": "light"
     },
     "output_type": "display_data"
    }
   ],
   "source": [
    "cuisine_counts = restaurants['CUISINE DESCRIPTION'].value_counts()\n",
    "cuisine_counts.head(15).plot.bar()\n",
    "plt.title(\"Top 15 inspected cuisines\")\n",
    "plt.xlabel(\"Cuisine\")\n",
    "plt.ylabel(\"# of inspections\")"
   ]
  },
  {
   "cell_type": "markdown",
   "metadata": {},
   "source": [
    "How many different cuisine types are there in the dataset?"
   ]
  },
  {
   "cell_type": "code",
   "execution_count": 74,
   "metadata": {},
   "outputs": [
    {
     "data": {
      "text/plain": [
       "84"
      ]
     },
     "execution_count": 74,
     "metadata": {},
     "output_type": "execute_result"
    }
   ],
   "source": [
    "len(cuisine_counts)"
   ]
  },
  {
   "cell_type": "markdown",
   "metadata": {},
   "source": [
    "What is the most common street?"
   ]
  },
  {
   "cell_type": "code",
   "execution_count": 85,
   "metadata": {},
   "outputs": [
    {
     "data": {
      "text/plain": [
       "BROADWAY    3805\n",
       "Name: STREET, dtype: int64"
      ]
     },
     "execution_count": 85,
     "metadata": {},
     "output_type": "execute_result"
    }
   ],
   "source": [
    "street_counts = restaurants['STREET'].value_counts()\n",
    "street_counts.head(1)"
   ]
  }
 ],
 "metadata": {
  "kernelspec": {
   "display_name": "Python 3",
   "language": "python",
   "name": "python3"
  },
  "language_info": {
   "codemirror_mode": {
    "name": "ipython",
    "version": 3
   },
   "file_extension": ".py",
   "mimetype": "text/x-python",
   "name": "python",
   "nbconvert_exporter": "python",
   "pygments_lexer": "ipython3",
   "version": "3.7.3"
  }
 },
 "nbformat": 4,
 "nbformat_minor": 2
}
