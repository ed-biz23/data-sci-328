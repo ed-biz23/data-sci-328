{
 "cells": [
  {
   "cell_type": "markdown",
   "metadata": {},
   "source": [
    "# Lab 5 - Non-parametric distributions and bootstrap\n",
    "\n",
    "Last lab we looked at parametric distributions like the normal distribution and exponential distribution.  Parametric distributions can be described by a (mathematical) function and their exact shape is determined by parameters (mean and standard deviation for the normal distribution; the rate $\\lambda$ for the exponential distribution).\n",
    "\n",
    "Today we will look at *non-parametric distributions* which either cannot be described by a mathematical function or the exact mathematical function is unknown.\n",
    "\n",
    "We will start with the restaurant inspection data from Assignment 1."
   ]
  },
  {
   "cell_type": "code",
   "execution_count": 1,
   "metadata": {},
   "outputs": [],
   "source": [
    "import matplotlib.pyplot as plt\n",
    "import pandas as pd\n",
    "\n",
    "%matplotlib inline\n",
    "\n",
    "# show all columns\n",
    "pd.set_option('display.max_columns', None)"
   ]
  },
  {
   "cell_type": "markdown",
   "metadata": {},
   "source": [
    "Create a dataframe with the restaurant inspection data, remembering to make the type of the inspection date column datetime."
   ]
  },
  {
   "cell_type": "code",
   "execution_count": 2,
   "metadata": {},
   "outputs": [],
   "source": [
    "restaurant = pd.read_csv('DOHMH_New_York_City_Restaurant_Inspection_Results.csv')"
   ]
  },
  {
   "cell_type": "code",
   "execution_count": 22,
   "metadata": {},
   "outputs": [
    {
     "data": {
      "text/html": [
       "<div>\n",
       "<style scoped>\n",
       "    .dataframe tbody tr th:only-of-type {\n",
       "        vertical-align: middle;\n",
       "    }\n",
       "\n",
       "    .dataframe tbody tr th {\n",
       "        vertical-align: top;\n",
       "    }\n",
       "\n",
       "    .dataframe thead th {\n",
       "        text-align: right;\n",
       "    }\n",
       "</style>\n",
       "<table border=\"1\" class=\"dataframe\">\n",
       "  <thead>\n",
       "    <tr style=\"text-align: right;\">\n",
       "      <th></th>\n",
       "      <th>CAMIS</th>\n",
       "      <th>DBA</th>\n",
       "      <th>BORO</th>\n",
       "      <th>BUILDING</th>\n",
       "      <th>STREET</th>\n",
       "      <th>ZIPCODE</th>\n",
       "      <th>PHONE</th>\n",
       "      <th>CUISINE DESCRIPTION</th>\n",
       "      <th>INSPECTION DATE</th>\n",
       "      <th>ACTION</th>\n",
       "      <th>VIOLATION CODE</th>\n",
       "      <th>VIOLATION DESCRIPTION</th>\n",
       "      <th>CRITICAL FLAG</th>\n",
       "      <th>SCORE</th>\n",
       "      <th>GRADE</th>\n",
       "      <th>GRADE DATE</th>\n",
       "      <th>RECORD DATE</th>\n",
       "      <th>INSPECTION TYPE</th>\n",
       "      <th>Latitude</th>\n",
       "      <th>Longitude</th>\n",
       "      <th>Community Board</th>\n",
       "      <th>Council District</th>\n",
       "      <th>Census Tract</th>\n",
       "      <th>BIN</th>\n",
       "      <th>BBL</th>\n",
       "      <th>NTA</th>\n",
       "    </tr>\n",
       "  </thead>\n",
       "  <tbody>\n",
       "    <tr>\n",
       "      <th>0</th>\n",
       "      <td>50074557</td>\n",
       "      <td>FISH VILLAGE</td>\n",
       "      <td>Queens</td>\n",
       "      <td>2007</td>\n",
       "      <td>127TH ST</td>\n",
       "      <td>11356.0</td>\n",
       "      <td>6468307299</td>\n",
       "      <td>Chinese</td>\n",
       "      <td>2019-01-02</td>\n",
       "      <td>Violations were cited in the following area(s).</td>\n",
       "      <td>08C</td>\n",
       "      <td>Pesticide use not in accordance with label or ...</td>\n",
       "      <td>N</td>\n",
       "      <td>22.0</td>\n",
       "      <td>NaN</td>\n",
       "      <td>NaN</td>\n",
       "      <td>08/30/2019</td>\n",
       "      <td>Cycle Inspection / Initial Inspection</td>\n",
       "      <td>40.781449</td>\n",
       "      <td>-73.841413</td>\n",
       "      <td>407.0</td>\n",
       "      <td>19.0</td>\n",
       "      <td>91900.0</td>\n",
       "      <td>4099328.0</td>\n",
       "      <td>4.041720e+09</td>\n",
       "      <td>QN23</td>\n",
       "    </tr>\n",
       "    <tr>\n",
       "      <th>1</th>\n",
       "      <td>50086382</td>\n",
       "      <td>IL POSTO</td>\n",
       "      <td>Brooklyn</td>\n",
       "      <td>7409</td>\n",
       "      <td>AVENUE U</td>\n",
       "      <td>11234.0</td>\n",
       "      <td>7182414317</td>\n",
       "      <td>Italian</td>\n",
       "      <td>2019-01-02</td>\n",
       "      <td>Violations were cited in the following area(s).</td>\n",
       "      <td>08A</td>\n",
       "      <td>Facility not vermin proof. Harborage or condit...</td>\n",
       "      <td>N</td>\n",
       "      <td>29.0</td>\n",
       "      <td>NaN</td>\n",
       "      <td>NaN</td>\n",
       "      <td>08/30/2019</td>\n",
       "      <td>Pre-permit (Operational) / Initial Inspection</td>\n",
       "      <td>40.621321</td>\n",
       "      <td>-73.905154</td>\n",
       "      <td>318.0</td>\n",
       "      <td>46.0</td>\n",
       "      <td>69602.0</td>\n",
       "      <td>3237484.0</td>\n",
       "      <td>3.084150e+09</td>\n",
       "      <td>BK45</td>\n",
       "    </tr>\n",
       "    <tr>\n",
       "      <th>2</th>\n",
       "      <td>41258823</td>\n",
       "      <td>LITTLE CAESARS</td>\n",
       "      <td>Bronx</td>\n",
       "      <td>1888</td>\n",
       "      <td>WESTCHESTER AVENUE</td>\n",
       "      <td>10472.0</td>\n",
       "      <td>3476571722</td>\n",
       "      <td>Pizza</td>\n",
       "      <td>2019-01-02</td>\n",
       "      <td>Violations were cited in the following area(s).</td>\n",
       "      <td>10F</td>\n",
       "      <td>Non-food contact surface improperly constructe...</td>\n",
       "      <td>N</td>\n",
       "      <td>4.0</td>\n",
       "      <td>A</td>\n",
       "      <td>01/02/2019</td>\n",
       "      <td>08/30/2019</td>\n",
       "      <td>Cycle Inspection / Re-inspection</td>\n",
       "      <td>40.832928</td>\n",
       "      <td>-73.861964</td>\n",
       "      <td>209.0</td>\n",
       "      <td>18.0</td>\n",
       "      <td>7200.0</td>\n",
       "      <td>NaN</td>\n",
       "      <td>2.000000e+00</td>\n",
       "      <td>BX55</td>\n",
       "    </tr>\n",
       "    <tr>\n",
       "      <th>3</th>\n",
       "      <td>50002053</td>\n",
       "      <td>THE LOCAL</td>\n",
       "      <td>Queens</td>\n",
       "      <td>13-02</td>\n",
       "      <td>44TH AVENUE</td>\n",
       "      <td>11101.0</td>\n",
       "      <td>3477385251</td>\n",
       "      <td>American</td>\n",
       "      <td>2019-01-02</td>\n",
       "      <td>Violations were cited in the following area(s).</td>\n",
       "      <td>06D</td>\n",
       "      <td>Food contact surface not properly washed, rins...</td>\n",
       "      <td>Y</td>\n",
       "      <td>7.0</td>\n",
       "      <td>A</td>\n",
       "      <td>01/02/2019</td>\n",
       "      <td>08/30/2019</td>\n",
       "      <td>Cycle Inspection / Initial Inspection</td>\n",
       "      <td>40.749644</td>\n",
       "      <td>-73.947487</td>\n",
       "      <td>402.0</td>\n",
       "      <td>26.0</td>\n",
       "      <td>1900.0</td>\n",
       "      <td>4005221.0</td>\n",
       "      <td>4.004460e+09</td>\n",
       "      <td>QN31</td>\n",
       "    </tr>\n",
       "    <tr>\n",
       "      <th>4</th>\n",
       "      <td>50055374</td>\n",
       "      <td>FLORA BAR</td>\n",
       "      <td>Manhattan</td>\n",
       "      <td>945</td>\n",
       "      <td>MADISON AVE</td>\n",
       "      <td>10021.0</td>\n",
       "      <td>6317038780</td>\n",
       "      <td>American</td>\n",
       "      <td>2019-01-02</td>\n",
       "      <td>Violations were cited in the following area(s).</td>\n",
       "      <td>04N</td>\n",
       "      <td>Filth flies or food/refuse/sewage-associated (...</td>\n",
       "      <td>Y</td>\n",
       "      <td>11.0</td>\n",
       "      <td>A</td>\n",
       "      <td>01/02/2019</td>\n",
       "      <td>08/30/2019</td>\n",
       "      <td>Cycle Inspection / Re-inspection</td>\n",
       "      <td>40.773450</td>\n",
       "      <td>-73.964199</td>\n",
       "      <td>108.0</td>\n",
       "      <td>4.0</td>\n",
       "      <td>13000.0</td>\n",
       "      <td>1041666.0</td>\n",
       "      <td>1.013890e+09</td>\n",
       "      <td>MN40</td>\n",
       "    </tr>\n",
       "  </tbody>\n",
       "</table>\n",
       "</div>"
      ],
      "text/plain": [
       "      CAMIS             DBA       BORO BUILDING              STREET  ZIPCODE  \\\n",
       "0  50074557    FISH VILLAGE     Queens     2007            127TH ST  11356.0   \n",
       "1  50086382        IL POSTO   Brooklyn     7409            AVENUE U  11234.0   \n",
       "2  41258823  LITTLE CAESARS      Bronx     1888  WESTCHESTER AVENUE  10472.0   \n",
       "3  50002053       THE LOCAL     Queens    13-02         44TH AVENUE  11101.0   \n",
       "4  50055374       FLORA BAR  Manhattan      945         MADISON AVE  10021.0   \n",
       "\n",
       "        PHONE CUISINE DESCRIPTION INSPECTION DATE  \\\n",
       "0  6468307299             Chinese      2019-01-02   \n",
       "1  7182414317             Italian      2019-01-02   \n",
       "2  3476571722               Pizza      2019-01-02   \n",
       "3  3477385251            American      2019-01-02   \n",
       "4  6317038780            American      2019-01-02   \n",
       "\n",
       "                                            ACTION VIOLATION CODE  \\\n",
       "0  Violations were cited in the following area(s).            08C   \n",
       "1  Violations were cited in the following area(s).            08A   \n",
       "2  Violations were cited in the following area(s).            10F   \n",
       "3  Violations were cited in the following area(s).            06D   \n",
       "4  Violations were cited in the following area(s).            04N   \n",
       "\n",
       "                               VIOLATION DESCRIPTION CRITICAL FLAG  SCORE  \\\n",
       "0  Pesticide use not in accordance with label or ...             N   22.0   \n",
       "1  Facility not vermin proof. Harborage or condit...             N   29.0   \n",
       "2  Non-food contact surface improperly constructe...             N    4.0   \n",
       "3  Food contact surface not properly washed, rins...             Y    7.0   \n",
       "4  Filth flies or food/refuse/sewage-associated (...             Y   11.0   \n",
       "\n",
       "  GRADE  GRADE DATE RECORD DATE  \\\n",
       "0   NaN         NaN  08/30/2019   \n",
       "1   NaN         NaN  08/30/2019   \n",
       "2     A  01/02/2019  08/30/2019   \n",
       "3     A  01/02/2019  08/30/2019   \n",
       "4     A  01/02/2019  08/30/2019   \n",
       "\n",
       "                                 INSPECTION TYPE   Latitude  Longitude  \\\n",
       "0          Cycle Inspection / Initial Inspection  40.781449 -73.841413   \n",
       "1  Pre-permit (Operational) / Initial Inspection  40.621321 -73.905154   \n",
       "2               Cycle Inspection / Re-inspection  40.832928 -73.861964   \n",
       "3          Cycle Inspection / Initial Inspection  40.749644 -73.947487   \n",
       "4               Cycle Inspection / Re-inspection  40.773450 -73.964199   \n",
       "\n",
       "   Community Board  Council District  Census Tract        BIN           BBL  \\\n",
       "0            407.0              19.0       91900.0  4099328.0  4.041720e+09   \n",
       "1            318.0              46.0       69602.0  3237484.0  3.084150e+09   \n",
       "2            209.0              18.0        7200.0        NaN  2.000000e+00   \n",
       "3            402.0              26.0        1900.0  4005221.0  4.004460e+09   \n",
       "4            108.0               4.0       13000.0  1041666.0  1.013890e+09   \n",
       "\n",
       "    NTA  \n",
       "0  QN23  \n",
       "1  BK45  \n",
       "2  BX55  \n",
       "3  QN31  \n",
       "4  MN40  "
      ]
     },
     "execution_count": 22,
     "metadata": {},
     "output_type": "execute_result"
    }
   ],
   "source": [
    "restaurant.head()"
   ]
  },
  {
   "cell_type": "code",
   "execution_count": 3,
   "metadata": {},
   "outputs": [],
   "source": [
    "restaurant['INSPECTION DATE'] = pd.to_datetime(restaurant['INSPECTION DATE'])"
   ]
  },
  {
   "cell_type": "code",
   "execution_count": 4,
   "metadata": {},
   "outputs": [
    {
     "data": {
      "text/plain": [
       "CAMIS                             int64\n",
       "DBA                              object\n",
       "BORO                             object\n",
       "BUILDING                         object\n",
       "STREET                           object\n",
       "ZIPCODE                         float64\n",
       "PHONE                            object\n",
       "CUISINE DESCRIPTION              object\n",
       "INSPECTION DATE          datetime64[ns]\n",
       "ACTION                           object\n",
       "VIOLATION CODE                   object\n",
       "VIOLATION DESCRIPTION            object\n",
       "CRITICAL FLAG                    object\n",
       "SCORE                           float64\n",
       "GRADE                            object\n",
       "GRADE DATE                       object\n",
       "RECORD DATE                      object\n",
       "INSPECTION TYPE                  object\n",
       "Latitude                        float64\n",
       "Longitude                       float64\n",
       "Community Board                 float64\n",
       "Council District                float64\n",
       "Census Tract                    float64\n",
       "BIN                             float64\n",
       "BBL                             float64\n",
       "NTA                              object\n",
       "dtype: object"
      ]
     },
     "execution_count": 4,
     "metadata": {},
     "output_type": "execute_result"
    }
   ],
   "source": [
    "restaurant.dtypes"
   ]
  },
  {
   "cell_type": "markdown",
   "metadata": {},
   "source": [
    "Question 3 of Assignment 1 asked if the mean inspection score in January was different from the mean inspection score in July.  We are going to look at this question in more detail.\n",
    "\n",
    "First let's create a dataframe with only the January inspections."
   ]
  },
  {
   "cell_type": "code",
   "execution_count": 7,
   "metadata": {},
   "outputs": [
    {
     "data": {
      "text/html": [
       "<div>\n",
       "<style scoped>\n",
       "    .dataframe tbody tr th:only-of-type {\n",
       "        vertical-align: middle;\n",
       "    }\n",
       "\n",
       "    .dataframe tbody tr th {\n",
       "        vertical-align: top;\n",
       "    }\n",
       "\n",
       "    .dataframe thead th {\n",
       "        text-align: right;\n",
       "    }\n",
       "</style>\n",
       "<table border=\"1\" class=\"dataframe\">\n",
       "  <thead>\n",
       "    <tr style=\"text-align: right;\">\n",
       "      <th></th>\n",
       "      <th>CAMIS</th>\n",
       "      <th>DBA</th>\n",
       "      <th>BORO</th>\n",
       "      <th>BUILDING</th>\n",
       "      <th>STREET</th>\n",
       "      <th>ZIPCODE</th>\n",
       "      <th>PHONE</th>\n",
       "      <th>CUISINE DESCRIPTION</th>\n",
       "      <th>INSPECTION DATE</th>\n",
       "      <th>ACTION</th>\n",
       "      <th>VIOLATION CODE</th>\n",
       "      <th>VIOLATION DESCRIPTION</th>\n",
       "      <th>CRITICAL FLAG</th>\n",
       "      <th>SCORE</th>\n",
       "      <th>GRADE</th>\n",
       "      <th>GRADE DATE</th>\n",
       "      <th>RECORD DATE</th>\n",
       "      <th>INSPECTION TYPE</th>\n",
       "      <th>Latitude</th>\n",
       "      <th>Longitude</th>\n",
       "      <th>Community Board</th>\n",
       "      <th>Council District</th>\n",
       "      <th>Census Tract</th>\n",
       "      <th>BIN</th>\n",
       "      <th>BBL</th>\n",
       "      <th>NTA</th>\n",
       "    </tr>\n",
       "  </thead>\n",
       "  <tbody>\n",
       "    <tr>\n",
       "      <th>0</th>\n",
       "      <td>50074557</td>\n",
       "      <td>FISH VILLAGE</td>\n",
       "      <td>Queens</td>\n",
       "      <td>2007</td>\n",
       "      <td>127TH ST</td>\n",
       "      <td>11356.0</td>\n",
       "      <td>6468307299</td>\n",
       "      <td>Chinese</td>\n",
       "      <td>2019-01-02</td>\n",
       "      <td>Violations were cited in the following area(s).</td>\n",
       "      <td>08C</td>\n",
       "      <td>Pesticide use not in accordance with label or ...</td>\n",
       "      <td>N</td>\n",
       "      <td>22.0</td>\n",
       "      <td>NaN</td>\n",
       "      <td>NaN</td>\n",
       "      <td>08/30/2019</td>\n",
       "      <td>Cycle Inspection / Initial Inspection</td>\n",
       "      <td>40.781449</td>\n",
       "      <td>-73.841413</td>\n",
       "      <td>407.0</td>\n",
       "      <td>19.0</td>\n",
       "      <td>91900.0</td>\n",
       "      <td>4099328.0</td>\n",
       "      <td>4.041720e+09</td>\n",
       "      <td>QN23</td>\n",
       "    </tr>\n",
       "    <tr>\n",
       "      <th>1</th>\n",
       "      <td>50086382</td>\n",
       "      <td>IL POSTO</td>\n",
       "      <td>Brooklyn</td>\n",
       "      <td>7409</td>\n",
       "      <td>AVENUE U</td>\n",
       "      <td>11234.0</td>\n",
       "      <td>7182414317</td>\n",
       "      <td>Italian</td>\n",
       "      <td>2019-01-02</td>\n",
       "      <td>Violations were cited in the following area(s).</td>\n",
       "      <td>08A</td>\n",
       "      <td>Facility not vermin proof. Harborage or condit...</td>\n",
       "      <td>N</td>\n",
       "      <td>29.0</td>\n",
       "      <td>NaN</td>\n",
       "      <td>NaN</td>\n",
       "      <td>08/30/2019</td>\n",
       "      <td>Pre-permit (Operational) / Initial Inspection</td>\n",
       "      <td>40.621321</td>\n",
       "      <td>-73.905154</td>\n",
       "      <td>318.0</td>\n",
       "      <td>46.0</td>\n",
       "      <td>69602.0</td>\n",
       "      <td>3237484.0</td>\n",
       "      <td>3.084150e+09</td>\n",
       "      <td>BK45</td>\n",
       "    </tr>\n",
       "    <tr>\n",
       "      <th>2</th>\n",
       "      <td>41258823</td>\n",
       "      <td>LITTLE CAESARS</td>\n",
       "      <td>Bronx</td>\n",
       "      <td>1888</td>\n",
       "      <td>WESTCHESTER AVENUE</td>\n",
       "      <td>10472.0</td>\n",
       "      <td>3476571722</td>\n",
       "      <td>Pizza</td>\n",
       "      <td>2019-01-02</td>\n",
       "      <td>Violations were cited in the following area(s).</td>\n",
       "      <td>10F</td>\n",
       "      <td>Non-food contact surface improperly constructe...</td>\n",
       "      <td>N</td>\n",
       "      <td>4.0</td>\n",
       "      <td>A</td>\n",
       "      <td>01/02/2019</td>\n",
       "      <td>08/30/2019</td>\n",
       "      <td>Cycle Inspection / Re-inspection</td>\n",
       "      <td>40.832928</td>\n",
       "      <td>-73.861964</td>\n",
       "      <td>209.0</td>\n",
       "      <td>18.0</td>\n",
       "      <td>7200.0</td>\n",
       "      <td>NaN</td>\n",
       "      <td>2.000000e+00</td>\n",
       "      <td>BX55</td>\n",
       "    </tr>\n",
       "    <tr>\n",
       "      <th>3</th>\n",
       "      <td>50002053</td>\n",
       "      <td>THE LOCAL</td>\n",
       "      <td>Queens</td>\n",
       "      <td>13-02</td>\n",
       "      <td>44TH AVENUE</td>\n",
       "      <td>11101.0</td>\n",
       "      <td>3477385251</td>\n",
       "      <td>American</td>\n",
       "      <td>2019-01-02</td>\n",
       "      <td>Violations were cited in the following area(s).</td>\n",
       "      <td>06D</td>\n",
       "      <td>Food contact surface not properly washed, rins...</td>\n",
       "      <td>Y</td>\n",
       "      <td>7.0</td>\n",
       "      <td>A</td>\n",
       "      <td>01/02/2019</td>\n",
       "      <td>08/30/2019</td>\n",
       "      <td>Cycle Inspection / Initial Inspection</td>\n",
       "      <td>40.749644</td>\n",
       "      <td>-73.947487</td>\n",
       "      <td>402.0</td>\n",
       "      <td>26.0</td>\n",
       "      <td>1900.0</td>\n",
       "      <td>4005221.0</td>\n",
       "      <td>4.004460e+09</td>\n",
       "      <td>QN31</td>\n",
       "    </tr>\n",
       "    <tr>\n",
       "      <th>4</th>\n",
       "      <td>50055374</td>\n",
       "      <td>FLORA BAR</td>\n",
       "      <td>Manhattan</td>\n",
       "      <td>945</td>\n",
       "      <td>MADISON AVE</td>\n",
       "      <td>10021.0</td>\n",
       "      <td>6317038780</td>\n",
       "      <td>American</td>\n",
       "      <td>2019-01-02</td>\n",
       "      <td>Violations were cited in the following area(s).</td>\n",
       "      <td>04N</td>\n",
       "      <td>Filth flies or food/refuse/sewage-associated (...</td>\n",
       "      <td>Y</td>\n",
       "      <td>11.0</td>\n",
       "      <td>A</td>\n",
       "      <td>01/02/2019</td>\n",
       "      <td>08/30/2019</td>\n",
       "      <td>Cycle Inspection / Re-inspection</td>\n",
       "      <td>40.773450</td>\n",
       "      <td>-73.964199</td>\n",
       "      <td>108.0</td>\n",
       "      <td>4.0</td>\n",
       "      <td>13000.0</td>\n",
       "      <td>1041666.0</td>\n",
       "      <td>1.013890e+09</td>\n",
       "      <td>MN40</td>\n",
       "    </tr>\n",
       "  </tbody>\n",
       "</table>\n",
       "</div>"
      ],
      "text/plain": [
       "      CAMIS             DBA       BORO BUILDING              STREET  ZIPCODE  \\\n",
       "0  50074557    FISH VILLAGE     Queens     2007            127TH ST  11356.0   \n",
       "1  50086382        IL POSTO   Brooklyn     7409            AVENUE U  11234.0   \n",
       "2  41258823  LITTLE CAESARS      Bronx     1888  WESTCHESTER AVENUE  10472.0   \n",
       "3  50002053       THE LOCAL     Queens    13-02         44TH AVENUE  11101.0   \n",
       "4  50055374       FLORA BAR  Manhattan      945         MADISON AVE  10021.0   \n",
       "\n",
       "        PHONE CUISINE DESCRIPTION INSPECTION DATE  \\\n",
       "0  6468307299             Chinese      2019-01-02   \n",
       "1  7182414317             Italian      2019-01-02   \n",
       "2  3476571722               Pizza      2019-01-02   \n",
       "3  3477385251            American      2019-01-02   \n",
       "4  6317038780            American      2019-01-02   \n",
       "\n",
       "                                            ACTION VIOLATION CODE  \\\n",
       "0  Violations were cited in the following area(s).            08C   \n",
       "1  Violations were cited in the following area(s).            08A   \n",
       "2  Violations were cited in the following area(s).            10F   \n",
       "3  Violations were cited in the following area(s).            06D   \n",
       "4  Violations were cited in the following area(s).            04N   \n",
       "\n",
       "                               VIOLATION DESCRIPTION CRITICAL FLAG  SCORE  \\\n",
       "0  Pesticide use not in accordance with label or ...             N   22.0   \n",
       "1  Facility not vermin proof. Harborage or condit...             N   29.0   \n",
       "2  Non-food contact surface improperly constructe...             N    4.0   \n",
       "3  Food contact surface not properly washed, rins...             Y    7.0   \n",
       "4  Filth flies or food/refuse/sewage-associated (...             Y   11.0   \n",
       "\n",
       "  GRADE  GRADE DATE RECORD DATE  \\\n",
       "0   NaN         NaN  08/30/2019   \n",
       "1   NaN         NaN  08/30/2019   \n",
       "2     A  01/02/2019  08/30/2019   \n",
       "3     A  01/02/2019  08/30/2019   \n",
       "4     A  01/02/2019  08/30/2019   \n",
       "\n",
       "                                 INSPECTION TYPE   Latitude  Longitude  \\\n",
       "0          Cycle Inspection / Initial Inspection  40.781449 -73.841413   \n",
       "1  Pre-permit (Operational) / Initial Inspection  40.621321 -73.905154   \n",
       "2               Cycle Inspection / Re-inspection  40.832928 -73.861964   \n",
       "3          Cycle Inspection / Initial Inspection  40.749644 -73.947487   \n",
       "4               Cycle Inspection / Re-inspection  40.773450 -73.964199   \n",
       "\n",
       "   Community Board  Council District  Census Tract        BIN           BBL  \\\n",
       "0            407.0              19.0       91900.0  4099328.0  4.041720e+09   \n",
       "1            318.0              46.0       69602.0  3237484.0  3.084150e+09   \n",
       "2            209.0              18.0        7200.0        NaN  2.000000e+00   \n",
       "3            402.0              26.0        1900.0  4005221.0  4.004460e+09   \n",
       "4            108.0               4.0       13000.0  1041666.0  1.013890e+09   \n",
       "\n",
       "    NTA  \n",
       "0  QN23  \n",
       "1  BK45  \n",
       "2  BX55  \n",
       "3  QN31  \n",
       "4  MN40  "
      ]
     },
     "execution_count": 7,
     "metadata": {},
     "output_type": "execute_result"
    }
   ],
   "source": [
    "jan_df = restaurant[restaurant['INSPECTION DATE'].dt.month == 1]\n",
    "jan_df.head()"
   ]
  },
  {
   "cell_type": "markdown",
   "metadata": {},
   "source": [
    "How many rows are in this new dataframe?  Recall we can find this out with the `.shape` property."
   ]
  },
  {
   "cell_type": "code",
   "execution_count": 8,
   "metadata": {},
   "outputs": [
    {
     "data": {
      "text/plain": [
       "(11463, 26)"
      ]
     },
     "execution_count": 8,
     "metadata": {},
     "output_type": "execute_result"
    }
   ],
   "source": [
    "jan_df.shape"
   ]
  },
  {
   "cell_type": "markdown",
   "metadata": {},
   "source": [
    "Plot the histogram of the January inspection scores."
   ]
  },
  {
   "cell_type": "code",
   "execution_count": 10,
   "metadata": {},
   "outputs": [
    {
     "data": {
      "text/plain": [
       "<matplotlib.axes._subplots.AxesSubplot at 0x11e6777f0>"
      ]
     },
     "execution_count": 10,
     "metadata": {},
     "output_type": "execute_result"
    },
    {
     "data": {
      "image/png": "[encoded data removed]",
      "text/plain": [
       "<Figure size 432x288 with 1 Axes>"
      ]
     },
     "metadata": {
      "needs_background": "light"
     },
     "output_type": "display_data"
    }
   ],
   "source": [
    "jan_df['SCORE'].hist()"
   ]
  },
  {
   "cell_type": "markdown",
   "metadata": {},
   "source": [
    "Does the histogram look like either of the parametric distributions?\n",
    "\n",
    "It has some characteristics of an exponential distribution, but in this lab we will treat this sample as its own non-parametric distribution.\n",
    "\n",
    "We want to know what range of values are likely for its mean.  To find this, we will *re-sample* from the sample, meaning we will create new samples of the same size by *sampling with replacement* from the original sample.  For each of the new samples, we will compute the mean."
   ]
  },
  {
   "cell_type": "code",
   "execution_count": 11,
   "metadata": {},
   "outputs": [],
   "source": [
    "# create an empty list\n",
    "sample_means_jan = []\n",
    "# loop to create 500 samples\n",
    "for i in range(500):\n",
    "    # sample once from the SCORE column with replacement\n",
    "    sample = jan_df[\"SCORE\"].sample(11463, replace = True)\n",
    "    # compute the mean of the new sample\n",
    "    sample_mean = sample.mean()\n",
    "    # add the mean to the list\n",
    "    sample_means_jan.append(sample_mean)"
   ]
  },
  {
   "cell_type": "markdown",
   "metadata": {},
   "source": [
    "Plot a histogram of the sample means.  Remember to convert `sample_means` into a Pandas Series first."
   ]
  },
  {
   "cell_type": "code",
   "execution_count": 13,
   "metadata": {},
   "outputs": [
    {
     "data": {
      "text/plain": [
       "<matplotlib.axes._subplots.AxesSubplot at 0x11e65e470>"
      ]
     },
     "execution_count": 13,
     "metadata": {},
     "output_type": "execute_result"
    },
    {
     "data": {
      "image/png": "[encoded data removed]",
      "text/plain": [
       "<Figure size 432x288 with 1 Axes>"
      ]
     },
     "metadata": {
      "needs_background": "light"
     },
     "output_type": "display_data"
    }
   ],
   "source": [
    "pd.Series(sample_means_jan).hist()"
   ]
  },
  {
   "cell_type": "markdown",
   "metadata": {},
   "source": [
    "This histogram is approximating the *sampling distribution of the mean*.\n",
    "\n",
    "What parametric distribution does this histogram look like?  Do you remember why?\n",
    "\n",
    "Let's find the range containing 95% of the sample means, which is also called the *95% confidence interval*."
   ]
  },
  {
   "cell_type": "code",
   "execution_count": 14,
   "metadata": {},
   "outputs": [
    {
     "data": {
      "text/plain": [
       "20.036187996538196"
      ]
     },
     "execution_count": 14,
     "metadata": {},
     "output_type": "execute_result"
    }
   ],
   "source": [
    "# Find the 2.5 percentile of the means.  Only 2.5% of the sample means are smaller than this number.\n",
    "pd.Series(sample_means_jan).quantile(0.025)"
   ]
  },
  {
   "cell_type": "code",
   "execution_count": 15,
   "metadata": {},
   "outputs": [
    {
     "data": {
      "text/plain": [
       "20.61124885965088"
      ]
     },
     "execution_count": 15,
     "metadata": {},
     "output_type": "execute_result"
    }
   ],
   "source": [
    "# Find the 97.5 percentile of the means.  97.5% of the sample means are smaller than this number, \n",
    "# so only 2.5% of the sample means are larger than this number.\n",
    "pd.Series(sample_means_jan).quantile(0.975)"
   ]
  },
  {
   "cell_type": "markdown",
   "metadata": {},
   "source": [
    "Therefore, the 95% confidence interval is approximately [20.0, 20.6].  The interpretation of a confidence interval is if we sample from a distribution and compute the 95% confidence interval, then 95% of the time this confidence interval will contain the true mean of the distribution.\n",
    "\n",
    "Now, compute the 95% confidence interval for the mean of the July scores.\n",
    "\n",
    "First, create a dataframe containing only the July inspections and find the number of rows."
   ]
  },
  {
   "cell_type": "code",
   "execution_count": 17,
   "metadata": {},
   "outputs": [
    {
     "data": {
      "text/plain": [
       "(15102, 26)"
      ]
     },
     "execution_count": 17,
     "metadata": {},
     "output_type": "execute_result"
    }
   ],
   "source": [
    "jul_df = restaurant[restaurant['INSPECTION DATE'].dt.month == 7]\n",
    "jul_df.shape"
   ]
  },
  {
   "cell_type": "markdown",
   "metadata": {},
   "source": [
    "Next create 500 bootstrap samples (samples of the same size with replacement) of the July inspection scores:"
   ]
  },
  {
   "cell_type": "code",
   "execution_count": 18,
   "metadata": {},
   "outputs": [],
   "source": [
    "# create an empty list\n",
    "sample_means_jul = []\n",
    "# loop to create 500 samples\n",
    "for i in range(500):\n",
    "    # sample once from the SCORE column with replacement\n",
    "    sample = jul_df[\"SCORE\"].sample(15102, replace = True)\n",
    "    # compute the mean of the new sample\n",
    "    sample_mean = sample.mean()\n",
    "    # add the mean to the list\n",
    "    sample_means_jul.append(sample_mean)"
   ]
  },
  {
   "cell_type": "markdown",
   "metadata": {},
   "source": [
    "Plot the histogram of the means:"
   ]
  },
  {
   "cell_type": "code",
   "execution_count": 23,
   "metadata": {},
   "outputs": [
    {
     "data": {
      "text/plain": [
       "<matplotlib.axes._subplots.AxesSubplot at 0x121778b70>"
      ]
     },
     "execution_count": 23,
     "metadata": {},
     "output_type": "execute_result"
    },
    {
     "data": {
      "image/png": "[encoded data removed]",
      "text/plain": [
       "<Figure size 432x288 with 1 Axes>"
      ]
     },
     "metadata": {
      "needs_background": "light"
     },
     "output_type": "display_data"
    }
   ],
   "source": [
    "pd.Series(sample_means_jul).hist(bins=20)"
   ]
  },
  {
   "cell_type": "markdown",
   "metadata": {},
   "source": [
    "Compute the 95% confidence interval for the means of the bootstrap samples of the July scores:"
   ]
  },
  {
   "cell_type": "code",
   "execution_count": 20,
   "metadata": {},
   "outputs": [
    {
     "data": {
      "text/plain": [
       "25.921635473847164"
      ]
     },
     "execution_count": 20,
     "metadata": {},
     "output_type": "execute_result"
    }
   ],
   "source": [
    "pd.Series(sample_means_jul).quantile(0.025)"
   ]
  },
  {
   "cell_type": "code",
   "execution_count": 21,
   "metadata": {},
   "outputs": [
    {
     "data": {
      "text/plain": [
       "26.499366089657777"
      ]
     },
     "execution_count": 21,
     "metadata": {},
     "output_type": "execute_result"
    }
   ],
   "source": [
    "pd.Series(sample_means_jul).quantile(0.975)"
   ]
  },
  {
   "cell_type": "markdown",
   "metadata": {},
   "source": [
    "What's your 95% confidence interval?\n",
    "\n",
    "Does it overlap with your 95% confidence interval of the mean of the January scores?\n",
    "\n",
    "Since these two confidence intervals will contain the true means 95% of the time, if the intervals do not overlap, we can say that there is a statistically significant difference in the January and July score means.\n",
    "\n",
    "We can visually check this too by plotting the two histograms of the means on the same plot:"
   ]
  },
  {
   "cell_type": "code",
   "execution_count": null,
   "metadata": {},
   "outputs": [],
   "source": []
  },
  {
   "cell_type": "markdown",
   "metadata": {},
   "source": [
    "What do you think this difference in means implies about the distributions of the January and July inspection scores?  Do you think the scores have the same distribution?\n",
    "\n",
    "Let's plot the histograms of the distributions of the January and July scores on the same plot to visually compare:"
   ]
  },
  {
   "cell_type": "code",
   "execution_count": 25,
   "metadata": {},
   "outputs": [
    {
     "data": {
      "text/plain": [
       "<matplotlib.axes._subplots.AxesSubplot at 0x11e895828>"
      ]
     },
     "execution_count": 25,
     "metadata": {},
     "output_type": "execute_result"
    },
    {
     "data": {
      "image/png": "[encoded data removed]",
      "text/plain": [
       "<Figure size 432x288 with 1 Axes>"
      ]
     },
     "metadata": {
      "needs_background": "light"
     },
     "output_type": "display_data"
    }
   ],
   "source": [
    "jan_df['SCORE'].hist(bins=40, alpha=0.5)\n",
    "jul_df['SCORE'].hist(bins=40, alpha=0.5)"
   ]
  },
  {
   "cell_type": "markdown",
   "metadata": {},
   "source": [
    "Recall we can make the histograms transparent by adding the parameter `alpha = 0.5`."
   ]
  },
  {
   "cell_type": "markdown",
   "metadata": {},
   "source": [
    "### If you are finished early:\n",
    "- Is there a statistically significant difference in the means of the January scores and the February scores?\n",
    "- In Lab 4, we fit a normal distribution to the babies' weights.  If we take a sample of size 44 from that fitted normal distribution, how does its mean compare to the mean of the babies weights?  Does this result tell us anything about whether the babies' weights come from a normal distribution? "
   ]
  }
 ],
 "metadata": {
  "kernelspec": {
   "display_name": "Python 3",
   "language": "python",
   "name": "python3"
  },
  "language_info": {
   "codemirror_mode": {
    "name": "ipython",
    "version": 3
   },
   "file_extension": ".py",
   "mimetype": "text/x-python",
   "name": "python",
   "nbconvert_exporter": "python",
   "pygments_lexer": "ipython3",
   "version": "3.7.3"
  }
 },
 "nbformat": 4,
 "nbformat_minor": 2
}
