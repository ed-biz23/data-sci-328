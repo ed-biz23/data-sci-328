{
 "cells": [
  {
   "cell_type": "markdown",
   "metadata": {},
   "source": [
    "# Lab 10 - Logistic Regression\n",
    "\n",
    "The Challenger Space Shuttle tragically explored in 1986, killing all astronauts on board.  The explosion was shown to have been caused by an O-ring failure, likely due to cold temperatures the day of the launch (and also poor engineering that allowed this failure to cause such catastrophy).\n",
    "\n",
    "This lab will use experimental data from tests on whether O-rings failed at different temperatures.  The data set can be downloaded [here](http://comet.lehman.cuny.edu/owen/teaching/mat328/chall.txt)\n",
    "\n",
    "Some of this lab is based off the Harvard Data Science CS109 Lab 4, Fall 2015."
   ]
  },
  {
   "cell_type": "code",
   "execution_count": 2,
   "metadata": {},
   "outputs": [],
   "source": [
    "import pandas as pd\n",
    "import matplotlib.pyplot as plt\n",
    "import seaborn as sns\n",
    "import numpy as np\n",
    "import statsmodels.formula.api as smf\n",
    "\n",
    "\n",
    "%matplotlib inline"
   ]
  },
  {
   "cell_type": "markdown",
   "metadata": {},
   "source": [
    "Read the data into a dataframe."
   ]
  },
  {
   "cell_type": "code",
   "execution_count": 3,
   "metadata": {},
   "outputs": [],
   "source": [
    "data = pd.read_csv(\"chall.txt\", header=None, sep='\\s+', names=['Temperature', 'Failure'])"
   ]
  },
  {
   "cell_type": "markdown",
   "metadata": {},
   "source": [
    "Create a scatter plot with temperature on the x axis and failure on the y axis.  What do you notice?"
   ]
  },
  {
   "cell_type": "code",
   "execution_count": 5,
   "metadata": {},
   "outputs": [
    {
     "data": {
      "text/plain": [
       "<matplotlib.axes._subplots.AxesSubplot at 0x1a1ac7cc50>"
      ]
     },
     "execution_count": 5,
     "metadata": {},
     "output_type": "execute_result"
    },
    {
     "data": {
      "image/png": "[encoded data removed]",
      "text/plain": [
       "<Figure size 432x288 with 1 Axes>"
      ]
     },
     "metadata": {
      "needs_background": "light"
     },
     "output_type": "display_data"
    }
   ],
   "source": [
    "sns.scatterplot(x=data['Temperature'], y=data['Failure'])"
   ]
  },
  {
   "cell_type": "markdown",
   "metadata": {},
   "source": [
    "We will now use statsmodel to fit a logistic regression model to the data.  Notice that the code is similar to when we fit a linear regression model to the data."
   ]
  },
  {
   "cell_type": "code",
   "execution_count": 6,
   "metadata": {},
   "outputs": [
    {
     "name": "stdout",
     "output_type": "stream",
     "text": [
      "Optimization terminated successfully.\n",
      "         Current function value: 0.441635\n",
      "         Iterations 7\n"
     ]
    },
    {
     "data": {
      "text/html": [
       "<table class=\"simpletable\">\n",
       "<caption>Logit Regression Results</caption>\n",
       "<tr>\n",
       "  <th>Dep. Variable:</th>        <td>Failure</td>     <th>  No. Observations:  </th>  <td>    23</td> \n",
       "</tr>\n",
       "<tr>\n",
       "  <th>Model:</th>                 <td>Logit</td>      <th>  Df Residuals:      </th>  <td>    21</td> \n",
       "</tr>\n",
       "<tr>\n",
       "  <th>Method:</th>                 <td>MLE</td>       <th>  Df Model:          </th>  <td>     1</td> \n",
       "</tr>\n",
       "<tr>\n",
       "  <th>Date:</th>            <td>Thu, 03 Oct 2019</td> <th>  Pseudo R-squ.:     </th>  <td>0.2813</td> \n",
       "</tr>\n",
       "<tr>\n",
       "  <th>Time:</th>                <td>17:24:13</td>     <th>  Log-Likelihood:    </th> <td> -10.158</td>\n",
       "</tr>\n",
       "<tr>\n",
       "  <th>converged:</th>             <td>True</td>       <th>  LL-Null:           </th> <td> -14.134</td>\n",
       "</tr>\n",
       "<tr>\n",
       "  <th>Covariance Type:</th>     <td>nonrobust</td>    <th>  LLR p-value:       </th> <td>0.004804</td>\n",
       "</tr>\n",
       "</table>\n",
       "<table class=\"simpletable\">\n",
       "<tr>\n",
       "       <td></td>          <th>coef</th>     <th>std err</th>      <th>z</th>      <th>P>|z|</th>  <th>[0.025</th>    <th>0.975]</th>  \n",
       "</tr>\n",
       "<tr>\n",
       "  <th>Intercept</th>   <td>   15.0429</td> <td>    7.379</td> <td>    2.039</td> <td> 0.041</td> <td>    0.581</td> <td>   29.505</td>\n",
       "</tr>\n",
       "<tr>\n",
       "  <th>Temperature</th> <td>   -0.2322</td> <td>    0.108</td> <td>   -2.145</td> <td> 0.032</td> <td>   -0.444</td> <td>   -0.020</td>\n",
       "</tr>\n",
       "</table>"
      ],
      "text/plain": [
       "<class 'statsmodels.iolib.summary.Summary'>\n",
       "\"\"\"\n",
       "                           Logit Regression Results                           \n",
       "==============================================================================\n",
       "Dep. Variable:                Failure   No. Observations:                   23\n",
       "Model:                          Logit   Df Residuals:                       21\n",
       "Method:                           MLE   Df Model:                            1\n",
       "Date:                Thu, 03 Oct 2019   Pseudo R-squ.:                  0.2813\n",
       "Time:                        17:24:13   Log-Likelihood:                -10.158\n",
       "converged:                       True   LL-Null:                       -14.134\n",
       "Covariance Type:            nonrobust   LLR p-value:                  0.004804\n",
       "===============================================================================\n",
       "                  coef    std err          z      P>|z|      [0.025      0.975]\n",
       "-------------------------------------------------------------------------------\n",
       "Intercept      15.0429      7.379      2.039      0.041       0.581      29.505\n",
       "Temperature    -0.2322      0.108     -2.145      0.032      -0.444      -0.020\n",
       "===============================================================================\n",
       "\"\"\""
      ]
     },
     "execution_count": 6,
     "metadata": {},
     "output_type": "execute_result"
    }
   ],
   "source": [
    "logit_model = smf.logit('Failure ~ Temperature',data).fit()\n",
    "logit_model.summary()"
   ]
  },
  {
   "cell_type": "markdown",
   "metadata": {},
   "source": [
    "Is there an R-squared value in the summary?  What is the formula for the model?\n",
    "\n",
    "There is another way to get the model parameters:"
   ]
  },
  {
   "cell_type": "code",
   "execution_count": 7,
   "metadata": {},
   "outputs": [
    {
     "data": {
      "text/plain": [
       "Intercept      15.042902\n",
       "Temperature    -0.232163\n",
       "dtype: float64"
      ]
     },
     "execution_count": 7,
     "metadata": {},
     "output_type": "execute_result"
    }
   ],
   "source": [
    "logit_model.params"
   ]
  },
  {
   "cell_type": "markdown",
   "metadata": {},
   "source": [
    "We can use these parameters to graph the model equation on the data.  \n",
    "\n",
    "First, create 200 evenly spaced x values (look at the data to see what their range should be): "
   ]
  },
  {
   "cell_type": "code",
   "execution_count": 9,
   "metadata": {},
   "outputs": [],
   "source": [
    "x = np.linspace(50, 85, 200)"
   ]
  },
  {
   "cell_type": "markdown",
   "metadata": {},
   "source": [
    "Next, we can compute $\\beta_0 + \\beta_1 x$ for all of these x values:"
   ]
  },
  {
   "cell_type": "code",
   "execution_count": 10,
   "metadata": {},
   "outputs": [
    {
     "data": {
      "text/plain": [
       "array([ 3.43476444,  3.39393179,  3.35309915,  3.31226651,  3.27143386,\n",
       "        3.23060122,  3.18976858,  3.14893593,  3.10810329,  3.06727065,\n",
       "        3.026438  ,  2.98560536,  2.94477272,  2.90394007,  2.86310743,\n",
       "        2.82227478,  2.78144214,  2.7406095 ,  2.69977685,  2.65894421,\n",
       "        2.61811157,  2.57727892,  2.53644628,  2.49561364,  2.45478099,\n",
       "        2.41394835,  2.37311571,  2.33228306,  2.29145042,  2.25061778,\n",
       "        2.20978513,  2.16895249,  2.12811985,  2.0872872 ,  2.04645456,\n",
       "        2.00562192,  1.96478927,  1.92395663,  1.88312399,  1.84229134,\n",
       "        1.8014587 ,  1.76062606,  1.71979341,  1.67896077,  1.63812812,\n",
       "        1.59729548,  1.55646284,  1.51563019,  1.47479755,  1.43396491,\n",
       "        1.39313226,  1.35229962,  1.31146698,  1.27063433,  1.22980169,\n",
       "        1.18896905,  1.1481364 ,  1.10730376,  1.06647112,  1.02563847,\n",
       "        0.98480583,  0.94397319,  0.90314054,  0.8623079 ,  0.82147526,\n",
       "        0.78064261,  0.73980997,  0.69897733,  0.65814468,  0.61731204,\n",
       "        0.57647939,  0.53564675,  0.49481411,  0.45398146,  0.41314882,\n",
       "        0.37231618,  0.33148353,  0.29065089,  0.24981825,  0.2089856 ,\n",
       "        0.16815296,  0.12732032,  0.08648767,  0.04565503,  0.00482239,\n",
       "       -0.03601026, -0.0768429 , -0.11767554, -0.15850819, -0.19934083,\n",
       "       -0.24017347, -0.28100612, -0.32183876, -0.3626714 , -0.40350405,\n",
       "       -0.44433669, -0.48516933, -0.52600198, -0.56683462, -0.60766727,\n",
       "       -0.64849991, -0.68933255, -0.7301652 , -0.77099784, -0.81183048,\n",
       "       -0.85266313, -0.89349577, -0.93432841, -0.97516106, -1.0159937 ,\n",
       "       -1.05682634, -1.09765899, -1.13849163, -1.17932427, -1.22015692,\n",
       "       -1.26098956, -1.3018222 , -1.34265485, -1.38348749, -1.42432013,\n",
       "       -1.46515278, -1.50598542, -1.54681806, -1.58765071, -1.62848335,\n",
       "       -1.669316  , -1.71014864, -1.75098128, -1.79181393, -1.83264657,\n",
       "       -1.87347921, -1.91431186, -1.9551445 , -1.99597714, -2.03680979,\n",
       "       -2.07764243, -2.11847507, -2.15930772, -2.20014036, -2.240973  ,\n",
       "       -2.28180565, -2.32263829, -2.36347093, -2.40430358, -2.44513622,\n",
       "       -2.48596886, -2.52680151, -2.56763415, -2.60846679, -2.64929944,\n",
       "       -2.69013208, -2.73096473, -2.77179737, -2.81263001, -2.85346266,\n",
       "       -2.8942953 , -2.93512794, -2.97596059, -3.01679323, -3.05762587,\n",
       "       -3.09845852, -3.13929116, -3.1801238 , -3.22095645, -3.26178909,\n",
       "       -3.30262173, -3.34345438, -3.38428702, -3.42511966, -3.46595231,\n",
       "       -3.50678495, -3.54761759, -3.58845024, -3.62928288, -3.67011552,\n",
       "       -3.71094817, -3.75178081, -3.79261345, -3.8334461 , -3.87427874,\n",
       "       -3.91511139, -3.95594403, -3.99677667, -4.03760932, -4.07844196,\n",
       "       -4.1192746 , -4.16010725, -4.20093989, -4.24177253, -4.28260518,\n",
       "       -4.32343782, -4.36427046, -4.40510311, -4.44593575, -4.48676839,\n",
       "       -4.52760104, -4.56843368, -4.60926632, -4.65009897, -4.69093161])"
      ]
     },
     "execution_count": 10,
     "metadata": {},
     "output_type": "execute_result"
    }
   ],
   "source": [
    "p = logit_model.params\n",
    "reg = p['Intercept'] + x*p['Temperature']\n",
    "reg"
   ]
  },
  {
   "cell_type": "markdown",
   "metadata": {},
   "source": [
    "Finally we can plug `reg` into the logistic equation to get the y values:"
   ]
  },
  {
   "cell_type": "code",
   "execution_count": 11,
   "metadata": {},
   "outputs": [
    {
     "data": {
      "text/plain": [
       "array([0.96877352, 0.96751435, 0.96620618, 0.96484724, 0.96343572,\n",
       "       0.96196975, 0.96044743, 0.95886677, 0.95722576, 0.95552232,\n",
       "       0.95375432, 0.95191957, 0.95001585, 0.94804087, 0.94599228,\n",
       "       0.94386771, 0.94166472, 0.93938081, 0.93701348, 0.93456013,\n",
       "       0.93201815, 0.9293849 , 0.92665767, 0.92383375, 0.92091037,\n",
       "       0.91788477, 0.91475413, 0.91151565, 0.90816649, 0.90470381,\n",
       "       0.90112478, 0.89742658, 0.89360639, 0.88966141, 0.88558888,\n",
       "       0.88138608, 0.87705033, 0.872579  , 0.86796954, 0.86321948,\n",
       "       0.85832641, 0.85328805, 0.84810222, 0.84276687, 0.83728007,\n",
       "       0.83164005, 0.82584521, 0.8198941 , 0.8137855 , 0.80751834,\n",
       "       0.80109182, 0.79450533, 0.78775853, 0.78085132, 0.77378386,\n",
       "       0.76655663, 0.75917036, 0.75162611, 0.74392524, 0.73606945,\n",
       "       0.72806076, 0.71990152, 0.71159446, 0.70314261, 0.69454941,\n",
       "       0.6858186 , 0.6769543 , 0.66796099, 0.65884349, 0.64960697,\n",
       "       0.64025691, 0.63079916, 0.62123986, 0.61158544, 0.60184267,\n",
       "       0.59201853, 0.5821203 , 0.57215547, 0.56213176, 0.55205707,\n",
       "       0.54193947, 0.53178715, 0.52160845, 0.51141178, 0.50120559,\n",
       "       0.49099841, 0.48079872, 0.47061502, 0.46045571, 0.45032916,\n",
       "       0.4402436 , 0.43020713, 0.42022769, 0.41031305, 0.40047075,\n",
       "       0.39070811, 0.38103221, 0.37144984, 0.36196754, 0.35259151,\n",
       "       0.34332766, 0.33418157, 0.32515848, 0.31626329, 0.30750057,\n",
       "       0.2988745 , 0.29038895, 0.2820474 , 0.27385299, 0.26580851,\n",
       "       0.25791641, 0.25017879, 0.24259741, 0.23517372, 0.22790884,\n",
       "       0.22080359, 0.2138585 , 0.20707381, 0.20044948, 0.19398522,\n",
       "       0.18768049, 0.18153452, 0.17554631, 0.16971468, 0.16403823,\n",
       "       0.1585154 , 0.15314444, 0.14792347, 0.14285047, 0.13792329,\n",
       "       0.13313966, 0.12849721, 0.12399349, 0.11962594, 0.11539198,\n",
       "       0.11128893, 0.10731407, 0.10346465, 0.09973789, 0.09613096,\n",
       "       0.09264106, 0.08926534, 0.08600097, 0.08284512, 0.07979496,\n",
       "       0.07684769, 0.07400052, 0.0712507 , 0.0685955 , 0.0660322 ,\n",
       "       0.06355816, 0.06117074, 0.05886736, 0.05664548, 0.0545026 ,\n",
       "       0.05243629, 0.05044413, 0.04852379, 0.04667295, 0.04488938,\n",
       "       0.04317088, 0.04151532, 0.03992059, 0.03838467, 0.03690557,\n",
       "       0.03548136, 0.03411016, 0.03279016, 0.03151957, 0.03029667,\n",
       "       0.02911979, 0.02798731, 0.02689765, 0.02584929, 0.02484075,\n",
       "       0.02387059, 0.02293743, 0.02203992, 0.02117677, 0.02034673,\n",
       "       0.01954856, 0.01878111, 0.01804323, 0.01733383, 0.01665185,\n",
       "       0.01599626, 0.01536608, 0.01476036, 0.01417817, 0.01361862,\n",
       "       0.01308086, 0.01256407, 0.01206744, 0.01159022, 0.01113165,\n",
       "       0.01069104, 0.01026768, 0.00986092, 0.00947012, 0.00909466])"
      ]
     },
     "execution_count": 11,
     "metadata": {},
     "output_type": "execute_result"
    }
   ],
   "source": [
    "y = np.exp(reg)/(1 + np.exp(reg))\n",
    "y"
   ]
  },
  {
   "cell_type": "markdown",
   "metadata": {},
   "source": [
    "Plot another scatter plot of the data, plus the plot of our calculated x and y values:"
   ]
  },
  {
   "cell_type": "code",
   "execution_count": 20,
   "metadata": {},
   "outputs": [
    {
     "data": {
      "text/plain": [
       "[<matplotlib.lines.Line2D at 0x1a1b707c88>]"
      ]
     },
     "execution_count": 20,
     "metadata": {},
     "output_type": "execute_result"
    },
    {
     "data": {
      "image/png": "[encoded data removed]",
      "text/plain": [
       "<Figure size 432x288 with 1 Axes>"
      ]
     },
     "metadata": {
      "needs_background": "light"
     },
     "output_type": "display_data"
    }
   ],
   "source": [
    "data.plot.scatter(x='Temperature', y='Failure')\n",
    "plt.plot(x, y)"
   ]
  },
  {
   "cell_type": "markdown",
   "metadata": {},
   "source": [
    "One way to understand how well our model works is to make a *confusion table* or *confusion matrix*, which counts how many of each type of error there are.  We can create the table using the `pred_table()` function."
   ]
  },
  {
   "cell_type": "code",
   "execution_count": 21,
   "metadata": {},
   "outputs": [
    {
     "data": {
      "text/plain": [
       "array([[16.,  0.],\n",
       "       [ 3.,  4.]])"
      ]
     },
     "execution_count": 21,
     "metadata": {},
     "output_type": "execute_result"
    }
   ],
   "source": [
    "logit_model.pred_table()"
   ]
  },
  {
   "cell_type": "markdown",
   "metadata": {},
   "source": [
    "The confusion matrix can be read as follows:\n",
    "<code>   \n",
    "                        predicted\n",
    "             |    0           |      1      |\n",
    "             --------------------------------\n",
    "observed | 0 | true negative  | false positive\n",
    "         | 1 | false negative | true positive\n",
    "</code>\n"
   ]
  },
  {
   "cell_type": "markdown",
   "metadata": {},
   "source": [
    "How many correct predictions did the model make?   What kind of wrong predictions did the model make?"
   ]
  },
  {
   "cell_type": "markdown",
   "metadata": {},
   "source": [
    "# Pima (Akimel Oʼodham) Indian Diabetes data\n",
    "\n",
    "The Akimel O'odham people, who were also known as the Pima Indians since European colonization of the US, currently have a high prevalence of diabetes.   A data set of different possible diabetes indicators and whether the person has diabetes is on [Kaggle](ttps://www.kaggle.com/uciml/pima-indians-diabetes-database) or available [here](http://comet.lehman.cuny.edu/owen/teaching/mat328/diabetes.csv).\n",
    "\n",
    "Read in the dataset."
   ]
  },
  {
   "cell_type": "code",
   "execution_count": null,
   "metadata": {
    "collapsed": true
   },
   "outputs": [],
   "source": []
  },
  {
   "cell_type": "markdown",
   "metadata": {},
   "source": [
    "Plot a scatter plot of glucose vs. diabetes."
   ]
  },
  {
   "cell_type": "code",
   "execution_count": null,
   "metadata": {
    "collapsed": true
   },
   "outputs": [],
   "source": []
  },
  {
   "cell_type": "markdown",
   "metadata": {},
   "source": [
    "Fit a logistic regression model to this data."
   ]
  },
  {
   "cell_type": "code",
   "execution_count": null,
   "metadata": {
    "collapsed": true
   },
   "outputs": [],
   "source": []
  },
  {
   "cell_type": "markdown",
   "metadata": {},
   "source": [
    "Plot the model equation on top of your scatter plot."
   ]
  },
  {
   "cell_type": "code",
   "execution_count": null,
   "metadata": {
    "collapsed": true
   },
   "outputs": [],
   "source": []
  },
  {
   "cell_type": "markdown",
   "metadata": {},
   "source": [
    "What does the confusion table tell you about the fit of this model?"
   ]
  }
 ],
 "metadata": {
  "kernelspec": {
   "display_name": "Python 3",
   "language": "python",
   "name": "python3"
  },
  "language_info": {
   "codemirror_mode": {
    "name": "ipython",
    "version": 3
   },
   "file_extension": ".py",
   "mimetype": "text/x-python",
   "name": "python",
   "nbconvert_exporter": "python",
   "pygments_lexer": "ipython3",
   "version": "3.7.3"
  }
 },
 "nbformat": 4,
 "nbformat_minor": 2
}
