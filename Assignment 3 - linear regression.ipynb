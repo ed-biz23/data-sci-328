{
 "cells": [
  {
   "cell_type": "markdown",
   "metadata": {},
   "source": [
    "# Assignment 3\n",
    "\n",
    "This assignment uses the weather data from Lab 1, from [https://github.com/fivethirtyeight/data/tree/master/us-weather-history](https://github.com/fivethirtyeight/data/tree/master/us-weather-history).  We used the KNYC.csv in Lab 1, and will also use KCLT.csv, which is the weather data for Charlotte, NC, in this assignment.\n",
    "\n",
    "This assignment will look at different ways to predict the actual maximum daily temperature in New York using linear regression.  The actual maximum temperature was the maximum temperature recorded on that day.\n",
    "\n",
    "1. Predicting the NYC actual max temperature from the NYC average max temperature:\n",
    "    \n",
    "    a. Use regplot from Seaborn to create a scatter plot of the average max temperature (on x axis) vs. the actual max temperature (on y axis) with the regression line.  Do you think this data has a linear relationship?\n",
    "    \n",
    "    b. Compute the linear regression model where the independent variable is the average max temperature and the dependent variable is the actual max temperature.  What is the equation for the linear model?  What proportion of the variance is explained by the model (R-squared)?\n",
    "    \n",
    "    c. Plot a histogram of the residuals of your model from part b.  Describe their distribution.  Based on this and your results from parts a and b, do you think this linear model is a good fit?  Why or why not?\n",
    "    \n",
    "2. Predicting the NYC actual max temperature from the Charlotte actual max temperature:\n",
    "    Note:  To easily perform the following analysis, add the column of actual max temperatures from the Charlotte weather data to your NYC weather dataframe.  \n",
    "    ex.  `nyc_weather_df[\"name_of_new_column\"] = charlotte_weather_df[\"actual_max_temp\"]`\n",
    "    \n",
    "    a. Use regplot from Seaborn to create a scatter plot of the Charlotte actual max temperature (on x axis) vs. the NYC actual max temperature (on y axis) with the regression line.  Do you think this data has a linear relationship?\n",
    "    \n",
    "    b. Compute the linear regression model where the independent variable is the average max temperature and the dependent variable is the actual max temperature.  What proportion of the variance is explained by the model?\n",
    "    \n",
    "    c. Predict the NYC actual max temperature if the Charlotte max temperature is 32F, 60F, and 80F.\n",
    "    \n",
    "    d. Plot a histogram of the residuals of your model from part b.  Describe their distribution.\n",
    "    \n",
    "    e. Make a scatter plot of the NYC actual max temperaturs (x axis) vs. the residuals from your linear model.  If you are using `plt.scatter()` you can add a horizontal line to your plot at 0 with the code `plt.axhline(0)`.  What do you notice about how the residuals are distributed above and below this line?  What tempertures will be overestimated by this model?  What temperatures will be underestimated by this model?\n",
    "    \n",
    "    f. Based on the previous parts, do you think this linear model is a good fit?\n",
    "    \n",
    "3. Predicting the NYC actual max temperature from both the average max temperature and the Charlotte actual max temperature:\n",
    "    a. Compute a linear regression model with both the average max temperature and the Charlotte actual max temperature as the independent variables.  What proportion of variance is explained by this model?\n",
    "    \n",
    "    b. Plot a histogram of the residuals. Describe their distribution.\n",
    "    \n",
    "    c. Make a scatter plot of the NYC actual max temperatures (x axis) and the fitted NYC actual max temperatures (y axis).  What do you notice about the plot?"
   ]
  },
  {
   "cell_type": "markdown",
   "metadata": {},
   "source": [
    "# Edward Biswas"
   ]
  },
  {
   "cell_type": "code",
   "execution_count": 1,
   "metadata": {},
   "outputs": [],
   "source": [
    "import pandas as pd\n",
    "import matplotlib.pyplot as plt\n",
    "import statsmodels.formula.api as smf\n",
    "import seaborn as sns\n",
    "import numpy as np\n",
    "from sklearn.model_selection import train_test_split\n",
    "from sklearn import datasets, linear_model\n",
    "from sklearn.model_selection import KFold\n",
    "\n",
    "\n",
    "%matplotlib inline"
   ]
  },
  {
   "cell_type": "markdown",
   "metadata": {},
   "source": [
    "Predicting the NYC actual max temperature from the NYC average max temperature:\n",
    "\n",
    "a. Use regplot from Seaborn to create a scatter plot of the average max temperature (on x axis) vs. the actual max temperature (on y axis) with the regression line. Do you think this data has a linear relationship?\n",
    "\n",
    "b. Compute the linear regression model where the independent variable is the average max temperature and the dependent variable is the actual max temperature. What is the equation for the linear model? What proportion of the variance is explained by the model (R-squared)?\n",
    "\n",
    "c. Plot a histogram of the residuals of your model from part b. Describe their distribution. Based on this and your results from parts a and b, do you think this linear model is a good fit? Why or why not?"
   ]
  },
  {
   "cell_type": "code",
   "execution_count": 3,
   "metadata": {},
   "outputs": [],
   "source": [
    "nyc_weather = pd.read_csv('KNYC.csv')"
   ]
  },
  {
   "cell_type": "code",
   "execution_count": 6,
   "metadata": {},
   "outputs": [
    {
     "data": {
      "text/html": [
       "<div>\n",
       "<style scoped>\n",
       "    .dataframe tbody tr th:only-of-type {\n",
       "        vertical-align: middle;\n",
       "    }\n",
       "\n",
       "    .dataframe tbody tr th {\n",
       "        vertical-align: top;\n",
       "    }\n",
       "\n",
       "    .dataframe thead th {\n",
       "        text-align: right;\n",
       "    }\n",
       "</style>\n",
       "<table border=\"1\" class=\"dataframe\">\n",
       "  <thead>\n",
       "    <tr style=\"text-align: right;\">\n",
       "      <th></th>\n",
       "      <th>date</th>\n",
       "      <th>actual_mean_temp</th>\n",
       "      <th>actual_min_temp</th>\n",
       "      <th>actual_max_temp</th>\n",
       "      <th>average_min_temp</th>\n",
       "      <th>average_max_temp</th>\n",
       "      <th>record_min_temp</th>\n",
       "      <th>record_max_temp</th>\n",
       "      <th>record_min_temp_year</th>\n",
       "      <th>record_max_temp_year</th>\n",
       "      <th>actual_precipitation</th>\n",
       "      <th>average_precipitation</th>\n",
       "      <th>record_precipitation</th>\n",
       "    </tr>\n",
       "  </thead>\n",
       "  <tbody>\n",
       "    <tr>\n",
       "      <th>0</th>\n",
       "      <td>2014-7-1</td>\n",
       "      <td>81</td>\n",
       "      <td>70</td>\n",
       "      <td>91</td>\n",
       "      <td>67</td>\n",
       "      <td>89</td>\n",
       "      <td>56</td>\n",
       "      <td>104</td>\n",
       "      <td>1919</td>\n",
       "      <td>2012</td>\n",
       "      <td>0.00</td>\n",
       "      <td>0.10</td>\n",
       "      <td>5.91</td>\n",
       "    </tr>\n",
       "    <tr>\n",
       "      <th>1</th>\n",
       "      <td>2014-7-2</td>\n",
       "      <td>85</td>\n",
       "      <td>74</td>\n",
       "      <td>95</td>\n",
       "      <td>68</td>\n",
       "      <td>89</td>\n",
       "      <td>56</td>\n",
       "      <td>101</td>\n",
       "      <td>2008</td>\n",
       "      <td>1931</td>\n",
       "      <td>0.00</td>\n",
       "      <td>0.10</td>\n",
       "      <td>1.53</td>\n",
       "    </tr>\n",
       "    <tr>\n",
       "      <th>2</th>\n",
       "      <td>2014-7-3</td>\n",
       "      <td>82</td>\n",
       "      <td>71</td>\n",
       "      <td>93</td>\n",
       "      <td>68</td>\n",
       "      <td>89</td>\n",
       "      <td>56</td>\n",
       "      <td>99</td>\n",
       "      <td>2010</td>\n",
       "      <td>1931</td>\n",
       "      <td>0.14</td>\n",
       "      <td>0.11</td>\n",
       "      <td>2.50</td>\n",
       "    </tr>\n",
       "    <tr>\n",
       "      <th>3</th>\n",
       "      <td>2014-7-4</td>\n",
       "      <td>75</td>\n",
       "      <td>64</td>\n",
       "      <td>86</td>\n",
       "      <td>68</td>\n",
       "      <td>89</td>\n",
       "      <td>55</td>\n",
       "      <td>99</td>\n",
       "      <td>1933</td>\n",
       "      <td>1955</td>\n",
       "      <td>0.00</td>\n",
       "      <td>0.10</td>\n",
       "      <td>2.63</td>\n",
       "    </tr>\n",
       "    <tr>\n",
       "      <th>4</th>\n",
       "      <td>2014-7-5</td>\n",
       "      <td>72</td>\n",
       "      <td>60</td>\n",
       "      <td>84</td>\n",
       "      <td>68</td>\n",
       "      <td>89</td>\n",
       "      <td>57</td>\n",
       "      <td>100</td>\n",
       "      <td>1967</td>\n",
       "      <td>1954</td>\n",
       "      <td>0.00</td>\n",
       "      <td>0.10</td>\n",
       "      <td>1.65</td>\n",
       "    </tr>\n",
       "  </tbody>\n",
       "</table>\n",
       "</div>"
      ],
      "text/plain": [
       "       date  actual_mean_temp  actual_min_temp  actual_max_temp  \\\n",
       "0  2014-7-1                81               70               91   \n",
       "1  2014-7-2                85               74               95   \n",
       "2  2014-7-3                82               71               93   \n",
       "3  2014-7-4                75               64               86   \n",
       "4  2014-7-5                72               60               84   \n",
       "\n",
       "   average_min_temp  average_max_temp  record_min_temp  record_max_temp  \\\n",
       "0                67                89               56              104   \n",
       "1                68                89               56              101   \n",
       "2                68                89               56               99   \n",
       "3                68                89               55               99   \n",
       "4                68                89               57              100   \n",
       "\n",
       "   record_min_temp_year  record_max_temp_year  actual_precipitation  \\\n",
       "0                  1919                  2012                  0.00   \n",
       "1                  2008                  1931                  0.00   \n",
       "2                  2010                  1931                  0.14   \n",
       "3                  1933                  1955                  0.00   \n",
       "4                  1967                  1954                  0.00   \n",
       "\n",
       "   average_precipitation  record_precipitation  \n",
       "0                   0.10                  5.91  \n",
       "1                   0.10                  1.53  \n",
       "2                   0.11                  2.50  \n",
       "3                   0.10                  2.63  \n",
       "4                   0.10                  1.65  "
      ]
     },
     "execution_count": 6,
     "metadata": {},
     "output_type": "execute_result"
    }
   ],
   "source": [
    "clt_weather = pd.read_csv('KCLT.csv')\n",
    "clt_weather.head()"
   ]
  },
  {
   "cell_type": "code",
   "execution_count": 7,
   "metadata": {},
   "outputs": [
    {
     "data": {
      "text/plain": [
       "<matplotlib.axes._subplots.AxesSubplot at 0x11af31550>"
      ]
     },
     "execution_count": 7,
     "metadata": {},
     "output_type": "execute_result"
    },
    {
     "data": {
      "image/png": "[encoded data removed]",
      "text/plain": [
       "<Figure size 432x288 with 1 Axes>"
      ]
     },
     "metadata": {
      "needs_background": "light"
     },
     "output_type": "display_data"
    }
   ],
   "source": [
    "sns.regplot(data=nyc_weather, x='average_max_temp', y='actual_max_temp')"
   ]
  },
  {
   "cell_type": "markdown",
   "metadata": {},
   "source": [
    "Yes, the data has linear relationship."
   ]
  },
  {
   "cell_type": "code",
   "execution_count": 29,
   "metadata": {},
   "outputs": [
    {
     "data": {
      "text/html": [
       "<table class=\"simpletable\">\n",
       "<caption>OLS Regression Results</caption>\n",
       "<tr>\n",
       "  <th>Dep. Variable:</th>     <td>actual_max_temp</td> <th>  R-squared:         </th> <td>   0.830</td> \n",
       "</tr>\n",
       "<tr>\n",
       "  <th>Model:</th>                   <td>OLS</td>       <th>  Adj. R-squared:    </th> <td>   0.830</td> \n",
       "</tr>\n",
       "<tr>\n",
       "  <th>Method:</th>             <td>Least Squares</td>  <th>  F-statistic:       </th> <td>   1776.</td> \n",
       "</tr>\n",
       "<tr>\n",
       "  <th>Date:</th>             <td>Tue, 08 Oct 2019</td> <th>  Prob (F-statistic):</th> <td>7.37e-142</td>\n",
       "</tr>\n",
       "<tr>\n",
       "  <th>Time:</th>                 <td>16:52:46</td>     <th>  Log-Likelihood:    </th> <td> -1277.0</td> \n",
       "</tr>\n",
       "<tr>\n",
       "  <th>No. Observations:</th>      <td>   365</td>      <th>  AIC:               </th> <td>   2558.</td> \n",
       "</tr>\n",
       "<tr>\n",
       "  <th>Df Residuals:</th>          <td>   363</td>      <th>  BIC:               </th> <td>   2566.</td> \n",
       "</tr>\n",
       "<tr>\n",
       "  <th>Df Model:</th>              <td>     1</td>      <th>                     </th>     <td> </td>    \n",
       "</tr>\n",
       "<tr>\n",
       "  <th>Covariance Type:</th>      <td>nonrobust</td>    <th>                     </th>     <td> </td>    \n",
       "</tr>\n",
       "</table>\n",
       "<table class=\"simpletable\">\n",
       "<tr>\n",
       "          <td></td>            <th>coef</th>     <th>std err</th>      <th>t</th>      <th>P>|t|</th>  <th>[0.025</th>    <th>0.975]</th>  \n",
       "</tr>\n",
       "<tr>\n",
       "  <th>Intercept</th>        <td>   -6.7238</td> <td>    1.678</td> <td>   -4.007</td> <td> 0.000</td> <td>  -10.024</td> <td>   -3.424</td>\n",
       "</tr>\n",
       "<tr>\n",
       "  <th>average_max_temp</th> <td>    1.1027</td> <td>    0.026</td> <td>   42.137</td> <td> 0.000</td> <td>    1.051</td> <td>    1.154</td>\n",
       "</tr>\n",
       "</table>\n",
       "<table class=\"simpletable\">\n",
       "<tr>\n",
       "  <th>Omnibus:</th>       <td> 0.665</td> <th>  Durbin-Watson:     </th> <td>   0.867</td>\n",
       "</tr>\n",
       "<tr>\n",
       "  <th>Prob(Omnibus):</th> <td> 0.717</td> <th>  Jarque-Bera (JB):  </th> <td>   0.714</td>\n",
       "</tr>\n",
       "<tr>\n",
       "  <th>Skew:</th>          <td> 0.101</td> <th>  Prob(JB):          </th> <td>   0.700</td>\n",
       "</tr>\n",
       "<tr>\n",
       "  <th>Kurtosis:</th>      <td> 2.924</td> <th>  Cond. No.          </th> <td>    256.</td>\n",
       "</tr>\n",
       "</table><br/><br/>Warnings:<br/>[1] Standard Errors assume that the covariance matrix of the errors is correctly specified."
      ],
      "text/plain": [
       "<class 'statsmodels.iolib.summary.Summary'>\n",
       "\"\"\"\n",
       "                            OLS Regression Results                            \n",
       "==============================================================================\n",
       "Dep. Variable:        actual_max_temp   R-squared:                       0.830\n",
       "Model:                            OLS   Adj. R-squared:                  0.830\n",
       "Method:                 Least Squares   F-statistic:                     1776.\n",
       "Date:                Tue, 08 Oct 2019   Prob (F-statistic):          7.37e-142\n",
       "Time:                        16:52:46   Log-Likelihood:                -1277.0\n",
       "No. Observations:                 365   AIC:                             2558.\n",
       "Df Residuals:                     363   BIC:                             2566.\n",
       "Df Model:                           1                                         \n",
       "Covariance Type:            nonrobust                                         \n",
       "====================================================================================\n",
       "                       coef    std err          t      P>|t|      [0.025      0.975]\n",
       "------------------------------------------------------------------------------------\n",
       "Intercept           -6.7238      1.678     -4.007      0.000     -10.024      -3.424\n",
       "average_max_temp     1.1027      0.026     42.137      0.000       1.051       1.154\n",
       "==============================================================================\n",
       "Omnibus:                        0.665   Durbin-Watson:                   0.867\n",
       "Prob(Omnibus):                  0.717   Jarque-Bera (JB):                0.714\n",
       "Skew:                           0.101   Prob(JB):                        0.700\n",
       "Kurtosis:                       2.924   Cond. No.                         256.\n",
       "==============================================================================\n",
       "\n",
       "Warnings:\n",
       "[1] Standard Errors assume that the covariance matrix of the errors is correctly specified.\n",
       "\"\"\""
      ]
     },
     "execution_count": 29,
     "metadata": {},
     "output_type": "execute_result"
    }
   ],
   "source": [
    "lm_1 = smf.ols('actual_max_temp ~ average_max_temp', data=nyc_weather).fit()\n",
    "lm_1.summary()"
   ]
  },
  {
   "cell_type": "markdown",
   "metadata": {},
   "source": [
    "𝑦=−6.7238+1.1027𝑥\n",
    "\n",
    "R squared = 83%"
   ]
  },
  {
   "cell_type": "code",
   "execution_count": 30,
   "metadata": {},
   "outputs": [
    {
     "data": {
      "text/plain": [
       "<matplotlib.axes._subplots.AxesSubplot at 0x1a1faa1c50>"
      ]
     },
     "execution_count": 30,
     "metadata": {},
     "output_type": "execute_result"
    },
    {
     "data": {
      "image/png": "[encoded data removed]",
      "text/plain": [
       "<Figure size 432x288 with 1 Axes>"
      ]
     },
     "metadata": {
      "needs_background": "light"
     },
     "output_type": "display_data"
    }
   ],
   "source": [
    "lm_1.resid.hist(bins = 25)"
   ]
  },
  {
   "cell_type": "markdown",
   "metadata": {},
   "source": [
    "Normal Distribution"
   ]
  },
  {
   "cell_type": "markdown",
   "metadata": {},
   "source": [
    "Predicting the NYC actual max temperature from the Charlotte actual max temperature: Note: To easily perform the following analysis, add the column of actual max temperatures from the Charlotte weather data to your NYC weather dataframe.\n",
    "ex. nyc_weather_df[\"name_of_new_column\"] = charlotte_weather_df[\"actual_max_temp\"]\n",
    "\n",
    "a. Use regplot from Seaborn to create a scatter plot of the Charlotte actual max temperature (on x axis) vs. the NYC actual max temperature (on y axis) with the regression line. Do you think this data has a linear relationship?\n",
    "\n",
    "b. Compute the linear regression model where the independent variable is the average max temperature and the dependent variable is the actual max temperature. What proportion of the variance is explained by the model?\n",
    "\n",
    "c. Predict the NYC actual max temperature if the Charlotte max temperature is 32F, 60F, and 80F.\n",
    "\n",
    "d. Plot a histogram of the residuals of your model from part b. Describe their distribution.\n",
    "\n",
    "e. Make a scatter plot of the NYC actual max temperaturs (x axis) vs. the residuals from your linear model. If you are using plt.scatter() you can add a horizontal line to your plot at 0 with the code plt.axhline(0). What do you notice about how the residuals are distributed above and below this line? What tempertures will be overestimated by this model? What temperatures will be underestimated by this model?\n",
    "\n",
    "f. Based on the previous parts, do you think this linear model is a good fit?"
   ]
  },
  {
   "cell_type": "code",
   "execution_count": 14,
   "metadata": {},
   "outputs": [
    {
     "data": {
      "text/html": [
       "<div>\n",
       "<style scoped>\n",
       "    .dataframe tbody tr th:only-of-type {\n",
       "        vertical-align: middle;\n",
       "    }\n",
       "\n",
       "    .dataframe tbody tr th {\n",
       "        vertical-align: top;\n",
       "    }\n",
       "\n",
       "    .dataframe thead th {\n",
       "        text-align: right;\n",
       "    }\n",
       "</style>\n",
       "<table border=\"1\" class=\"dataframe\">\n",
       "  <thead>\n",
       "    <tr style=\"text-align: right;\">\n",
       "      <th></th>\n",
       "      <th>date</th>\n",
       "      <th>actual_mean_temp</th>\n",
       "      <th>actual_min_temp</th>\n",
       "      <th>actual_max_temp</th>\n",
       "      <th>average_min_temp</th>\n",
       "      <th>average_max_temp</th>\n",
       "      <th>record_min_temp</th>\n",
       "      <th>record_max_temp</th>\n",
       "      <th>record_min_temp_year</th>\n",
       "      <th>record_max_temp_year</th>\n",
       "      <th>actual_precipitation</th>\n",
       "      <th>average_precipitation</th>\n",
       "      <th>record_precipitation</th>\n",
       "      <th>cht_actual_max_temp</th>\n",
       "    </tr>\n",
       "  </thead>\n",
       "  <tbody>\n",
       "    <tr>\n",
       "      <th>0</th>\n",
       "      <td>2014-7-1</td>\n",
       "      <td>81</td>\n",
       "      <td>72</td>\n",
       "      <td>89</td>\n",
       "      <td>68</td>\n",
       "      <td>83</td>\n",
       "      <td>52</td>\n",
       "      <td>100</td>\n",
       "      <td>1943</td>\n",
       "      <td>1901</td>\n",
       "      <td>0.00</td>\n",
       "      <td>0.12</td>\n",
       "      <td>2.17</td>\n",
       "      <td>91</td>\n",
       "    </tr>\n",
       "    <tr>\n",
       "      <th>1</th>\n",
       "      <td>2014-7-2</td>\n",
       "      <td>82</td>\n",
       "      <td>72</td>\n",
       "      <td>91</td>\n",
       "      <td>68</td>\n",
       "      <td>83</td>\n",
       "      <td>56</td>\n",
       "      <td>100</td>\n",
       "      <td>2001</td>\n",
       "      <td>1966</td>\n",
       "      <td>0.96</td>\n",
       "      <td>0.13</td>\n",
       "      <td>1.79</td>\n",
       "      <td>95</td>\n",
       "    </tr>\n",
       "    <tr>\n",
       "      <th>2</th>\n",
       "      <td>2014-7-3</td>\n",
       "      <td>78</td>\n",
       "      <td>69</td>\n",
       "      <td>87</td>\n",
       "      <td>68</td>\n",
       "      <td>83</td>\n",
       "      <td>54</td>\n",
       "      <td>103</td>\n",
       "      <td>1933</td>\n",
       "      <td>1966</td>\n",
       "      <td>1.78</td>\n",
       "      <td>0.12</td>\n",
       "      <td>2.80</td>\n",
       "      <td>93</td>\n",
       "    </tr>\n",
       "    <tr>\n",
       "      <th>3</th>\n",
       "      <td>2014-7-4</td>\n",
       "      <td>70</td>\n",
       "      <td>65</td>\n",
       "      <td>74</td>\n",
       "      <td>68</td>\n",
       "      <td>84</td>\n",
       "      <td>55</td>\n",
       "      <td>102</td>\n",
       "      <td>1986</td>\n",
       "      <td>1949</td>\n",
       "      <td>0.14</td>\n",
       "      <td>0.13</td>\n",
       "      <td>1.76</td>\n",
       "      <td>86</td>\n",
       "    </tr>\n",
       "    <tr>\n",
       "      <th>4</th>\n",
       "      <td>2014-7-5</td>\n",
       "      <td>72</td>\n",
       "      <td>63</td>\n",
       "      <td>81</td>\n",
       "      <td>68</td>\n",
       "      <td>84</td>\n",
       "      <td>53</td>\n",
       "      <td>101</td>\n",
       "      <td>1979</td>\n",
       "      <td>1999</td>\n",
       "      <td>0.00</td>\n",
       "      <td>0.12</td>\n",
       "      <td>3.07</td>\n",
       "      <td>84</td>\n",
       "    </tr>\n",
       "  </tbody>\n",
       "</table>\n",
       "</div>"
      ],
      "text/plain": [
       "       date  actual_mean_temp  actual_min_temp  actual_max_temp  \\\n",
       "0  2014-7-1                81               72               89   \n",
       "1  2014-7-2                82               72               91   \n",
       "2  2014-7-3                78               69               87   \n",
       "3  2014-7-4                70               65               74   \n",
       "4  2014-7-5                72               63               81   \n",
       "\n",
       "   average_min_temp  average_max_temp  record_min_temp  record_max_temp  \\\n",
       "0                68                83               52              100   \n",
       "1                68                83               56              100   \n",
       "2                68                83               54              103   \n",
       "3                68                84               55              102   \n",
       "4                68                84               53              101   \n",
       "\n",
       "   record_min_temp_year  record_max_temp_year  actual_precipitation  \\\n",
       "0                  1943                  1901                  0.00   \n",
       "1                  2001                  1966                  0.96   \n",
       "2                  1933                  1966                  1.78   \n",
       "3                  1986                  1949                  0.14   \n",
       "4                  1979                  1999                  0.00   \n",
       "\n",
       "   average_precipitation  record_precipitation  cht_actual_max_temp  \n",
       "0                   0.12                  2.17                   91  \n",
       "1                   0.13                  1.79                   95  \n",
       "2                   0.12                  2.80                   93  \n",
       "3                   0.13                  1.76                   86  \n",
       "4                   0.12                  3.07                   84  "
      ]
     },
     "execution_count": 14,
     "metadata": {},
     "output_type": "execute_result"
    }
   ],
   "source": [
    "nyc_weather['cht_actual_max_temp'] = clt_weather['actual_max_temp']\n",
    "nyc_weather.head()"
   ]
  },
  {
   "cell_type": "code",
   "execution_count": 15,
   "metadata": {},
   "outputs": [
    {
     "data": {
      "text/plain": [
       "<matplotlib.axes._subplots.AxesSubplot at 0x1a1f082b38>"
      ]
     },
     "execution_count": 15,
     "metadata": {},
     "output_type": "execute_result"
    },
    {
     "data": {
      "image/png": "[encoded data removed]",
      "text/plain": [
       "<Figure size 432x288 with 1 Axes>"
      ]
     },
     "metadata": {
      "needs_background": "light"
     },
     "output_type": "display_data"
    }
   ],
   "source": [
    "sns.regplot(data=nyc_weather, x='cht_actual_max_temp', y='actual_max_temp')"
   ]
  },
  {
   "cell_type": "markdown",
   "metadata": {},
   "source": [
    "Yes, the data has linear relationship."
   ]
  },
  {
   "cell_type": "code",
   "execution_count": 25,
   "metadata": {},
   "outputs": [
    {
     "data": {
      "text/html": [
       "<table class=\"simpletable\">\n",
       "<caption>OLS Regression Results</caption>\n",
       "<tr>\n",
       "  <th>Dep. Variable:</th>    <td>cht_actual_max_temp</td> <th>  R-squared:         </th> <td>   0.781</td> \n",
       "</tr>\n",
       "<tr>\n",
       "  <th>Model:</th>                    <td>OLS</td>         <th>  Adj. R-squared:    </th> <td>   0.781</td> \n",
       "</tr>\n",
       "<tr>\n",
       "  <th>Method:</th>              <td>Least Squares</td>    <th>  F-statistic:       </th> <td>   1298.</td> \n",
       "</tr>\n",
       "<tr>\n",
       "  <th>Date:</th>              <td>Tue, 08 Oct 2019</td>   <th>  Prob (F-statistic):</th> <td>6.32e-122</td>\n",
       "</tr>\n",
       "<tr>\n",
       "  <th>Time:</th>                  <td>16:52:11</td>       <th>  Log-Likelihood:    </th> <td> -1262.0</td> \n",
       "</tr>\n",
       "<tr>\n",
       "  <th>No. Observations:</th>       <td>   365</td>        <th>  AIC:               </th> <td>   2528.</td> \n",
       "</tr>\n",
       "<tr>\n",
       "  <th>Df Residuals:</th>           <td>   363</td>        <th>  BIC:               </th> <td>   2536.</td> \n",
       "</tr>\n",
       "<tr>\n",
       "  <th>Df Model:</th>               <td>     1</td>        <th>                     </th>     <td> </td>    \n",
       "</tr>\n",
       "<tr>\n",
       "  <th>Covariance Type:</th>       <td>nonrobust</td>      <th>                     </th>     <td> </td>    \n",
       "</tr>\n",
       "</table>\n",
       "<table class=\"simpletable\">\n",
       "<tr>\n",
       "         <td></td>            <th>coef</th>     <th>std err</th>      <th>t</th>      <th>P>|t|</th>  <th>[0.025</th>    <th>0.975]</th>  \n",
       "</tr>\n",
       "<tr>\n",
       "  <th>Intercept</th>       <td>   25.4659</td> <td>    1.343</td> <td>   18.958</td> <td> 0.000</td> <td>   22.824</td> <td>   28.107</td>\n",
       "</tr>\n",
       "<tr>\n",
       "  <th>actual_max_temp</th> <td>    0.7478</td> <td>    0.021</td> <td>   36.028</td> <td> 0.000</td> <td>    0.707</td> <td>    0.789</td>\n",
       "</tr>\n",
       "</table>\n",
       "<table class=\"simpletable\">\n",
       "<tr>\n",
       "  <th>Omnibus:</th>       <td> 9.620</td> <th>  Durbin-Watson:     </th> <td>   0.928</td>\n",
       "</tr>\n",
       "<tr>\n",
       "  <th>Prob(Omnibus):</th> <td> 0.008</td> <th>  Jarque-Bera (JB):  </th> <td>  10.517</td>\n",
       "</tr>\n",
       "<tr>\n",
       "  <th>Skew:</th>          <td> 0.308</td> <th>  Prob(JB):          </th> <td> 0.00520</td>\n",
       "</tr>\n",
       "<tr>\n",
       "  <th>Kurtosis:</th>      <td> 3.559</td> <th>  Cond. No.          </th> <td>    216.</td>\n",
       "</tr>\n",
       "</table><br/><br/>Warnings:<br/>[1] Standard Errors assume that the covariance matrix of the errors is correctly specified."
      ],
      "text/plain": [
       "<class 'statsmodels.iolib.summary.Summary'>\n",
       "\"\"\"\n",
       "                             OLS Regression Results                            \n",
       "===============================================================================\n",
       "Dep. Variable:     cht_actual_max_temp   R-squared:                       0.781\n",
       "Model:                             OLS   Adj. R-squared:                  0.781\n",
       "Method:                  Least Squares   F-statistic:                     1298.\n",
       "Date:                 Tue, 08 Oct 2019   Prob (F-statistic):          6.32e-122\n",
       "Time:                         16:52:11   Log-Likelihood:                -1262.0\n",
       "No. Observations:                  365   AIC:                             2528.\n",
       "Df Residuals:                      363   BIC:                             2536.\n",
       "Df Model:                            1                                         \n",
       "Covariance Type:             nonrobust                                         \n",
       "===================================================================================\n",
       "                      coef    std err          t      P>|t|      [0.025      0.975]\n",
       "-----------------------------------------------------------------------------------\n",
       "Intercept          25.4659      1.343     18.958      0.000      22.824      28.107\n",
       "actual_max_temp     0.7478      0.021     36.028      0.000       0.707       0.789\n",
       "==============================================================================\n",
       "Omnibus:                        9.620   Durbin-Watson:                   0.928\n",
       "Prob(Omnibus):                  0.008   Jarque-Bera (JB):               10.517\n",
       "Skew:                           0.308   Prob(JB):                      0.00520\n",
       "Kurtosis:                       3.559   Cond. No.                         216.\n",
       "==============================================================================\n",
       "\n",
       "Warnings:\n",
       "[1] Standard Errors assume that the covariance matrix of the errors is correctly specified.\n",
       "\"\"\""
      ]
     },
     "execution_count": 25,
     "metadata": {},
     "output_type": "execute_result"
    }
   ],
   "source": [
    "lm_2 = smf.ols('cht_actual_max_temp ~ actual_max_temp', data=nyc_weather).fit()\n",
    "lm_2.summary()"
   ]
  },
  {
   "cell_type": "markdown",
   "metadata": {},
   "source": [
    "Charlotte 32F -> NYC 20F\n",
    "\n",
    "Charlotte 60F -> NYC 50F\n",
    "\n",
    "Charlotte 80F -> NYC 70F"
   ]
  },
  {
   "cell_type": "code",
   "execution_count": 26,
   "metadata": {},
   "outputs": [
    {
     "data": {
      "text/plain": [
       "<matplotlib.axes._subplots.AxesSubplot at 0x1a1f87f208>"
      ]
     },
     "execution_count": 26,
     "metadata": {},
     "output_type": "execute_result"
    },
    {
     "data": {
      "image/png": "[encoded data removed]",
      "text/plain": [
       "<Figure size 432x288 with 1 Axes>"
      ]
     },
     "metadata": {
      "needs_background": "light"
     },
     "output_type": "display_data"
    }
   ],
   "source": [
    "lm_2.resid.hist(bins = 30)"
   ]
  },
  {
   "cell_type": "markdown",
   "metadata": {},
   "source": [
    "Normal Distribution"
   ]
  },
  {
   "cell_type": "code",
   "execution_count": 28,
   "metadata": {},
   "outputs": [
    {
     "data": {
      "text/plain": [
       "<matplotlib.lines.Line2D at 0x1a1fa866d8>"
      ]
     },
     "execution_count": 28,
     "metadata": {},
     "output_type": "execute_result"
    },
    {
     "data": {
      "image/png": "[encoded data removed]",
      "text/plain": [
       "<Figure size 432x288 with 1 Axes>"
      ]
     },
     "metadata": {
      "needs_background": "light"
     },
     "output_type": "display_data"
    }
   ],
   "source": [
    "plt.scatter(x=nyc_weather['actual_max_temp'], y=lm_2.resid)\n",
    "plt.axhline(0)"
   ]
  },
  {
   "cell_type": "markdown",
   "metadata": {},
   "source": [
    "The distribution seems to be even. \n",
    "\n",
    "I guess this model is a pretty good fit."
   ]
  },
  {
   "cell_type": "markdown",
   "metadata": {},
   "source": [
    "a. Predicting the NYC actual max temperature from both the average max temperature and the Charlotte actual max temperature: a. Compute a linear regression model with both the average max temperature and the Charlotte actual max temperature as the independent variables. What proportion of variance is explained by this model?\n",
    "\n",
    "b. Plot a histogram of the residuals. Describe their distribution.\n",
    "\n",
    "c. Make a scatter plot of the NYC actual max temperatures (x axis) and the fitted NYC actual max temperatures (y axis). What do you notice about the plot?"
   ]
  },
  {
   "cell_type": "code",
   "execution_count": 22,
   "metadata": {},
   "outputs": [
    {
     "data": {
      "text/html": [
       "<table class=\"simpletable\">\n",
       "<caption>OLS Regression Results</caption>\n",
       "<tr>\n",
       "  <th>Dep. Variable:</th>     <td>actual_max_temp</td> <th>  R-squared:         </th> <td>   0.874</td> \n",
       "</tr>\n",
       "<tr>\n",
       "  <th>Model:</th>                   <td>OLS</td>       <th>  Adj. R-squared:    </th> <td>   0.873</td> \n",
       "</tr>\n",
       "<tr>\n",
       "  <th>Method:</th>             <td>Least Squares</td>  <th>  F-statistic:       </th> <td>   1257.</td> \n",
       "</tr>\n",
       "<tr>\n",
       "  <th>Date:</th>             <td>Tue, 08 Oct 2019</td> <th>  Prob (F-statistic):</th> <td>1.19e-163</td>\n",
       "</tr>\n",
       "<tr>\n",
       "  <th>Time:</th>                 <td>16:51:48</td>     <th>  Log-Likelihood:    </th> <td> -1222.4</td> \n",
       "</tr>\n",
       "<tr>\n",
       "  <th>No. Observations:</th>      <td>   365</td>      <th>  AIC:               </th> <td>   2451.</td> \n",
       "</tr>\n",
       "<tr>\n",
       "  <th>Df Residuals:</th>          <td>   362</td>      <th>  BIC:               </th> <td>   2462.</td> \n",
       "</tr>\n",
       "<tr>\n",
       "  <th>Df Model:</th>              <td>     2</td>      <th>                     </th>     <td> </td>    \n",
       "</tr>\n",
       "<tr>\n",
       "  <th>Covariance Type:</th>      <td>nonrobust</td>    <th>                     </th>     <td> </td>    \n",
       "</tr>\n",
       "</table>\n",
       "<table class=\"simpletable\">\n",
       "<tr>\n",
       "           <td></td>              <th>coef</th>     <th>std err</th>      <th>t</th>      <th>P>|t|</th>  <th>[0.025</th>    <th>0.975]</th>  \n",
       "</tr>\n",
       "<tr>\n",
       "  <th>Intercept</th>           <td>  -15.0091</td> <td>    1.624</td> <td>   -9.242</td> <td> 0.000</td> <td>  -18.203</td> <td>  -11.815</td>\n",
       "</tr>\n",
       "<tr>\n",
       "  <th>average_max_temp</th>    <td>    0.6962</td> <td>    0.043</td> <td>   16.328</td> <td> 0.000</td> <td>    0.612</td> <td>    0.780</td>\n",
       "</tr>\n",
       "<tr>\n",
       "  <th>cht_actual_max_temp</th> <td>    0.4680</td> <td>    0.042</td> <td>   11.235</td> <td> 0.000</td> <td>    0.386</td> <td>    0.550</td>\n",
       "</tr>\n",
       "</table>\n",
       "<table class=\"simpletable\">\n",
       "<tr>\n",
       "  <th>Omnibus:</th>       <td> 2.483</td> <th>  Durbin-Watson:     </th> <td>   0.984</td>\n",
       "</tr>\n",
       "<tr>\n",
       "  <th>Prob(Omnibus):</th> <td> 0.289</td> <th>  Jarque-Bera (JB):  </th> <td>   2.568</td>\n",
       "</tr>\n",
       "<tr>\n",
       "  <th>Skew:</th>          <td>-0.034</td> <th>  Prob(JB):          </th> <td>   0.277</td>\n",
       "</tr>\n",
       "<tr>\n",
       "  <th>Kurtosis:</th>      <td> 3.405</td> <th>  Cond. No.          </th> <td>    437.</td>\n",
       "</tr>\n",
       "</table><br/><br/>Warnings:<br/>[1] Standard Errors assume that the covariance matrix of the errors is correctly specified."
      ],
      "text/plain": [
       "<class 'statsmodels.iolib.summary.Summary'>\n",
       "\"\"\"\n",
       "                            OLS Regression Results                            \n",
       "==============================================================================\n",
       "Dep. Variable:        actual_max_temp   R-squared:                       0.874\n",
       "Model:                            OLS   Adj. R-squared:                  0.873\n",
       "Method:                 Least Squares   F-statistic:                     1257.\n",
       "Date:                Tue, 08 Oct 2019   Prob (F-statistic):          1.19e-163\n",
       "Time:                        16:51:48   Log-Likelihood:                -1222.4\n",
       "No. Observations:                 365   AIC:                             2451.\n",
       "Df Residuals:                     362   BIC:                             2462.\n",
       "Df Model:                           2                                         \n",
       "Covariance Type:            nonrobust                                         \n",
       "=======================================================================================\n",
       "                          coef    std err          t      P>|t|      [0.025      0.975]\n",
       "---------------------------------------------------------------------------------------\n",
       "Intercept             -15.0091      1.624     -9.242      0.000     -18.203     -11.815\n",
       "average_max_temp        0.6962      0.043     16.328      0.000       0.612       0.780\n",
       "cht_actual_max_temp     0.4680      0.042     11.235      0.000       0.386       0.550\n",
       "==============================================================================\n",
       "Omnibus:                        2.483   Durbin-Watson:                   0.984\n",
       "Prob(Omnibus):                  0.289   Jarque-Bera (JB):                2.568\n",
       "Skew:                          -0.034   Prob(JB):                        0.277\n",
       "Kurtosis:                       3.405   Cond. No.                         437.\n",
       "==============================================================================\n",
       "\n",
       "Warnings:\n",
       "[1] Standard Errors assume that the covariance matrix of the errors is correctly specified.\n",
       "\"\"\""
      ]
     },
     "execution_count": 22,
     "metadata": {},
     "output_type": "execute_result"
    }
   ],
   "source": [
    "lm_3 = smf.ols('actual_max_temp ~ average_max_temp + cht_actual_max_temp', data=nyc_weather).fit()\n",
    "lm_3.summary()"
   ]
  },
  {
   "cell_type": "markdown",
   "metadata": {},
   "source": [
    "R-squared = 87.3%"
   ]
  },
  {
   "cell_type": "code",
   "execution_count": 23,
   "metadata": {},
   "outputs": [
    {
     "data": {
      "text/plain": [
       "<matplotlib.axes._subplots.AxesSubplot at 0x1a1f671c18>"
      ]
     },
     "execution_count": 23,
     "metadata": {},
     "output_type": "execute_result"
    },
    {
     "data": {
      "image/png": "[encoded data removed]",
      "text/plain": [
       "<Figure size 432x288 with 1 Axes>"
      ]
     },
     "metadata": {
      "needs_background": "light"
     },
     "output_type": "display_data"
    }
   ],
   "source": [
    "lm_3.resid.hist(bins=30)"
   ]
  },
  {
   "cell_type": "markdown",
   "metadata": {},
   "source": [
    "Normal Distribution "
   ]
  },
  {
   "cell_type": "code",
   "execution_count": 24,
   "metadata": {},
   "outputs": [
    {
     "data": {
      "text/plain": [
       "<matplotlib.collections.PathCollection at 0x1a1f7db6a0>"
      ]
     },
     "execution_count": 24,
     "metadata": {},
     "output_type": "execute_result"
    },
    {
     "data": {
      "image/png": "[encoded data removed]",
      "text/plain": [
       "<Figure size 432x288 with 1 Axes>"
      ]
     },
     "metadata": {
      "needs_background": "light"
     },
     "output_type": "display_data"
    }
   ],
   "source": [
    "plt.scatter(x=nyc_weather['actual_max_temp'], y=lm_3.resid)"
   ]
  },
  {
   "cell_type": "markdown",
   "metadata": {},
   "source": [
    "This scatter plot is very similar to the previous model."
   ]
  },
  {
   "cell_type": "code",
   "execution_count": null,
   "metadata": {},
   "outputs": [],
   "source": []
  }
 ],
 "metadata": {
  "kernelspec": {
   "display_name": "Python 3",
   "language": "python",
   "name": "python3"
  },
  "language_info": {
   "codemirror_mode": {
    "name": "ipython",
    "version": 3
   },
   "file_extension": ".py",
   "mimetype": "text/x-python",
   "name": "python",
   "nbconvert_exporter": "python",
   "pygments_lexer": "ipython3",
   "version": "3.7.3"
  }
 },
 "nbformat": 4,
 "nbformat_minor": 2
}
